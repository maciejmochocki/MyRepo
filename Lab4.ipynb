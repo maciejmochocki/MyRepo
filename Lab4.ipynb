{
  "nbformat": 4,
  "nbformat_minor": 0,
  "metadata": {
    "colab": {
      "name": "Lab4.ipynb",
      "provenance": [],
      "collapsed_sections": [],
      "authorship_tag": "ABX9TyNwgI25YjuLERNfXYd8zd8O",
      "include_colab_link": true
    },
    "kernelspec": {
      "name": "python3",
      "display_name": "Python 3"
    }
  },
  "cells": [
    {
      "cell_type": "markdown",
      "metadata": {
        "id": "view-in-github",
        "colab_type": "text"
      },
      "source": [
        "<a href=\"https://colab.research.google.com/github/maciejmochocki/MyRepo/blob/main/Lab4.ipynb\" target=\"_parent\"><img src=\"https://colab.research.google.com/assets/colab-badge.svg\" alt=\"Open In Colab\"/></a>"
      ]
    },
    {
      "cell_type": "code",
      "metadata": {
        "id": "0-YJQtL8Js2e"
      },
      "source": [
        "from keras.models import Sequential\r\n",
        "from keras.layers import Activation, Dense, Dropout\r\n",
        "from keras.optimizers import Adam\r\n",
        "from keras.callbacks import EarlyStopping\r\n",
        "\r\n",
        "import numpy as np\r\n",
        "import matplotlib.pyplot as plt"
      ],
      "execution_count": null,
      "outputs": []
    },
    {
      "cell_type": "code",
      "metadata": {
        "colab": {
          "base_uri": "https://localhost:8080/"
        },
        "id": "K_aue6adLBTm",
        "outputId": "88e81415-cbcb-4678-d946-0984cab54818"
      },
      "source": [
        "def funct(x):\r\n",
        "  return x*x*x*np.sin(2*x)+np.log(x)\r\n",
        "\r\n",
        "size = 150\r\n",
        "low=0\r\n",
        "high=12\r\n",
        "error=25\r\n",
        "\r\n",
        "XX_train = np.random.uniform(low=low, high=high, size=size)\r\n",
        "XX_test = np.random.uniform(low=low, high=high, size=size)\r\n",
        "yy_train = funct(XX_train) + np.random.normal(0., error, size)\r\n",
        "yy_test = funct(XX_test) + np.random.normal(0., error, size)\r\n",
        "\r\n",
        "print(XX_train.shape, yy_train.shape)"
      ],
      "execution_count": null,
      "outputs": [
        {
          "output_type": "stream",
          "text": [
            "(150,) (150,)\n"
          ],
          "name": "stdout"
        }
      ]
    },
    {
      "cell_type": "code",
      "metadata": {
        "id": "7iTfioqwS5q3",
        "colab": {
          "base_uri": "https://localhost:8080/",
          "height": 479
        },
        "outputId": "9b153bdb-c41a-49ce-8f8e-e22a674869d4"
      },
      "source": [
        "fig = plt.figure(figsize=(7,7))\r\n",
        "\r\n",
        "plt.plot(XX_train,yy_train, 'o', color='blue', label='Training points')\r\n",
        "plt.plot(XX_test,yy_test, 'o', color='green', label='Testing points')\r\n",
        "\r\n",
        "points = np.linspace(low, high,num=100)\r\n",
        "plt.plot(points, funct(points),  color='red', label='Function')\r\n",
        "plt.legend()\r\n",
        "\r\n",
        "\r\n",
        "plt.show"
      ],
      "execution_count": null,
      "outputs": [
        {
          "output_type": "stream",
          "text": [
            "/usr/local/lib/python3.6/dist-packages/ipykernel_launcher.py:2: RuntimeWarning: divide by zero encountered in log\n",
            "  \n"
          ],
          "name": "stderr"
        },
        {
          "output_type": "execute_result",
          "data": {
            "text/plain": [
              "<function matplotlib.pyplot.show>"
            ]
          },
          "metadata": {
            "tags": []
          },
          "execution_count": 5
        },
        {
          "output_type": "display_data",
          "data": {
            "image/png": "[encoded data removed]",
            "text/plain": [
              "<Figure size 504x504 with 1 Axes>"
            ]
          },
          "metadata": {
            "tags": [],
            "needs_background": "light"
          }
        }
      ]
    },
    {
      "cell_type": "code",
      "metadata": {
        "id": "6blyHL2twsF9"
      },
      "source": [
        "mean = XX_train.mean(axis=0)\r\n",
        "XX_train_n = XX_train-mean\r\n",
        "std = XX_train_n.std(axis=0)\r\n",
        "XX_train_n /= std\r\n",
        "\r\n",
        "# to samo dla X_test\r\n",
        "XX_test_n = XX_test - mean\r\n",
        "XX_test_n /= std\r\n",
        "\r\n",
        "# A teraz to samo dla yy_train i yy_test\r\n",
        "mean1 = yy_train.mean(axis=0)\r\n",
        "yy_train_n = yy_train-mean1\r\n",
        "std1 = yy_train_n.std(axis=0)\r\n",
        "yy_train_n /= std1\r\n",
        "# to samo dla y_test\r\n",
        "yy_test_n = yy_test - mean1\r\n",
        "yy_test_n /= std1"
      ],
      "execution_count": null,
      "outputs": []
    },
    {
      "cell_type": "code",
      "metadata": {
        "colab": {
          "base_uri": "https://localhost:8080/"
        },
        "id": "GFo4_1z3w66W",
        "outputId": "213b14a8-fbe6-4a8d-8800-fbf696b66a86"
      },
      "source": [
        "# install optuna\r\n",
        "! pip install optuna"
      ],
      "execution_count": null,
      "outputs": [
        {
          "output_type": "stream",
          "text": [
            "Collecting optuna\n",
            "\u001b[?25l  Downloading https://files.pythonhosted.org/packages/87/10/06b58f4120f26b603d905a594650440ea1fd74476b8b360dbf01e111469b/optuna-2.3.0.tar.gz (258kB)\n",
            "\r\u001b[K     |█▎                              | 10kB 15.3MB/s eta 0:00:01\r\u001b[K     |██▌                             | 20kB 21.1MB/s eta 0:00:01\r\u001b[K     |███▉                            | 30kB 11.4MB/s eta 0:00:01\r\u001b[K     |█████                           | 40kB 8.4MB/s eta 0:00:01\r\u001b[K     |██████▍                         | 51kB 4.4MB/s eta 0:00:01\r\u001b[K     |███████▋                        | 61kB 4.9MB/s eta 0:00:01\r\u001b[K     |████████▉                       | 71kB 5.0MB/s eta 0:00:01\r\u001b[K     |██████████▏                     | 81kB 5.5MB/s eta 0:00:01\r\u001b[K     |███████████▍                    | 92kB 5.8MB/s eta 0:00:01\r\u001b[K     |████████████▊                   | 102kB 5.9MB/s eta 0:00:01\r\u001b[K     |██████████████                  | 112kB 5.9MB/s eta 0:00:01\r\u001b[K     |███████████████▏                | 122kB 5.9MB/s eta 0:00:01\r\u001b[K     |████████████████▌               | 133kB 5.9MB/s eta 0:00:01\r\u001b[K     |█████████████████▊              | 143kB 5.9MB/s eta 0:00:01\r\u001b[K     |███████████████████             | 153kB 5.9MB/s eta 0:00:01\r\u001b[K     |████████████████████▎           | 163kB 5.9MB/s eta 0:00:01\r\u001b[K     |█████████████████████▌          | 174kB 5.9MB/s eta 0:00:01\r\u001b[K     |██████████████████████▉         | 184kB 5.9MB/s eta 0:00:01\r\u001b[K     |████████████████████████        | 194kB 5.9MB/s eta 0:00:01\r\u001b[K     |█████████████████████████▍      | 204kB 5.9MB/s eta 0:00:01\r\u001b[K     |██████████████████████████▋     | 215kB 5.9MB/s eta 0:00:01\r\u001b[K     |███████████████████████████▉    | 225kB 5.9MB/s eta 0:00:01\r\u001b[K     |█████████████████████████████▏  | 235kB 5.9MB/s eta 0:00:01\r\u001b[K     |██████████████████████████████▍ | 245kB 5.9MB/s eta 0:00:01\r\u001b[K     |███████████████████████████████▊| 256kB 5.9MB/s eta 0:00:01\r\u001b[K     |████████████████████████████████| 266kB 5.9MB/s \n",
            "\u001b[?25h  Installing build dependencies ... \u001b[?25l\u001b[?25hdone\n",
            "  Getting requirements to build wheel ... \u001b[?25l\u001b[?25hdone\n",
            "    Preparing wheel metadata ... \u001b[?25l\u001b[?25hdone\n",
            "Collecting cliff\n",
            "\u001b[?25l  Downloading https://files.pythonhosted.org/packages/8a/61/5b64d73b01c1218f55c894b5ec0fb89b32c6960b7f7b3ad9f5ac0c373b9d/cliff-3.5.0-py3-none-any.whl (81kB)\n",
            "\u001b[K     |████████████████████████████████| 81kB 8.7MB/s \n",
            "\u001b[?25hRequirement already satisfied: scipy!=1.4.0 in /usr/local/lib/python3.6/dist-packages (from optuna) (1.4.1)\n",
            "Requirement already satisfied: numpy in /usr/local/lib/python3.6/dist-packages (from optuna) (1.18.5)\n",
            "Requirement already satisfied: sqlalchemy>=1.1.0 in /usr/local/lib/python3.6/dist-packages (from optuna) (1.3.20)\n",
            "Requirement already satisfied: tqdm in /usr/local/lib/python3.6/dist-packages (from optuna) (4.41.1)\n",
            "Collecting cmaes>=0.6.0\n",
            "  Downloading https://files.pythonhosted.org/packages/8d/3c/06c76ec8b54b9b1fad7f35e903fd25010fe3e0d41bd94cea5e6f12e0d651/cmaes-0.7.0-py3-none-any.whl\n",
            "Collecting alembic\n",
            "\u001b[?25l  Downloading https://files.pythonhosted.org/packages/12/aa/c261dfd7f4ba6ce4701846a2689a46e2a172e012171de4378fc2926e3bf0/alembic-1.4.3-py2.py3-none-any.whl (159kB)\n",
            "\u001b[K     |████████████████████████████████| 163kB 28.1MB/s \n",
            "\u001b[?25hCollecting colorlog\n",
            "  Downloading https://files.pythonhosted.org/packages/4e/c8/c16d30bbed11a1722060014c246d124582d1f781b26f5859d8dacc3e08e1/colorlog-4.6.2-py2.py3-none-any.whl\n",
            "Requirement already satisfied: packaging>=20.0 in /usr/local/lib/python3.6/dist-packages (from optuna) (20.7)\n",
            "Requirement already satisfied: joblib in /usr/local/lib/python3.6/dist-packages (from optuna) (0.17.0)\n",
            "Collecting stevedore>=2.0.1\n",
            "\u001b[?25l  Downloading https://files.pythonhosted.org/packages/d4/49/b602307aeac3df3384ff1fcd05da9c0376c622a6c48bb5325f28ab165b57/stevedore-3.3.0-py3-none-any.whl (49kB)\n",
            "\u001b[K     |████████████████████████████████| 51kB 6.2MB/s \n",
            "\u001b[?25hCollecting cmd2!=0.8.3,>=0.8.0\n",
            "\u001b[?25l  Downloading https://files.pythonhosted.org/packages/27/54/af6e2703f064485d717cb311d3f9440cd302a823ba6d80a020b59eae166d/cmd2-1.4.0-py3-none-any.whl (133kB)\n",
            "\u001b[K     |████████████████████████████████| 133kB 24.6MB/s \n",
            "\u001b[?25hCollecting pbr!=2.1.0,>=2.0.0\n",
            "\u001b[?25l  Downloading https://files.pythonhosted.org/packages/fb/48/69046506f6ac61c1eaa9a0d42d22d54673b69e176d30ca98e3f61513e980/pbr-5.5.1-py2.py3-none-any.whl (106kB)\n",
            "\u001b[K     |████████████████████████████████| 112kB 25.7MB/s \n",
            "\u001b[?25hCollecting PrettyTable<0.8,>=0.7.2\n",
            "  Downloading https://files.pythonhosted.org/packages/ef/30/4b0746848746ed5941f052479e7c23d2b56d174b82f4fd34a25e389831f5/prettytable-0.7.2.tar.bz2\n",
            "Requirement already satisfied: PyYAML>=3.12 in /usr/local/lib/python3.6/dist-packages (from cliff->optuna) (3.13)\n",
            "Requirement already satisfied: pyparsing>=2.1.0 in /usr/local/lib/python3.6/dist-packages (from cliff->optuna) (2.4.7)\n",
            "Requirement already satisfied: six>=1.10.0 in /usr/local/lib/python3.6/dist-packages (from cliff->optuna) (1.15.0)\n",
            "Requirement already satisfied: python-dateutil in /usr/local/lib/python3.6/dist-packages (from alembic->optuna) (2.8.1)\n",
            "Collecting Mako\n",
            "\u001b[?25l  Downloading https://files.pythonhosted.org/packages/a6/37/0e706200d22172eb8fa17d68a7ae22dec7631a0a92266634fb518a88a5b2/Mako-1.1.3-py2.py3-none-any.whl (75kB)\n",
            "\u001b[K     |████████████████████████████████| 81kB 8.5MB/s \n",
            "\u001b[?25hCollecting python-editor>=0.3\n",
            "  Downloading https://files.pythonhosted.org/packages/c6/d3/201fc3abe391bbae6606e6f1d598c15d367033332bd54352b12f35513717/python_editor-1.0.4-py3-none-any.whl\n",
            "Requirement already satisfied: importlib-metadata>=1.7.0; python_version < \"3.8\" in /usr/local/lib/python3.6/dist-packages (from stevedore>=2.0.1->cliff->optuna) (3.1.1)\n",
            "Requirement already satisfied: attrs>=16.3.0 in /usr/local/lib/python3.6/dist-packages (from cmd2!=0.8.3,>=0.8.0->cliff->optuna) (20.3.0)\n",
            "Collecting colorama>=0.3.7\n",
            "  Downloading https://files.pythonhosted.org/packages/44/98/5b86278fbbf250d239ae0ecb724f8572af1c91f4a11edf4d36a206189440/colorama-0.4.4-py2.py3-none-any.whl\n",
            "Collecting pyperclip>=1.6\n",
            "  Downloading https://files.pythonhosted.org/packages/6f/4c/0b1d507ad7e8bc31d690d04b4f475e74c2002d060f7994ce8c09612df707/pyperclip-1.8.1.tar.gz\n",
            "Requirement already satisfied: wcwidth>=0.1.7 in /usr/local/lib/python3.6/dist-packages (from cmd2!=0.8.3,>=0.8.0->cliff->optuna) (0.2.5)\n",
            "Requirement already satisfied: MarkupSafe>=0.9.2 in /usr/local/lib/python3.6/dist-packages (from Mako->alembic->optuna) (1.1.1)\n",
            "Requirement already satisfied: zipp>=0.5 in /usr/local/lib/python3.6/dist-packages (from importlib-metadata>=1.7.0; python_version < \"3.8\"->stevedore>=2.0.1->cliff->optuna) (3.4.0)\n",
            "Building wheels for collected packages: optuna\n",
            "  Building wheel for optuna (PEP 517) ... \u001b[?25l\u001b[?25hdone\n",
            "  Created wheel for optuna: filename=optuna-2.3.0-cp36-none-any.whl size=359761 sha256=7565efae05eec0de53b953de41597ca39d487b8612a6cf04781c0411038547e9\n",
            "  Stored in directory: /root/.cache/pip/wheels/fa/91/19/64b0ec6b964f89c0695a9dc6db6f851d0b54c5381a5c9cadfb\n",
            "Successfully built optuna\n",
            "Building wheels for collected packages: PrettyTable, pyperclip\n",
            "  Building wheel for PrettyTable (setup.py) ... \u001b[?25l\u001b[?25hdone\n",
            "  Created wheel for PrettyTable: filename=prettytable-0.7.2-cp36-none-any.whl size=13700 sha256=998dd417faaf8876ac88f69e053d249b109ab57916c84041864dde8037671b66\n",
            "  Stored in directory: /root/.cache/pip/wheels/80/34/1c/3967380d9676d162cb59513bd9dc862d0584e045a162095606\n",
            "  Building wheel for pyperclip (setup.py) ... \u001b[?25l\u001b[?25hdone\n",
            "  Created wheel for pyperclip: filename=pyperclip-1.8.1-cp36-none-any.whl size=11119 sha256=c3fe920e117ce36a7402c892c4c9512d3bbd2a7911e2832e070f800261c8187b\n",
            "  Stored in directory: /root/.cache/pip/wheels/44/10/3a/c830e9bb3db2c93274ea1f213a41fabde0d8cf3794251fad0c\n",
            "Successfully built PrettyTable pyperclip\n",
            "Installing collected packages: pbr, stevedore, colorama, pyperclip, cmd2, PrettyTable, cliff, cmaes, Mako, python-editor, alembic, colorlog, optuna\n",
            "  Found existing installation: prettytable 2.0.0\n",
            "    Uninstalling prettytable-2.0.0:\n",
            "      Successfully uninstalled prettytable-2.0.0\n",
            "Successfully installed Mako-1.1.3 PrettyTable-0.7.2 alembic-1.4.3 cliff-3.5.0 cmaes-0.7.0 cmd2-1.4.0 colorama-0.4.4 colorlog-4.6.2 optuna-2.3.0 pbr-5.5.1 pyperclip-1.8.1 python-editor-1.0.4 stevedore-3.3.0\n"
          ],
          "name": "stdout"
        }
      ]
    },
    {
      "cell_type": "code",
      "metadata": {
        "id": "mzdcS7yyw9IR"
      },
      "source": [
        "import optuna\r\n",
        "\r\n",
        "def objective(trial):\r\n",
        "    units = trial.suggest_discrete_uniform('units', 16,2048,1)\r\n",
        "    dropout = trial.suggest_uniform('dropout', 0, 0.8)\r\n",
        "    act = trial.suggest_categorical('activation', ['relu','sigmoid','linear'])\r\n",
        "    lr = trial.suggest_float(\"lr\", 1e-5, 1e-1, log=True)\r\n",
        "    \r\n",
        "    model0 = Sequential()\r\n",
        "    #.......\r\n",
        "    model0.add(Dense(units, activation=act, input_shape=(1,)))\r\n",
        "    model0.add(Dropout(dropout))\r\n",
        "    model0.add(Dense(units, activation=act))\r\n",
        "    model0.add(Dropout(dropout))\r\n",
        "    model0.add(Dense(1, activation='linear'))\r\n",
        "\r\n",
        "    # early stoping\r\n",
        "    es = EarlyStopping(monitor='val_loss', mode='min', verbose=1, patience=50)\r\n",
        "\r\n",
        "    model0.compile(optimizer=Adam(lr=lr),\r\n",
        "                    loss='mean_squared_error',\r\n",
        "                    metrics=['mse'])\r\n",
        "\r\n",
        "    model0.fit(XX_train_n,yy_train_n, epochs=500, batch_size=512,verbose=0, validation_data=(XX_test_n, yy_test_n), callbacks=[es])\r\n",
        "\r\n",
        "    results = model0.evaluate(XX_test_n, yy_test_n)\r\n",
        "\r\n",
        "    print('loss test data: ', results[0])\r\n",
        "    print('mse test data: ', results[1])\r\n",
        "\r\n",
        "    return results[1]"
      ],
      "execution_count": null,
      "outputs": []
    },
    {
      "cell_type": "code",
      "metadata": {
        "colab": {
          "base_uri": "https://localhost:8080/"
        },
        "id": "LvRMAuUIyY_4",
        "outputId": "9e27257f-ffff-4bda-c8f2-f14b12d654d8"
      },
      "source": [
        "study = optuna.create_study()\r\n",
        "study = optuna.create_study(direction='minimize', pruner=optuna.pruners.MedianPruner(), sampler=optuna.samplers.TPESampler() )\r\n",
        "\r\n",
        "study.optimize(objective, n_trials=20)\r\n",
        "\r\n",
        "study.best_params  # E.g. {'x': 2.0912375440412942, 'y': 1.0091490823506173}"
      ],
      "execution_count": null,
      "outputs": [
        {
          "output_type": "stream",
          "text": [
            "\u001b[32m[I 2020-12-15 00:42:27,899]\u001b[0m A new study created in memory with name: no-name-75d83312-8b49-422e-9289-2ae7047c8630\u001b[0m\n",
            "\u001b[32m[I 2020-12-15 00:42:27,905]\u001b[0m A new study created in memory with name: no-name-a6501ef2-6547-4049-8132-f33ae53f86ae\u001b[0m\n"
          ],
          "name": "stderr"
        },
        {
          "output_type": "stream",
          "text": [
            "Epoch 00406: early stopping\n",
            "5/5 [==============================] - 0s 4ms/step - loss: 0.0452 - mse: 0.0452\n"
          ],
          "name": "stdout"
        },
        {
          "output_type": "stream",
          "text": [
            "\u001b[32m[I 2020-12-15 00:42:51,543]\u001b[0m Trial 0 finished with value: 0.045244988054037094 and parameters: {'units': 1091.0, 'dropout': 0.4810814801190188, 'activation': 'relu', 'lr': 0.013430079749926981}. Best is trial 0 with value: 0.045244988054037094.\u001b[0m\n"
          ],
          "name": "stderr"
        },
        {
          "output_type": "stream",
          "text": [
            "loss test data:  0.045244988054037094\n",
            "mse test data:  0.045244988054037094\n",
            "Epoch 00131: early stopping\n",
            "5/5 [==============================] - 0s 2ms/step - loss: 0.8584 - mse: 0.8584\n"
          ],
          "name": "stdout"
        },
        {
          "output_type": "stream",
          "text": [
            "\u001b[32m[I 2020-12-15 00:42:54,868]\u001b[0m Trial 1 finished with value: 0.8583734035491943 and parameters: {'units': 294.0, 'dropout': 0.27260294861256523, 'activation': 'sigmoid', 'lr': 0.05925974058521353}. Best is trial 0 with value: 0.045244988054037094.\u001b[0m\n"
          ],
          "name": "stderr"
        },
        {
          "output_type": "stream",
          "text": [
            "loss test data:  0.8583734035491943\n",
            "mse test data:  0.8583734035491943\n",
            "Epoch 00216: early stopping\n",
            "5/5 [==============================] - 0s 2ms/step - loss: 0.1104 - mse: 0.1104\n"
          ],
          "name": "stdout"
        },
        {
          "output_type": "stream",
          "text": [
            "\u001b[32m[I 2020-12-15 00:43:00,245]\u001b[0m Trial 2 finished with value: 0.11039497703313828 and parameters: {'units': 310.0, 'dropout': 0.29203547920527795, 'activation': 'relu', 'lr': 0.05600259642183213}. Best is trial 0 with value: 0.045244988054037094.\u001b[0m\n"
          ],
          "name": "stderr"
        },
        {
          "output_type": "stream",
          "text": [
            "loss test data:  0.11039497703313828\n",
            "mse test data:  0.11039497703313828\n",
            "Epoch 00083: early stopping\n",
            "5/5 [==============================] - 0s 3ms/step - loss: 0.8591 - mse: 0.8591\n"
          ],
          "name": "stdout"
        },
        {
          "output_type": "stream",
          "text": [
            "\u001b[32m[I 2020-12-15 00:43:03,031]\u001b[0m Trial 3 finished with value: 0.8591107130050659 and parameters: {'units': 440.0, 'dropout': 0.014968432626955597, 'activation': 'sigmoid', 'lr': 1.1702106381995107e-05}. Best is trial 0 with value: 0.045244988054037094.\u001b[0m\n"
          ],
          "name": "stderr"
        },
        {
          "output_type": "stream",
          "text": [
            "loss test data:  0.8591107130050659\n",
            "mse test data:  0.8591107130050659\n",
            "Epoch 00067: early stopping\n",
            "5/5 [==============================] - 0s 4ms/step - loss: 0.8503 - mse: 0.8503\n"
          ],
          "name": "stdout"
        },
        {
          "output_type": "stream",
          "text": [
            "\u001b[32m[I 2020-12-15 00:43:06,769]\u001b[0m Trial 4 finished with value: 0.8503291606903076 and parameters: {'units': 976.0, 'dropout': 0.4208085086952463, 'activation': 'linear', 'lr': 0.008859400485777493}. Best is trial 0 with value: 0.045244988054037094.\u001b[0m\n"
          ],
          "name": "stderr"
        },
        {
          "output_type": "stream",
          "text": [
            "loss test data:  0.8503291606903076\n",
            "mse test data:  0.8503291606903076\n",
            "Epoch 00176: early stopping\n",
            "5/5 [==============================] - 0s 3ms/step - loss: 0.8555 - mse: 0.8555\n"
          ],
          "name": "stdout"
        },
        {
          "output_type": "stream",
          "text": [
            "\u001b[32m[I 2020-12-15 00:43:14,924]\u001b[0m Trial 5 finished with value: 0.8554579615592957 and parameters: {'units': 883.0, 'dropout': 0.7256325017292086, 'activation': 'sigmoid', 'lr': 0.0036302705798702062}. Best is trial 0 with value: 0.045244988054037094.\u001b[0m\n"
          ],
          "name": "stderr"
        },
        {
          "output_type": "stream",
          "text": [
            "loss test data:  0.8554579615592957\n",
            "mse test data:  0.8554579615592957\n",
            "Epoch 00194: early stopping\n",
            "5/5 [==============================] - 0s 4ms/step - loss: 0.8649 - mse: 0.8649\n"
          ],
          "name": "stdout"
        },
        {
          "output_type": "stream",
          "text": [
            "\u001b[32m[I 2020-12-15 00:43:26,009]\u001b[0m Trial 6 finished with value: 0.8648902177810669 and parameters: {'units': 1068.0, 'dropout': 0.27770609789934103, 'activation': 'sigmoid', 'lr': 0.030109814477727814}. Best is trial 0 with value: 0.045244988054037094.\u001b[0m\n"
          ],
          "name": "stderr"
        },
        {
          "output_type": "stream",
          "text": [
            "loss test data:  0.8648902177810669\n",
            "mse test data:  0.8648902177810669\n",
            "Epoch 00130: early stopping\n",
            "5/5 [==============================] - 0s 4ms/step - loss: 0.8572 - mse: 0.8572\n"
          ],
          "name": "stdout"
        },
        {
          "output_type": "stream",
          "text": [
            "\u001b[32m[I 2020-12-15 00:43:33,061]\u001b[0m Trial 7 finished with value: 0.8571761846542358 and parameters: {'units': 1040.0, 'dropout': 0.3686856279955417, 'activation': 'sigmoid', 'lr': 0.005947818646941644}. Best is trial 0 with value: 0.045244988054037094.\u001b[0m\n"
          ],
          "name": "stderr"
        },
        {
          "output_type": "stream",
          "text": [
            "loss test data:  0.8571761846542358\n",
            "mse test data:  0.8571761846542358\n",
            "Epoch 00392: early stopping\n",
            "5/5 [==============================] - 0s 3ms/step - loss: 0.0220 - mse: 0.0220\n"
          ],
          "name": "stdout"
        },
        {
          "output_type": "stream",
          "text": [
            "\u001b[32m[I 2020-12-15 00:43:46,420]\u001b[0m Trial 8 finished with value: 0.02196807600557804 and parameters: {'units': 682.0, 'dropout': 0.1260605609179243, 'activation': 'relu', 'lr': 0.006955525882519313}. Best is trial 8 with value: 0.02196807600557804.\u001b[0m\n"
          ],
          "name": "stderr"
        },
        {
          "output_type": "stream",
          "text": [
            "loss test data:  0.02196807600557804\n",
            "mse test data:  0.02196807600557804\n",
            "Epoch 00175: early stopping\n",
            "5/5 [==============================] - 0s 4ms/step - loss: 0.8515 - mse: 0.8515\n"
          ],
          "name": "stdout"
        },
        {
          "output_type": "stream",
          "text": [
            "\u001b[32m[I 2020-12-15 00:43:58,921]\u001b[0m Trial 9 finished with value: 0.8514925837516785 and parameters: {'units': 1299.0, 'dropout': 0.1275238600416694, 'activation': 'linear', 'lr': 0.044052254269271646}. Best is trial 8 with value: 0.02196807600557804.\u001b[0m\n"
          ],
          "name": "stderr"
        },
        {
          "output_type": "stream",
          "text": [
            "loss test data:  0.8514925837516785\n",
            "mse test data:  0.8514925837516785\n",
            "5/5 [==============================] - 0s 7ms/step - loss: 0.0117 - mse: 0.0117\n"
          ],
          "name": "stdout"
        },
        {
          "output_type": "stream",
          "text": [
            "\u001b[32m[I 2020-12-15 00:45:09,308]\u001b[0m Trial 10 finished with value: 0.011738891713321209 and parameters: {'units': 1970.0, 'dropout': 0.03182466491719216, 'activation': 'relu', 'lr': 0.0002659409804060432}. Best is trial 10 with value: 0.011738891713321209.\u001b[0m\n"
          ],
          "name": "stderr"
        },
        {
          "output_type": "stream",
          "text": [
            "loss test data:  0.011738891713321209\n",
            "mse test data:  0.011738891713321209\n",
            "5/5 [==============================] - 0s 7ms/step - loss: 0.3128 - mse: 0.3128\n"
          ],
          "name": "stdout"
        },
        {
          "output_type": "stream",
          "text": [
            "\u001b[32m[I 2020-12-15 00:46:16,652]\u001b[0m Trial 11 finished with value: 0.3127578794956207 and parameters: {'units': 1906.0, 'dropout': 0.006029251119957252, 'activation': 'relu', 'lr': 0.00011748755179107809}. Best is trial 10 with value: 0.011738891713321209.\u001b[0m\n"
          ],
          "name": "stderr"
        },
        {
          "output_type": "stream",
          "text": [
            "loss test data:  0.3127578794956207\n",
            "mse test data:  0.3127578794956207\n",
            "Epoch 00497: early stopping\n",
            "5/5 [==============================] - 0s 8ms/step - loss: 0.0102 - mse: 0.0102\n"
          ],
          "name": "stdout"
        },
        {
          "output_type": "stream",
          "text": [
            "\u001b[32m[I 2020-12-15 00:47:28,131]\u001b[0m Trial 12 finished with value: 0.010222656652331352 and parameters: {'units': 2039.0, 'dropout': 0.1229937659470397, 'activation': 'relu', 'lr': 0.00032017926706975815}. Best is trial 12 with value: 0.010222656652331352.\u001b[0m\n"
          ],
          "name": "stderr"
        },
        {
          "output_type": "stream",
          "text": [
            "loss test data:  0.010222656652331352\n",
            "mse test data:  0.010222656652331352\n",
            "5/5 [==============================] - 0s 7ms/step - loss: 0.0115 - mse: 0.0115\n"
          ],
          "name": "stdout"
        },
        {
          "output_type": "stream",
          "text": [
            "\u001b[32m[I 2020-12-15 00:48:39,692]\u001b[0m Trial 13 finished with value: 0.011491762474179268 and parameters: {'units': 1985.0, 'dropout': 0.13455494341597218, 'activation': 'relu', 'lr': 0.0002699795885692738}. Best is trial 12 with value: 0.010222656652331352.\u001b[0m\n"
          ],
          "name": "stderr"
        },
        {
          "output_type": "stream",
          "text": [
            "loss test data:  0.011491762474179268\n",
            "mse test data:  0.011491762474179268\n",
            "Epoch 00488: early stopping\n",
            "5/5 [==============================] - 0s 5ms/step - loss: 0.0208 - mse: 0.0208\n"
          ],
          "name": "stdout"
        },
        {
          "output_type": "stream",
          "text": [
            "\u001b[32m[I 2020-12-15 00:49:26,599]\u001b[0m Trial 14 finished with value: 0.020757462829351425 and parameters: {'units': 1607.0, 'dropout': 0.1579817653205578, 'activation': 'relu', 'lr': 0.00040193412199978127}. Best is trial 12 with value: 0.010222656652331352.\u001b[0m\n"
          ],
          "name": "stderr"
        },
        {
          "output_type": "stream",
          "text": [
            "loss test data:  0.020757462829351425\n",
            "mse test data:  0.020757462829351425\n",
            "Epoch 00062: early stopping\n",
            "5/5 [==============================] - 0s 5ms/step - loss: 0.8637 - mse: 0.8637\n"
          ],
          "name": "stdout"
        },
        {
          "output_type": "stream",
          "text": [
            "\u001b[32m[I 2020-12-15 00:49:32,688]\u001b[0m Trial 15 finished with value: 0.8637469410896301 and parameters: {'units': 1531.0, 'dropout': 0.5985297228248626, 'activation': 'relu', 'lr': 4.958523314732827e-05}. Best is trial 12 with value: 0.010222656652331352.\u001b[0m\n"
          ],
          "name": "stderr"
        },
        {
          "output_type": "stream",
          "text": [
            "loss test data:  0.8637469410896301\n",
            "mse test data:  0.8637469410896301\n",
            "Epoch 00365: early stopping\n",
            "5/5 [==============================] - 0s 7ms/step - loss: 0.0141 - mse: 0.0141\n"
          ],
          "name": "stdout"
        },
        {
          "output_type": "stream",
          "text": [
            "\u001b[32m[I 2020-12-15 00:50:12,177]\u001b[0m Trial 16 finished with value: 0.014141112565994263 and parameters: {'units': 1768.0, 'dropout': 0.1827994885957162, 'activation': 'relu', 'lr': 0.001098135371979857}. Best is trial 12 with value: 0.010222656652331352.\u001b[0m\n"
          ],
          "name": "stderr"
        },
        {
          "output_type": "stream",
          "text": [
            "loss test data:  0.014141112565994263\n",
            "mse test data:  0.014141112565994263\n",
            "Epoch 00052: early stopping\n",
            "5/5 [==============================] - 0s 8ms/step - loss: 0.8540 - mse: 0.8540\n"
          ],
          "name": "stdout"
        },
        {
          "output_type": "stream",
          "text": [
            "\u001b[32m[I 2020-12-15 00:50:20,164]\u001b[0m Trial 17 finished with value: 0.8540076613426208 and parameters: {'units': 2014.0, 'dropout': 0.08887364593127349, 'activation': 'linear', 'lr': 1.4225103132573321e-05}. Best is trial 12 with value: 0.010222656652331352.\u001b[0m\n"
          ],
          "name": "stderr"
        },
        {
          "output_type": "stream",
          "text": [
            "loss test data:  0.8540076613426208\n",
            "mse test data:  0.8540076613426208\n",
            "Epoch 00258: early stopping\n",
            "5/5 [==============================] - 0s 5ms/step - loss: 0.0246 - mse: 0.0246\n"
          ],
          "name": "stdout"
        },
        {
          "output_type": "stream",
          "text": [
            "\u001b[32m[I 2020-12-15 00:50:41,112]\u001b[0m Trial 18 finished with value: 0.024586739018559456 and parameters: {'units': 1423.0, 'dropout': 0.26447691038990506, 'activation': 'relu', 'lr': 0.001379956800906502}. Best is trial 12 with value: 0.010222656652331352.\u001b[0m\n"
          ],
          "name": "stderr"
        },
        {
          "output_type": "stream",
          "text": [
            "loss test data:  0.024586739018559456\n",
            "mse test data:  0.024586739018559456\n",
            "5/5 [==============================] - 0s 2ms/step - loss: 0.8429 - mse: 0.8429\n"
          ],
          "name": "stdout"
        },
        {
          "output_type": "stream",
          "text": [
            "\u001b[32m[I 2020-12-15 00:50:49,610]\u001b[0m Trial 19 finished with value: 0.8429388403892517 and parameters: {'units': 28.0, 'dropout': 0.5098522782585017, 'activation': 'relu', 'lr': 4.1967570325508134e-05}. Best is trial 12 with value: 0.010222656652331352.\u001b[0m\n"
          ],
          "name": "stderr"
        },
        {
          "output_type": "stream",
          "text": [
            "loss test data:  0.8429388403892517\n",
            "mse test data:  0.8429388403892517\n"
          ],
          "name": "stdout"
        },
        {
          "output_type": "execute_result",
          "data": {
            "text/plain": [
              "{'activation': 'relu',\n",
              " 'dropout': 0.1229937659470397,\n",
              " 'lr': 0.00032017926706975815,\n",
              " 'units': 2039.0}"
            ]
          },
          "metadata": {
            "tags": []
          },
          "execution_count": 9
        }
      ]
    },
    {
      "cell_type": "code",
      "metadata": {
        "colab": {
          "base_uri": "https://localhost:8080/"
        },
        "id": "CYVHbwzK2TX5",
        "outputId": "d28c51dd-5826-4c22-e28b-a2c767c9a834"
      },
      "source": [
        "print(\"Best trial:\")\r\n",
        "trial = study.best_trial\r\n",
        "print(trial)"
      ],
      "execution_count": null,
      "outputs": [
        {
          "output_type": "stream",
          "text": [
            "Best trial:\n",
            "FrozenTrial(number=12, value=0.010222656652331352, datetime_start=datetime.datetime(2020, 12, 15, 0, 46, 16, 653688), datetime_complete=datetime.datetime(2020, 12, 15, 0, 47, 28, 131211), params={'units': 2039.0, 'dropout': 0.1229937659470397, 'activation': 'relu', 'lr': 0.00032017926706975815}, distributions={'units': DiscreteUniformDistribution(high=2048, low=16, q=1), 'dropout': UniformDistribution(high=0.8, low=0), 'activation': CategoricalDistribution(choices=('relu', 'sigmoid', 'linear')), 'lr': LogUniformDistribution(high=0.1, low=1e-05)}, user_attrs={}, system_attrs={}, intermediate_values={}, trial_id=12, state=TrialState.COMPLETE)\n"
          ],
          "name": "stdout"
        }
      ]
    },
    {
      "cell_type": "code",
      "metadata": {
        "colab": {
          "base_uri": "https://localhost:8080/"
        },
        "id": "UyoNleBt4gY8",
        "outputId": "6af2df4e-9278-445a-8d6d-09b5f651b428"
      },
      "source": [
        "dropout = trial.params.get(\"dropout\")\r\n",
        "print(dropout)"
      ],
      "execution_count": null,
      "outputs": [
        {
          "output_type": "stream",
          "text": [
            "0.1229937659470397\n"
          ],
          "name": "stdout"
        }
      ]
    },
    {
      "cell_type": "code",
      "metadata": {
        "colab": {
          "base_uri": "https://localhost:8080/"
        },
        "id": "jumqFwi64iPj",
        "outputId": "4f43c843-d88f-4d7b-d26b-d8dcd3376012"
      },
      "source": [
        "units = trial.params.get(\"units\")\r\n",
        "print(units)"
      ],
      "execution_count": null,
      "outputs": [
        {
          "output_type": "stream",
          "text": [
            "2039.0\n"
          ],
          "name": "stdout"
        }
      ]
    },
    {
      "cell_type": "code",
      "metadata": {
        "colab": {
          "base_uri": "https://localhost:8080/"
        },
        "id": "NhnXjsO24kE4",
        "outputId": "7c909dcd-b264-4008-d05d-fa17b62a1da1"
      },
      "source": [
        "model0 = Sequential()\r\n",
        "#.......\r\n",
        "model0.add(Dense(units, activation='relu', input_shape=(1,)))\r\n",
        "model0.add(Dropout(dropout))\r\n",
        "model0.add(Dense(units, activation='relu'))\r\n",
        "model0.add(Dropout(dropout))\r\n",
        "model0.add(Dense(1, activation='linear'))\r\n",
        "\r\n",
        "model0.compile(optimizer='adam',\r\n",
        "                    loss='mean_squared_error',\r\n",
        "                    metrics=['mse'])\r\n",
        "\r\n",
        "es = EarlyStopping(monitor=\"val_loss\", mode='min', verbose=1, patience=50)\r\n",
        "\r\n",
        "model0.summary()"
      ],
      "execution_count": null,
      "outputs": [
        {
          "output_type": "stream",
          "text": [
            "Model: \"sequential_20\"\n",
            "_________________________________________________________________\n",
            "Layer (type)                 Output Shape              Param #   \n",
            "=================================================================\n",
            "dense_60 (Dense)             (None, 2039)              4078      \n",
            "_________________________________________________________________\n",
            "dropout_40 (Dropout)         (None, 2039)              0         \n",
            "_________________________________________________________________\n",
            "dense_61 (Dense)             (None, 2039)              4159560   \n",
            "_________________________________________________________________\n",
            "dropout_41 (Dropout)         (None, 2039)              0         \n",
            "_________________________________________________________________\n",
            "dense_62 (Dense)             (None, 1)                 2040      \n",
            "=================================================================\n",
            "Total params: 4,165,678\n",
            "Trainable params: 4,165,678\n",
            "Non-trainable params: 0\n",
            "_________________________________________________________________\n"
          ],
          "name": "stdout"
        }
      ]
    },
    {
      "cell_type": "code",
      "metadata": {
        "colab": {
          "base_uri": "https://localhost:8080/"
        },
        "id": "fHZUUohI4mvK",
        "outputId": "b036dac4-6716-4385-ecc3-1aad1b0d328f"
      },
      "source": [
        "history = model0.fit(XX_train_n,yy_train_n, epochs=500, batch_size=512, validation_data=(XX_test_n, yy_test_n), callbacks=[es])"
      ],
      "execution_count": null,
      "outputs": [
        {
          "output_type": "stream",
          "text": [
            "Epoch 1/500\n",
            "1/1 [==============================] - 0s 142ms/step - loss: 1.0031 - mse: 1.0031 - val_loss: 1.0979 - val_mse: 1.0979\n",
            "Epoch 2/500\n",
            "1/1 [==============================] - 0s 43ms/step - loss: 1.1761 - mse: 1.1761 - val_loss: 0.8898 - val_mse: 0.8898\n",
            "Epoch 3/500\n",
            "1/1 [==============================] - 0s 42ms/step - loss: 0.9722 - mse: 0.9722 - val_loss: 0.8470 - val_mse: 0.8470\n",
            "Epoch 4/500\n",
            "1/1 [==============================] - 0s 41ms/step - loss: 0.9669 - mse: 0.9669 - val_loss: 0.8569 - val_mse: 0.8569\n",
            "Epoch 5/500\n",
            "1/1 [==============================] - 0s 40ms/step - loss: 0.9852 - mse: 0.9852 - val_loss: 0.8573 - val_mse: 0.8573\n",
            "Epoch 6/500\n",
            "1/1 [==============================] - 0s 42ms/step - loss: 0.9837 - mse: 0.9837 - val_loss: 0.8584 - val_mse: 0.8584\n",
            "Epoch 7/500\n",
            "1/1 [==============================] - 0s 41ms/step - loss: 0.9623 - mse: 0.9623 - val_loss: 0.8656 - val_mse: 0.8656\n",
            "Epoch 8/500\n",
            "1/1 [==============================] - 0s 42ms/step - loss: 0.9561 - mse: 0.9561 - val_loss: 0.8717 - val_mse: 0.8717\n",
            "Epoch 9/500\n",
            "1/1 [==============================] - 0s 42ms/step - loss: 0.9482 - mse: 0.9482 - val_loss: 0.8696 - val_mse: 0.8696\n",
            "Epoch 10/500\n",
            "1/1 [==============================] - 0s 42ms/step - loss: 0.9411 - mse: 0.9411 - val_loss: 0.8610 - val_mse: 0.8610\n",
            "Epoch 11/500\n",
            "1/1 [==============================] - 0s 41ms/step - loss: 0.9388 - mse: 0.9388 - val_loss: 0.8488 - val_mse: 0.8488\n",
            "Epoch 12/500\n",
            "1/1 [==============================] - 0s 49ms/step - loss: 0.9407 - mse: 0.9407 - val_loss: 0.8388 - val_mse: 0.8388\n",
            "Epoch 13/500\n",
            "1/1 [==============================] - 0s 45ms/step - loss: 0.9278 - mse: 0.9278 - val_loss: 0.8331 - val_mse: 0.8331\n",
            "Epoch 14/500\n",
            "1/1 [==============================] - 0s 43ms/step - loss: 0.9305 - mse: 0.9305 - val_loss: 0.8306 - val_mse: 0.8306\n",
            "Epoch 15/500\n",
            "1/1 [==============================] - 0s 47ms/step - loss: 0.9410 - mse: 0.9410 - val_loss: 0.8297 - val_mse: 0.8297\n",
            "Epoch 16/500\n",
            "1/1 [==============================] - 0s 41ms/step - loss: 0.9382 - mse: 0.9382 - val_loss: 0.8304 - val_mse: 0.8304\n",
            "Epoch 17/500\n",
            "1/1 [==============================] - 0s 43ms/step - loss: 0.9299 - mse: 0.9299 - val_loss: 0.8325 - val_mse: 0.8325\n",
            "Epoch 18/500\n",
            "1/1 [==============================] - 0s 42ms/step - loss: 0.9299 - mse: 0.9299 - val_loss: 0.8357 - val_mse: 0.8357\n",
            "Epoch 19/500\n",
            "1/1 [==============================] - 0s 45ms/step - loss: 0.9257 - mse: 0.9257 - val_loss: 0.8382 - val_mse: 0.8382\n",
            "Epoch 20/500\n",
            "1/1 [==============================] - 0s 41ms/step - loss: 0.9288 - mse: 0.9288 - val_loss: 0.8377 - val_mse: 0.8377\n",
            "Epoch 21/500\n",
            "1/1 [==============================] - 0s 43ms/step - loss: 0.9323 - mse: 0.9323 - val_loss: 0.8349 - val_mse: 0.8349\n",
            "Epoch 22/500\n",
            "1/1 [==============================] - 0s 43ms/step - loss: 0.9274 - mse: 0.9274 - val_loss: 0.8302 - val_mse: 0.8302\n",
            "Epoch 23/500\n",
            "1/1 [==============================] - 0s 45ms/step - loss: 0.9161 - mse: 0.9161 - val_loss: 0.8260 - val_mse: 0.8260\n",
            "Epoch 24/500\n",
            "1/1 [==============================] - 0s 43ms/step - loss: 0.9154 - mse: 0.9154 - val_loss: 0.8225 - val_mse: 0.8225\n",
            "Epoch 25/500\n",
            "1/1 [==============================] - 0s 45ms/step - loss: 0.9180 - mse: 0.9180 - val_loss: 0.8202 - val_mse: 0.8202\n",
            "Epoch 26/500\n",
            "1/1 [==============================] - 0s 43ms/step - loss: 0.9156 - mse: 0.9156 - val_loss: 0.8186 - val_mse: 0.8186\n",
            "Epoch 27/500\n",
            "1/1 [==============================] - 0s 46ms/step - loss: 0.9113 - mse: 0.9113 - val_loss: 0.8176 - val_mse: 0.8176\n",
            "Epoch 28/500\n",
            "1/1 [==============================] - 0s 43ms/step - loss: 0.9117 - mse: 0.9117 - val_loss: 0.8168 - val_mse: 0.8168\n",
            "Epoch 29/500\n",
            "1/1 [==============================] - 0s 42ms/step - loss: 0.9117 - mse: 0.9117 - val_loss: 0.8169 - val_mse: 0.8169\n",
            "Epoch 30/500\n",
            "1/1 [==============================] - 0s 42ms/step - loss: 0.9031 - mse: 0.9031 - val_loss: 0.8161 - val_mse: 0.8161\n",
            "Epoch 31/500\n",
            "1/1 [==============================] - 0s 42ms/step - loss: 0.9073 - mse: 0.9073 - val_loss: 0.8147 - val_mse: 0.8147\n",
            "Epoch 32/500\n",
            "1/1 [==============================] - 0s 41ms/step - loss: 0.8996 - mse: 0.8996 - val_loss: 0.8122 - val_mse: 0.8122\n",
            "Epoch 33/500\n",
            "1/1 [==============================] - 0s 42ms/step - loss: 0.9016 - mse: 0.9016 - val_loss: 0.8091 - val_mse: 0.8091\n",
            "Epoch 34/500\n",
            "1/1 [==============================] - 0s 42ms/step - loss: 0.8835 - mse: 0.8835 - val_loss: 0.8062 - val_mse: 0.8062\n",
            "Epoch 35/500\n",
            "1/1 [==============================] - 0s 43ms/step - loss: 0.8917 - mse: 0.8917 - val_loss: 0.8038 - val_mse: 0.8038\n",
            "Epoch 36/500\n",
            "1/1 [==============================] - 0s 42ms/step - loss: 0.8939 - mse: 0.8939 - val_loss: 0.8017 - val_mse: 0.8017\n",
            "Epoch 37/500\n",
            "1/1 [==============================] - 0s 41ms/step - loss: 0.8921 - mse: 0.8921 - val_loss: 0.7985 - val_mse: 0.7985\n",
            "Epoch 38/500\n",
            "1/1 [==============================] - 0s 48ms/step - loss: 0.8846 - mse: 0.8846 - val_loss: 0.7943 - val_mse: 0.7943\n",
            "Epoch 39/500\n",
            "1/1 [==============================] - 0s 43ms/step - loss: 0.8890 - mse: 0.8890 - val_loss: 0.7905 - val_mse: 0.7905\n",
            "Epoch 40/500\n",
            "1/1 [==============================] - 0s 42ms/step - loss: 0.8691 - mse: 0.8691 - val_loss: 0.7875 - val_mse: 0.7875\n",
            "Epoch 41/500\n",
            "1/1 [==============================] - 0s 42ms/step - loss: 0.8684 - mse: 0.8684 - val_loss: 0.7852 - val_mse: 0.7852\n",
            "Epoch 42/500\n",
            "1/1 [==============================] - 0s 43ms/step - loss: 0.8766 - mse: 0.8766 - val_loss: 0.7828 - val_mse: 0.7828\n",
            "Epoch 43/500\n",
            "1/1 [==============================] - 0s 43ms/step - loss: 0.8628 - mse: 0.8628 - val_loss: 0.7792 - val_mse: 0.7792\n",
            "Epoch 44/500\n",
            "1/1 [==============================] - 0s 42ms/step - loss: 0.8746 - mse: 0.8746 - val_loss: 0.7747 - val_mse: 0.7747\n",
            "Epoch 45/500\n",
            "1/1 [==============================] - 0s 43ms/step - loss: 0.8601 - mse: 0.8601 - val_loss: 0.7699 - val_mse: 0.7699\n",
            "Epoch 46/500\n",
            "1/1 [==============================] - 0s 42ms/step - loss: 0.8630 - mse: 0.8630 - val_loss: 0.7652 - val_mse: 0.7652\n",
            "Epoch 47/500\n",
            "1/1 [==============================] - 0s 46ms/step - loss: 0.8497 - mse: 0.8497 - val_loss: 0.7608 - val_mse: 0.7608\n",
            "Epoch 48/500\n",
            "1/1 [==============================] - 0s 42ms/step - loss: 0.8504 - mse: 0.8504 - val_loss: 0.7559 - val_mse: 0.7559\n",
            "Epoch 49/500\n",
            "1/1 [==============================] - 0s 42ms/step - loss: 0.8348 - mse: 0.8348 - val_loss: 0.7507 - val_mse: 0.7507\n",
            "Epoch 50/500\n",
            "1/1 [==============================] - 0s 46ms/step - loss: 0.8355 - mse: 0.8355 - val_loss: 0.7450 - val_mse: 0.7450\n",
            "Epoch 51/500\n",
            "1/1 [==============================] - 0s 41ms/step - loss: 0.8215 - mse: 0.8215 - val_loss: 0.7388 - val_mse: 0.7388\n",
            "Epoch 52/500\n",
            "1/1 [==============================] - 0s 44ms/step - loss: 0.8342 - mse: 0.8342 - val_loss: 0.7321 - val_mse: 0.7321\n",
            "Epoch 53/500\n",
            "1/1 [==============================] - 0s 42ms/step - loss: 0.8199 - mse: 0.8199 - val_loss: 0.7262 - val_mse: 0.7262\n",
            "Epoch 54/500\n",
            "1/1 [==============================] - 0s 43ms/step - loss: 0.8300 - mse: 0.8300 - val_loss: 0.7206 - val_mse: 0.7206\n",
            "Epoch 55/500\n",
            "1/1 [==============================] - 0s 45ms/step - loss: 0.8149 - mse: 0.8149 - val_loss: 0.7138 - val_mse: 0.7138\n",
            "Epoch 56/500\n",
            "1/1 [==============================] - 0s 41ms/step - loss: 0.8022 - mse: 0.8022 - val_loss: 0.7053 - val_mse: 0.7053\n",
            "Epoch 57/500\n",
            "1/1 [==============================] - 0s 42ms/step - loss: 0.7924 - mse: 0.7924 - val_loss: 0.6982 - val_mse: 0.6982\n",
            "Epoch 58/500\n",
            "1/1 [==============================] - 0s 42ms/step - loss: 0.7674 - mse: 0.7674 - val_loss: 0.6906 - val_mse: 0.6906\n",
            "Epoch 59/500\n",
            "1/1 [==============================] - 0s 45ms/step - loss: 0.7631 - mse: 0.7631 - val_loss: 0.6839 - val_mse: 0.6839\n",
            "Epoch 60/500\n",
            "1/1 [==============================] - 0s 46ms/step - loss: 0.7583 - mse: 0.7583 - val_loss: 0.6765 - val_mse: 0.6765\n",
            "Epoch 61/500\n",
            "1/1 [==============================] - 0s 41ms/step - loss: 0.7444 - mse: 0.7444 - val_loss: 0.6664 - val_mse: 0.6664\n",
            "Epoch 62/500\n",
            "1/1 [==============================] - 0s 46ms/step - loss: 0.7273 - mse: 0.7273 - val_loss: 0.6557 - val_mse: 0.6557\n",
            "Epoch 63/500\n",
            "1/1 [==============================] - 0s 41ms/step - loss: 0.7250 - mse: 0.7250 - val_loss: 0.6466 - val_mse: 0.6466\n",
            "Epoch 64/500\n",
            "1/1 [==============================] - 0s 43ms/step - loss: 0.7224 - mse: 0.7224 - val_loss: 0.6380 - val_mse: 0.6380\n",
            "Epoch 65/500\n",
            "1/1 [==============================] - 0s 42ms/step - loss: 0.7154 - mse: 0.7154 - val_loss: 0.6281 - val_mse: 0.6281\n",
            "Epoch 66/500\n",
            "1/1 [==============================] - 0s 46ms/step - loss: 0.6663 - mse: 0.6663 - val_loss: 0.6153 - val_mse: 0.6153\n",
            "Epoch 67/500\n",
            "1/1 [==============================] - 0s 42ms/step - loss: 0.6736 - mse: 0.6736 - val_loss: 0.6038 - val_mse: 0.6038\n",
            "Epoch 68/500\n",
            "1/1 [==============================] - 0s 41ms/step - loss: 0.6572 - mse: 0.6572 - val_loss: 0.5930 - val_mse: 0.5930\n",
            "Epoch 69/500\n",
            "1/1 [==============================] - 0s 41ms/step - loss: 0.6634 - mse: 0.6634 - val_loss: 0.5817 - val_mse: 0.5817\n",
            "Epoch 70/500\n",
            "1/1 [==============================] - 0s 45ms/step - loss: 0.6481 - mse: 0.6481 - val_loss: 0.5673 - val_mse: 0.5673\n",
            "Epoch 71/500\n",
            "1/1 [==============================] - 0s 42ms/step - loss: 0.6174 - mse: 0.6174 - val_loss: 0.5549 - val_mse: 0.5549\n",
            "Epoch 72/500\n",
            "1/1 [==============================] - 0s 46ms/step - loss: 0.6110 - mse: 0.6110 - val_loss: 0.5464 - val_mse: 0.5464\n",
            "Epoch 73/500\n",
            "1/1 [==============================] - 0s 41ms/step - loss: 0.5905 - mse: 0.5905 - val_loss: 0.5326 - val_mse: 0.5326\n",
            "Epoch 74/500\n",
            "1/1 [==============================] - 0s 42ms/step - loss: 0.5851 - mse: 0.5851 - val_loss: 0.5139 - val_mse: 0.5139\n",
            "Epoch 75/500\n",
            "1/1 [==============================] - 0s 43ms/step - loss: 0.5569 - mse: 0.5569 - val_loss: 0.4991 - val_mse: 0.4991\n",
            "Epoch 76/500\n",
            "1/1 [==============================] - 0s 42ms/step - loss: 0.5399 - mse: 0.5399 - val_loss: 0.4849 - val_mse: 0.4849\n",
            "Epoch 77/500\n",
            "1/1 [==============================] - 0s 45ms/step - loss: 0.5292 - mse: 0.5292 - val_loss: 0.4676 - val_mse: 0.4676\n",
            "Epoch 78/500\n",
            "1/1 [==============================] - 0s 43ms/step - loss: 0.4924 - mse: 0.4924 - val_loss: 0.4509 - val_mse: 0.4509\n",
            "Epoch 79/500\n",
            "1/1 [==============================] - 0s 44ms/step - loss: 0.4713 - mse: 0.4713 - val_loss: 0.4343 - val_mse: 0.4343\n",
            "Epoch 80/500\n",
            "1/1 [==============================] - 0s 43ms/step - loss: 0.4629 - mse: 0.4629 - val_loss: 0.4193 - val_mse: 0.4193\n",
            "Epoch 81/500\n",
            "1/1 [==============================] - 0s 44ms/step - loss: 0.4435 - mse: 0.4435 - val_loss: 0.4053 - val_mse: 0.4053\n",
            "Epoch 82/500\n",
            "1/1 [==============================] - 0s 42ms/step - loss: 0.4347 - mse: 0.4347 - val_loss: 0.3846 - val_mse: 0.3846\n",
            "Epoch 83/500\n",
            "1/1 [==============================] - 0s 56ms/step - loss: 0.4106 - mse: 0.4106 - val_loss: 0.3661 - val_mse: 0.3661\n",
            "Epoch 84/500\n",
            "1/1 [==============================] - 0s 44ms/step - loss: 0.3965 - mse: 0.3965 - val_loss: 0.3481 - val_mse: 0.3481\n",
            "Epoch 85/500\n",
            "1/1 [==============================] - 0s 42ms/step - loss: 0.3625 - mse: 0.3625 - val_loss: 0.3293 - val_mse: 0.3293\n",
            "Epoch 86/500\n",
            "1/1 [==============================] - 0s 43ms/step - loss: 0.3310 - mse: 0.3310 - val_loss: 0.3165 - val_mse: 0.3165\n",
            "Epoch 87/500\n",
            "1/1 [==============================] - 0s 41ms/step - loss: 0.3428 - mse: 0.3428 - val_loss: 0.2981 - val_mse: 0.2981\n",
            "Epoch 88/500\n",
            "1/1 [==============================] - 0s 45ms/step - loss: 0.3050 - mse: 0.3050 - val_loss: 0.2757 - val_mse: 0.2757\n",
            "Epoch 89/500\n",
            "1/1 [==============================] - 0s 42ms/step - loss: 0.2936 - mse: 0.2936 - val_loss: 0.2689 - val_mse: 0.2689\n",
            "Epoch 90/500\n",
            "1/1 [==============================] - 0s 44ms/step - loss: 0.2752 - mse: 0.2752 - val_loss: 0.2425 - val_mse: 0.2425\n",
            "Epoch 91/500\n",
            "1/1 [==============================] - 0s 43ms/step - loss: 0.2628 - mse: 0.2628 - val_loss: 0.2264 - val_mse: 0.2264\n",
            "Epoch 92/500\n",
            "1/1 [==============================] - 0s 46ms/step - loss: 0.2419 - mse: 0.2419 - val_loss: 0.2238 - val_mse: 0.2238\n",
            "Epoch 93/500\n",
            "1/1 [==============================] - 0s 42ms/step - loss: 0.2240 - mse: 0.2240 - val_loss: 0.2100 - val_mse: 0.2100\n",
            "Epoch 94/500\n",
            "1/1 [==============================] - 0s 43ms/step - loss: 0.2091 - mse: 0.2091 - val_loss: 0.1743 - val_mse: 0.1743\n",
            "Epoch 95/500\n",
            "1/1 [==============================] - 0s 41ms/step - loss: 0.1815 - mse: 0.1815 - val_loss: 0.1730 - val_mse: 0.1730\n",
            "Epoch 96/500\n",
            "1/1 [==============================] - 0s 55ms/step - loss: 0.1882 - mse: 0.1882 - val_loss: 0.1628 - val_mse: 0.1628\n",
            "Epoch 97/500\n",
            "1/1 [==============================] - 0s 43ms/step - loss: 0.1582 - mse: 0.1582 - val_loss: 0.1352 - val_mse: 0.1352\n",
            "Epoch 98/500\n",
            "1/1 [==============================] - 0s 42ms/step - loss: 0.1509 - mse: 0.1509 - val_loss: 0.1728 - val_mse: 0.1728\n",
            "Epoch 99/500\n",
            "1/1 [==============================] - 0s 42ms/step - loss: 0.1866 - mse: 0.1866 - val_loss: 0.1423 - val_mse: 0.1423\n",
            "Epoch 100/500\n",
            "1/1 [==============================] - 0s 45ms/step - loss: 0.1406 - mse: 0.1406 - val_loss: 0.1189 - val_mse: 0.1189\n",
            "Epoch 101/500\n",
            "1/1 [==============================] - 0s 44ms/step - loss: 0.1491 - mse: 0.1491 - val_loss: 0.1643 - val_mse: 0.1643\n",
            "Epoch 102/500\n",
            "1/1 [==============================] - 0s 43ms/step - loss: 0.1897 - mse: 0.1897 - val_loss: 0.0806 - val_mse: 0.0806\n",
            "Epoch 103/500\n",
            "1/1 [==============================] - 0s 44ms/step - loss: 0.0889 - mse: 0.0889 - val_loss: 0.1605 - val_mse: 0.1605\n",
            "Epoch 104/500\n",
            "1/1 [==============================] - 0s 42ms/step - loss: 0.1568 - mse: 0.1568 - val_loss: 0.0696 - val_mse: 0.0696\n",
            "Epoch 105/500\n",
            "1/1 [==============================] - 0s 42ms/step - loss: 0.0749 - mse: 0.0749 - val_loss: 0.0993 - val_mse: 0.0993\n",
            "Epoch 106/500\n",
            "1/1 [==============================] - 0s 41ms/step - loss: 0.1459 - mse: 0.1459 - val_loss: 0.0620 - val_mse: 0.0620\n",
            "Epoch 107/500\n",
            "1/1 [==============================] - 0s 42ms/step - loss: 0.0714 - mse: 0.0714 - val_loss: 0.0886 - val_mse: 0.0886\n",
            "Epoch 108/500\n",
            "1/1 [==============================] - 0s 46ms/step - loss: 0.0826 - mse: 0.0826 - val_loss: 0.0568 - val_mse: 0.0568\n",
            "Epoch 109/500\n",
            "1/1 [==============================] - 0s 43ms/step - loss: 0.0628 - mse: 0.0628 - val_loss: 0.0567 - val_mse: 0.0567\n",
            "Epoch 110/500\n",
            "1/1 [==============================] - 0s 49ms/step - loss: 0.0596 - mse: 0.0596 - val_loss: 0.0432 - val_mse: 0.0432\n",
            "Epoch 111/500\n",
            "1/1 [==============================] - 0s 43ms/step - loss: 0.0671 - mse: 0.0671 - val_loss: 0.0550 - val_mse: 0.0550\n",
            "Epoch 112/500\n",
            "1/1 [==============================] - 0s 42ms/step - loss: 0.0684 - mse: 0.0684 - val_loss: 0.0367 - val_mse: 0.0367\n",
            "Epoch 113/500\n",
            "1/1 [==============================] - 0s 42ms/step - loss: 0.0485 - mse: 0.0485 - val_loss: 0.0315 - val_mse: 0.0315\n",
            "Epoch 114/500\n",
            "1/1 [==============================] - 0s 45ms/step - loss: 0.0375 - mse: 0.0375 - val_loss: 0.0319 - val_mse: 0.0319\n",
            "Epoch 115/500\n",
            "1/1 [==============================] - 0s 44ms/step - loss: 0.0421 - mse: 0.0421 - val_loss: 0.0365 - val_mse: 0.0365\n",
            "Epoch 116/500\n",
            "1/1 [==============================] - 0s 45ms/step - loss: 0.0556 - mse: 0.0556 - val_loss: 0.0296 - val_mse: 0.0296\n",
            "Epoch 117/500\n",
            "1/1 [==============================] - 0s 42ms/step - loss: 0.0447 - mse: 0.0447 - val_loss: 0.0253 - val_mse: 0.0253\n",
            "Epoch 118/500\n",
            "1/1 [==============================] - 0s 43ms/step - loss: 0.0341 - mse: 0.0341 - val_loss: 0.0275 - val_mse: 0.0275\n",
            "Epoch 119/500\n",
            "1/1 [==============================] - 0s 44ms/step - loss: 0.0327 - mse: 0.0327 - val_loss: 0.0257 - val_mse: 0.0257\n",
            "Epoch 120/500\n",
            "1/1 [==============================] - 0s 41ms/step - loss: 0.0452 - mse: 0.0452 - val_loss: 0.0196 - val_mse: 0.0196\n",
            "Epoch 121/500\n",
            "1/1 [==============================] - 0s 47ms/step - loss: 0.0357 - mse: 0.0357 - val_loss: 0.0177 - val_mse: 0.0177\n",
            "Epoch 122/500\n",
            "1/1 [==============================] - 0s 46ms/step - loss: 0.0386 - mse: 0.0386 - val_loss: 0.0258 - val_mse: 0.0258\n",
            "Epoch 123/500\n",
            "1/1 [==============================] - 0s 42ms/step - loss: 0.0386 - mse: 0.0386 - val_loss: 0.0174 - val_mse: 0.0174\n",
            "Epoch 124/500\n",
            "1/1 [==============================] - 0s 43ms/step - loss: 0.0292 - mse: 0.0292 - val_loss: 0.0170 - val_mse: 0.0170\n",
            "Epoch 125/500\n",
            "1/1 [==============================] - 0s 47ms/step - loss: 0.0401 - mse: 0.0401 - val_loss: 0.0200 - val_mse: 0.0200\n",
            "Epoch 126/500\n",
            "1/1 [==============================] - 0s 43ms/step - loss: 0.0341 - mse: 0.0341 - val_loss: 0.0216 - val_mse: 0.0216\n",
            "Epoch 127/500\n",
            "1/1 [==============================] - 0s 42ms/step - loss: 0.0361 - mse: 0.0361 - val_loss: 0.0186 - val_mse: 0.0186\n",
            "Epoch 128/500\n",
            "1/1 [==============================] - 0s 55ms/step - loss: 0.0334 - mse: 0.0334 - val_loss: 0.0195 - val_mse: 0.0195\n",
            "Epoch 129/500\n",
            "1/1 [==============================] - 0s 42ms/step - loss: 0.0319 - mse: 0.0319 - val_loss: 0.0161 - val_mse: 0.0161\n",
            "Epoch 130/500\n",
            "1/1 [==============================] - 0s 42ms/step - loss: 0.0336 - mse: 0.0336 - val_loss: 0.0139 - val_mse: 0.0139\n",
            "Epoch 131/500\n",
            "1/1 [==============================] - 0s 45ms/step - loss: 0.0327 - mse: 0.0327 - val_loss: 0.0140 - val_mse: 0.0140\n",
            "Epoch 132/500\n",
            "1/1 [==============================] - 0s 43ms/step - loss: 0.0193 - mse: 0.0193 - val_loss: 0.0165 - val_mse: 0.0165\n",
            "Epoch 133/500\n",
            "1/1 [==============================] - 0s 44ms/step - loss: 0.0451 - mse: 0.0451 - val_loss: 0.0152 - val_mse: 0.0152\n",
            "Epoch 134/500\n",
            "1/1 [==============================] - 0s 43ms/step - loss: 0.0293 - mse: 0.0293 - val_loss: 0.0189 - val_mse: 0.0189\n",
            "Epoch 135/500\n",
            "1/1 [==============================] - 0s 45ms/step - loss: 0.0328 - mse: 0.0328 - val_loss: 0.0171 - val_mse: 0.0171\n",
            "Epoch 136/500\n",
            "1/1 [==============================] - 0s 42ms/step - loss: 0.0304 - mse: 0.0304 - val_loss: 0.0150 - val_mse: 0.0150\n",
            "Epoch 137/500\n",
            "1/1 [==============================] - 0s 45ms/step - loss: 0.0328 - mse: 0.0328 - val_loss: 0.0146 - val_mse: 0.0146\n",
            "Epoch 138/500\n",
            "1/1 [==============================] - 0s 43ms/step - loss: 0.0306 - mse: 0.0306 - val_loss: 0.0151 - val_mse: 0.0151\n",
            "Epoch 139/500\n",
            "1/1 [==============================] - 0s 43ms/step - loss: 0.0284 - mse: 0.0284 - val_loss: 0.0144 - val_mse: 0.0144\n",
            "Epoch 140/500\n",
            "1/1 [==============================] - 0s 42ms/step - loss: 0.0262 - mse: 0.0262 - val_loss: 0.0125 - val_mse: 0.0125\n",
            "Epoch 141/500\n",
            "1/1 [==============================] - 0s 43ms/step - loss: 0.0340 - mse: 0.0340 - val_loss: 0.0153 - val_mse: 0.0153\n",
            "Epoch 142/500\n",
            "1/1 [==============================] - 0s 50ms/step - loss: 0.0273 - mse: 0.0273 - val_loss: 0.0140 - val_mse: 0.0140\n",
            "Epoch 143/500\n",
            "1/1 [==============================] - 0s 45ms/step - loss: 0.0259 - mse: 0.0259 - val_loss: 0.0126 - val_mse: 0.0126\n",
            "Epoch 144/500\n",
            "1/1 [==============================] - 0s 44ms/step - loss: 0.0253 - mse: 0.0253 - val_loss: 0.0189 - val_mse: 0.0189\n",
            "Epoch 145/500\n",
            "1/1 [==============================] - 0s 44ms/step - loss: 0.0402 - mse: 0.0402 - val_loss: 0.0227 - val_mse: 0.0227\n",
            "Epoch 146/500\n",
            "1/1 [==============================] - 0s 46ms/step - loss: 0.0372 - mse: 0.0372 - val_loss: 0.0156 - val_mse: 0.0156\n",
            "Epoch 147/500\n",
            "1/1 [==============================] - 0s 56ms/step - loss: 0.0296 - mse: 0.0296 - val_loss: 0.0185 - val_mse: 0.0185\n",
            "Epoch 148/500\n",
            "1/1 [==============================] - 0s 43ms/step - loss: 0.0413 - mse: 0.0413 - val_loss: 0.0124 - val_mse: 0.0124\n",
            "Epoch 149/500\n",
            "1/1 [==============================] - 0s 43ms/step - loss: 0.0307 - mse: 0.0307 - val_loss: 0.0155 - val_mse: 0.0155\n",
            "Epoch 150/500\n",
            "1/1 [==============================] - 0s 47ms/step - loss: 0.0253 - mse: 0.0253 - val_loss: 0.0116 - val_mse: 0.0116\n",
            "Epoch 151/500\n",
            "1/1 [==============================] - 0s 42ms/step - loss: 0.0243 - mse: 0.0243 - val_loss: 0.0119 - val_mse: 0.0119\n",
            "Epoch 152/500\n",
            "1/1 [==============================] - 0s 47ms/step - loss: 0.0303 - mse: 0.0303 - val_loss: 0.0272 - val_mse: 0.0272\n",
            "Epoch 153/500\n",
            "1/1 [==============================] - 0s 43ms/step - loss: 0.0354 - mse: 0.0354 - val_loss: 0.0156 - val_mse: 0.0156\n",
            "Epoch 154/500\n",
            "1/1 [==============================] - 0s 43ms/step - loss: 0.0223 - mse: 0.0223 - val_loss: 0.0138 - val_mse: 0.0138\n",
            "Epoch 155/500\n",
            "1/1 [==============================] - 0s 41ms/step - loss: 0.0302 - mse: 0.0302 - val_loss: 0.0122 - val_mse: 0.0122\n",
            "Epoch 156/500\n",
            "1/1 [==============================] - 0s 45ms/step - loss: 0.0305 - mse: 0.0305 - val_loss: 0.0433 - val_mse: 0.0433\n",
            "Epoch 157/500\n",
            "1/1 [==============================] - 0s 42ms/step - loss: 0.0502 - mse: 0.0502 - val_loss: 0.0120 - val_mse: 0.0120\n",
            "Epoch 158/500\n",
            "1/1 [==============================] - 0s 42ms/step - loss: 0.0227 - mse: 0.0227 - val_loss: 0.0307 - val_mse: 0.0307\n",
            "Epoch 159/500\n",
            "1/1 [==============================] - 0s 44ms/step - loss: 0.0530 - mse: 0.0530 - val_loss: 0.0104 - val_mse: 0.0104\n",
            "Epoch 160/500\n",
            "1/1 [==============================] - 0s 48ms/step - loss: 0.0307 - mse: 0.0307 - val_loss: 0.0434 - val_mse: 0.0434\n",
            "Epoch 161/500\n",
            "1/1 [==============================] - 0s 42ms/step - loss: 0.0442 - mse: 0.0442 - val_loss: 0.0111 - val_mse: 0.0111\n",
            "Epoch 162/500\n",
            "1/1 [==============================] - 0s 45ms/step - loss: 0.0229 - mse: 0.0229 - val_loss: 0.0210 - val_mse: 0.0210\n",
            "Epoch 163/500\n",
            "1/1 [==============================] - 0s 44ms/step - loss: 0.0576 - mse: 0.0576 - val_loss: 0.0111 - val_mse: 0.0111\n",
            "Epoch 164/500\n",
            "1/1 [==============================] - 0s 43ms/step - loss: 0.0243 - mse: 0.0243 - val_loss: 0.0355 - val_mse: 0.0355\n",
            "Epoch 165/500\n",
            "1/1 [==============================] - 0s 43ms/step - loss: 0.0485 - mse: 0.0485 - val_loss: 0.0142 - val_mse: 0.0142\n",
            "Epoch 166/500\n",
            "1/1 [==============================] - 0s 49ms/step - loss: 0.0246 - mse: 0.0246 - val_loss: 0.0231 - val_mse: 0.0231\n",
            "Epoch 167/500\n",
            "1/1 [==============================] - 0s 49ms/step - loss: 0.0499 - mse: 0.0499 - val_loss: 0.0198 - val_mse: 0.0198\n",
            "Epoch 168/500\n",
            "1/1 [==============================] - 0s 42ms/step - loss: 0.0312 - mse: 0.0312 - val_loss: 0.0270 - val_mse: 0.0270\n",
            "Epoch 169/500\n",
            "1/1 [==============================] - 0s 45ms/step - loss: 0.0460 - mse: 0.0460 - val_loss: 0.0111 - val_mse: 0.0111\n",
            "Epoch 170/500\n",
            "1/1 [==============================] - 0s 42ms/step - loss: 0.0172 - mse: 0.0172 - val_loss: 0.0172 - val_mse: 0.0172\n",
            "Epoch 171/500\n",
            "1/1 [==============================] - 0s 43ms/step - loss: 0.0354 - mse: 0.0354 - val_loss: 0.0106 - val_mse: 0.0106\n",
            "Epoch 172/500\n",
            "1/1 [==============================] - 0s 46ms/step - loss: 0.0245 - mse: 0.0245 - val_loss: 0.0254 - val_mse: 0.0254\n",
            "Epoch 173/500\n",
            "1/1 [==============================] - 0s 43ms/step - loss: 0.0360 - mse: 0.0360 - val_loss: 0.0105 - val_mse: 0.0105\n",
            "Epoch 174/500\n",
            "1/1 [==============================] - 0s 44ms/step - loss: 0.0235 - mse: 0.0235 - val_loss: 0.0163 - val_mse: 0.0163\n",
            "Epoch 175/500\n",
            "1/1 [==============================] - 0s 42ms/step - loss: 0.0290 - mse: 0.0290 - val_loss: 0.0107 - val_mse: 0.0107\n",
            "Epoch 176/500\n",
            "1/1 [==============================] - 0s 51ms/step - loss: 0.0197 - mse: 0.0197 - val_loss: 0.0223 - val_mse: 0.0223\n",
            "Epoch 177/500\n",
            "1/1 [==============================] - 0s 42ms/step - loss: 0.0244 - mse: 0.0244 - val_loss: 0.0100 - val_mse: 0.0100\n",
            "Epoch 178/500\n",
            "1/1 [==============================] - 0s 45ms/step - loss: 0.0230 - mse: 0.0230 - val_loss: 0.0112 - val_mse: 0.0112\n",
            "Epoch 179/500\n",
            "1/1 [==============================] - 0s 51ms/step - loss: 0.0290 - mse: 0.0290 - val_loss: 0.0095 - val_mse: 0.0095\n",
            "Epoch 180/500\n",
            "1/1 [==============================] - 0s 42ms/step - loss: 0.0220 - mse: 0.0220 - val_loss: 0.0117 - val_mse: 0.0117\n",
            "Epoch 181/500\n",
            "1/1 [==============================] - 0s 45ms/step - loss: 0.0302 - mse: 0.0302 - val_loss: 0.0123 - val_mse: 0.0123\n",
            "Epoch 182/500\n",
            "1/1 [==============================] - 0s 43ms/step - loss: 0.0284 - mse: 0.0284 - val_loss: 0.0097 - val_mse: 0.0097\n",
            "Epoch 183/500\n",
            "1/1 [==============================] - 0s 43ms/step - loss: 0.0293 - mse: 0.0293 - val_loss: 0.0111 - val_mse: 0.0111\n",
            "Epoch 184/500\n",
            "1/1 [==============================] - 0s 45ms/step - loss: 0.0187 - mse: 0.0187 - val_loss: 0.0101 - val_mse: 0.0101\n",
            "Epoch 185/500\n",
            "1/1 [==============================] - 0s 43ms/step - loss: 0.0223 - mse: 0.0223 - val_loss: 0.0104 - val_mse: 0.0104\n",
            "Epoch 186/500\n",
            "1/1 [==============================] - 0s 44ms/step - loss: 0.0237 - mse: 0.0237 - val_loss: 0.0152 - val_mse: 0.0152\n",
            "Epoch 187/500\n",
            "1/1 [==============================] - 0s 48ms/step - loss: 0.0279 - mse: 0.0279 - val_loss: 0.0114 - val_mse: 0.0114\n",
            "Epoch 188/500\n",
            "1/1 [==============================] - 0s 45ms/step - loss: 0.0242 - mse: 0.0242 - val_loss: 0.0110 - val_mse: 0.0110\n",
            "Epoch 189/500\n",
            "1/1 [==============================] - 0s 43ms/step - loss: 0.0264 - mse: 0.0264 - val_loss: 0.0100 - val_mse: 0.0100\n",
            "Epoch 190/500\n",
            "1/1 [==============================] - 0s 46ms/step - loss: 0.0201 - mse: 0.0201 - val_loss: 0.0176 - val_mse: 0.0176\n",
            "Epoch 191/500\n",
            "1/1 [==============================] - 0s 44ms/step - loss: 0.0354 - mse: 0.0354 - val_loss: 0.0121 - val_mse: 0.0121\n",
            "Epoch 192/500\n",
            "1/1 [==============================] - 0s 42ms/step - loss: 0.0231 - mse: 0.0231 - val_loss: 0.0171 - val_mse: 0.0171\n",
            "Epoch 193/500\n",
            "1/1 [==============================] - 0s 44ms/step - loss: 0.0356 - mse: 0.0356 - val_loss: 0.0095 - val_mse: 0.0095\n",
            "Epoch 194/500\n",
            "1/1 [==============================] - 0s 44ms/step - loss: 0.0213 - mse: 0.0213 - val_loss: 0.0251 - val_mse: 0.0251\n",
            "Epoch 195/500\n",
            "1/1 [==============================] - 0s 43ms/step - loss: 0.0420 - mse: 0.0420 - val_loss: 0.0138 - val_mse: 0.0138\n",
            "Epoch 196/500\n",
            "1/1 [==============================] - 0s 45ms/step - loss: 0.0264 - mse: 0.0264 - val_loss: 0.0152 - val_mse: 0.0152\n",
            "Epoch 197/500\n",
            "1/1 [==============================] - 0s 44ms/step - loss: 0.0255 - mse: 0.0255 - val_loss: 0.0159 - val_mse: 0.0159\n",
            "Epoch 198/500\n",
            "1/1 [==============================] - 0s 42ms/step - loss: 0.0396 - mse: 0.0396 - val_loss: 0.0193 - val_mse: 0.0193\n",
            "Epoch 199/500\n",
            "1/1 [==============================] - 0s 42ms/step - loss: 0.0226 - mse: 0.0226 - val_loss: 0.0219 - val_mse: 0.0219\n",
            "Epoch 200/500\n",
            "1/1 [==============================] - 0s 44ms/step - loss: 0.0368 - mse: 0.0368 - val_loss: 0.0124 - val_mse: 0.0124\n",
            "Epoch 201/500\n",
            "1/1 [==============================] - 0s 46ms/step - loss: 0.0343 - mse: 0.0343 - val_loss: 0.0101 - val_mse: 0.0101\n",
            "Epoch 202/500\n",
            "1/1 [==============================] - 0s 44ms/step - loss: 0.0253 - mse: 0.0253 - val_loss: 0.0249 - val_mse: 0.0249\n",
            "Epoch 203/500\n",
            "1/1 [==============================] - 0s 49ms/step - loss: 0.0394 - mse: 0.0394 - val_loss: 0.0155 - val_mse: 0.0155\n",
            "Epoch 204/500\n",
            "1/1 [==============================] - 0s 50ms/step - loss: 0.0207 - mse: 0.0207 - val_loss: 0.0103 - val_mse: 0.0103\n",
            "Epoch 205/500\n",
            "1/1 [==============================] - 0s 44ms/step - loss: 0.0212 - mse: 0.0212 - val_loss: 0.0121 - val_mse: 0.0121\n",
            "Epoch 206/500\n",
            "1/1 [==============================] - 0s 42ms/step - loss: 0.0279 - mse: 0.0279 - val_loss: 0.0119 - val_mse: 0.0119\n",
            "Epoch 207/500\n",
            "1/1 [==============================] - 0s 47ms/step - loss: 0.0144 - mse: 0.0144 - val_loss: 0.0239 - val_mse: 0.0239\n",
            "Epoch 208/500\n",
            "1/1 [==============================] - 0s 48ms/step - loss: 0.0449 - mse: 0.0449 - val_loss: 0.0102 - val_mse: 0.0102\n",
            "Epoch 209/500\n",
            "1/1 [==============================] - 0s 44ms/step - loss: 0.0271 - mse: 0.0271 - val_loss: 0.0172 - val_mse: 0.0172\n",
            "Epoch 210/500\n",
            "1/1 [==============================] - 0s 45ms/step - loss: 0.0386 - mse: 0.0386 - val_loss: 0.0134 - val_mse: 0.0134\n",
            "Epoch 211/500\n",
            "1/1 [==============================] - 0s 44ms/step - loss: 0.0224 - mse: 0.0224 - val_loss: 0.0160 - val_mse: 0.0160\n",
            "Epoch 212/500\n",
            "1/1 [==============================] - 0s 43ms/step - loss: 0.0300 - mse: 0.0300 - val_loss: 0.0095 - val_mse: 0.0095\n",
            "Epoch 213/500\n",
            "1/1 [==============================] - 0s 44ms/step - loss: 0.0226 - mse: 0.0226 - val_loss: 0.0095 - val_mse: 0.0095\n",
            "Epoch 214/500\n",
            "1/1 [==============================] - 0s 43ms/step - loss: 0.0252 - mse: 0.0252 - val_loss: 0.0138 - val_mse: 0.0138\n",
            "Epoch 215/500\n",
            "1/1 [==============================] - 0s 50ms/step - loss: 0.0249 - mse: 0.0249 - val_loss: 0.0120 - val_mse: 0.0120\n",
            "Epoch 216/500\n",
            "1/1 [==============================] - 0s 44ms/step - loss: 0.0228 - mse: 0.0228 - val_loss: 0.0096 - val_mse: 0.0096\n",
            "Epoch 217/500\n",
            "1/1 [==============================] - 0s 44ms/step - loss: 0.0239 - mse: 0.0239 - val_loss: 0.0099 - val_mse: 0.0099\n",
            "Epoch 218/500\n",
            "1/1 [==============================] - 0s 44ms/step - loss: 0.0200 - mse: 0.0200 - val_loss: 0.0099 - val_mse: 0.0099\n",
            "Epoch 219/500\n",
            "1/1 [==============================] - 0s 46ms/step - loss: 0.0276 - mse: 0.0276 - val_loss: 0.0139 - val_mse: 0.0139\n",
            "Epoch 220/500\n",
            "1/1 [==============================] - 0s 45ms/step - loss: 0.0275 - mse: 0.0275 - val_loss: 0.0177 - val_mse: 0.0177\n",
            "Epoch 221/500\n",
            "1/1 [==============================] - 0s 42ms/step - loss: 0.0338 - mse: 0.0338 - val_loss: 0.0100 - val_mse: 0.0100\n",
            "Epoch 222/500\n",
            "1/1 [==============================] - 0s 44ms/step - loss: 0.0189 - mse: 0.0189 - val_loss: 0.0102 - val_mse: 0.0102\n",
            "Epoch 223/500\n",
            "1/1 [==============================] - 0s 50ms/step - loss: 0.0234 - mse: 0.0234 - val_loss: 0.0102 - val_mse: 0.0102\n",
            "Epoch 224/500\n",
            "1/1 [==============================] - 0s 46ms/step - loss: 0.0285 - mse: 0.0285 - val_loss: 0.0161 - val_mse: 0.0161\n",
            "Epoch 225/500\n",
            "1/1 [==============================] - 0s 44ms/step - loss: 0.0338 - mse: 0.0338 - val_loss: 0.0129 - val_mse: 0.0129\n",
            "Epoch 226/500\n",
            "1/1 [==============================] - 0s 43ms/step - loss: 0.0237 - mse: 0.0237 - val_loss: 0.0126 - val_mse: 0.0126\n",
            "Epoch 227/500\n",
            "1/1 [==============================] - 0s 47ms/step - loss: 0.0393 - mse: 0.0393 - val_loss: 0.0098 - val_mse: 0.0098\n",
            "Epoch 228/500\n",
            "1/1 [==============================] - 0s 46ms/step - loss: 0.0217 - mse: 0.0217 - val_loss: 0.0158 - val_mse: 0.0158\n",
            "Epoch 229/500\n",
            "1/1 [==============================] - 0s 42ms/step - loss: 0.0163 - mse: 0.0163 - val_loss: 0.0119 - val_mse: 0.0119\n",
            "Epoch 230/500\n",
            "1/1 [==============================] - 0s 43ms/step - loss: 0.0251 - mse: 0.0251 - val_loss: 0.0106 - val_mse: 0.0106\n",
            "Epoch 231/500\n",
            "1/1 [==============================] - 0s 43ms/step - loss: 0.0267 - mse: 0.0267 - val_loss: 0.0111 - val_mse: 0.0111\n",
            "Epoch 232/500\n",
            "1/1 [==============================] - 0s 45ms/step - loss: 0.0264 - mse: 0.0264 - val_loss: 0.0112 - val_mse: 0.0112\n",
            "Epoch 233/500\n",
            "1/1 [==============================] - 0s 42ms/step - loss: 0.0186 - mse: 0.0186 - val_loss: 0.0163 - val_mse: 0.0163\n",
            "Epoch 234/500\n",
            "1/1 [==============================] - 0s 52ms/step - loss: 0.0145 - mse: 0.0145 - val_loss: 0.0125 - val_mse: 0.0125\n",
            "Epoch 235/500\n",
            "1/1 [==============================] - 0s 46ms/step - loss: 0.0250 - mse: 0.0250 - val_loss: 0.0115 - val_mse: 0.0115\n",
            "Epoch 236/500\n",
            "1/1 [==============================] - 0s 42ms/step - loss: 0.0270 - mse: 0.0270 - val_loss: 0.0106 - val_mse: 0.0106\n",
            "Epoch 237/500\n",
            "1/1 [==============================] - 0s 45ms/step - loss: 0.0224 - mse: 0.0224 - val_loss: 0.0150 - val_mse: 0.0150\n",
            "Epoch 238/500\n",
            "1/1 [==============================] - 0s 43ms/step - loss: 0.0322 - mse: 0.0322 - val_loss: 0.0101 - val_mse: 0.0101\n",
            "Epoch 239/500\n",
            "1/1 [==============================] - 0s 44ms/step - loss: 0.0239 - mse: 0.0239 - val_loss: 0.0092 - val_mse: 0.0092\n",
            "Epoch 240/500\n",
            "1/1 [==============================] - 0s 42ms/step - loss: 0.0274 - mse: 0.0274 - val_loss: 0.0096 - val_mse: 0.0096\n",
            "Epoch 241/500\n",
            "1/1 [==============================] - 0s 43ms/step - loss: 0.0205 - mse: 0.0205 - val_loss: 0.0121 - val_mse: 0.0121\n",
            "Epoch 242/500\n",
            "1/1 [==============================] - 0s 57ms/step - loss: 0.0260 - mse: 0.0260 - val_loss: 0.0098 - val_mse: 0.0098\n",
            "Epoch 243/500\n",
            "1/1 [==============================] - 0s 43ms/step - loss: 0.0182 - mse: 0.0182 - val_loss: 0.0094 - val_mse: 0.0094\n",
            "Epoch 244/500\n",
            "1/1 [==============================] - 0s 45ms/step - loss: 0.0186 - mse: 0.0186 - val_loss: 0.0123 - val_mse: 0.0123\n",
            "Epoch 245/500\n",
            "1/1 [==============================] - 0s 45ms/step - loss: 0.0262 - mse: 0.0262 - val_loss: 0.0106 - val_mse: 0.0106\n",
            "Epoch 246/500\n",
            "1/1 [==============================] - 0s 43ms/step - loss: 0.0217 - mse: 0.0217 - val_loss: 0.0108 - val_mse: 0.0108\n",
            "Epoch 247/500\n",
            "1/1 [==============================] - 0s 48ms/step - loss: 0.0284 - mse: 0.0284 - val_loss: 0.0170 - val_mse: 0.0170\n",
            "Epoch 248/500\n",
            "1/1 [==============================] - 0s 43ms/step - loss: 0.0224 - mse: 0.0224 - val_loss: 0.0124 - val_mse: 0.0124\n",
            "Epoch 249/500\n",
            "1/1 [==============================] - 0s 49ms/step - loss: 0.0195 - mse: 0.0195 - val_loss: 0.0099 - val_mse: 0.0099\n",
            "Epoch 250/500\n",
            "1/1 [==============================] - 0s 46ms/step - loss: 0.0163 - mse: 0.0163 - val_loss: 0.0105 - val_mse: 0.0105\n",
            "Epoch 251/500\n",
            "1/1 [==============================] - 0s 46ms/step - loss: 0.0147 - mse: 0.0147 - val_loss: 0.0137 - val_mse: 0.0137\n",
            "Epoch 252/500\n",
            "1/1 [==============================] - 0s 43ms/step - loss: 0.0171 - mse: 0.0171 - val_loss: 0.0095 - val_mse: 0.0095\n",
            "Epoch 253/500\n",
            "1/1 [==============================] - 0s 47ms/step - loss: 0.0247 - mse: 0.0247 - val_loss: 0.0096 - val_mse: 0.0096\n",
            "Epoch 254/500\n",
            "1/1 [==============================] - 0s 43ms/step - loss: 0.0220 - mse: 0.0220 - val_loss: 0.0097 - val_mse: 0.0097\n",
            "Epoch 255/500\n",
            "1/1 [==============================] - 0s 43ms/step - loss: 0.0175 - mse: 0.0175 - val_loss: 0.0119 - val_mse: 0.0119\n",
            "Epoch 256/500\n",
            "1/1 [==============================] - 0s 43ms/step - loss: 0.0177 - mse: 0.0177 - val_loss: 0.0116 - val_mse: 0.0116\n",
            "Epoch 257/500\n",
            "1/1 [==============================] - 0s 43ms/step - loss: 0.0160 - mse: 0.0160 - val_loss: 0.0099 - val_mse: 0.0099\n",
            "Epoch 258/500\n",
            "1/1 [==============================] - 0s 47ms/step - loss: 0.0197 - mse: 0.0197 - val_loss: 0.0100 - val_mse: 0.0100\n",
            "Epoch 259/500\n",
            "1/1 [==============================] - 0s 42ms/step - loss: 0.0183 - mse: 0.0183 - val_loss: 0.0102 - val_mse: 0.0102\n",
            "Epoch 260/500\n",
            "1/1 [==============================] - 0s 43ms/step - loss: 0.0204 - mse: 0.0204 - val_loss: 0.0121 - val_mse: 0.0121\n",
            "Epoch 261/500\n",
            "1/1 [==============================] - 0s 47ms/step - loss: 0.0207 - mse: 0.0207 - val_loss: 0.0108 - val_mse: 0.0108\n",
            "Epoch 262/500\n",
            "1/1 [==============================] - 0s 44ms/step - loss: 0.0209 - mse: 0.0209 - val_loss: 0.0098 - val_mse: 0.0098\n",
            "Epoch 263/500\n",
            "1/1 [==============================] - 0s 43ms/step - loss: 0.0238 - mse: 0.0238 - val_loss: 0.0107 - val_mse: 0.0107\n",
            "Epoch 264/500\n",
            "1/1 [==============================] - 0s 43ms/step - loss: 0.0215 - mse: 0.0215 - val_loss: 0.0093 - val_mse: 0.0093\n",
            "Epoch 265/500\n",
            "1/1 [==============================] - 0s 46ms/step - loss: 0.0202 - mse: 0.0202 - val_loss: 0.0090 - val_mse: 0.0090\n",
            "Epoch 266/500\n",
            "1/1 [==============================] - 0s 42ms/step - loss: 0.0197 - mse: 0.0197 - val_loss: 0.0090 - val_mse: 0.0090\n",
            "Epoch 267/500\n",
            "1/1 [==============================] - 0s 57ms/step - loss: 0.0227 - mse: 0.0227 - val_loss: 0.0123 - val_mse: 0.0123\n",
            "Epoch 268/500\n",
            "1/1 [==============================] - 0s 47ms/step - loss: 0.0138 - mse: 0.0138 - val_loss: 0.0159 - val_mse: 0.0159\n",
            "Epoch 269/500\n",
            "1/1 [==============================] - 0s 44ms/step - loss: 0.0179 - mse: 0.0179 - val_loss: 0.0093 - val_mse: 0.0093\n",
            "Epoch 270/500\n",
            "1/1 [==============================] - 0s 44ms/step - loss: 0.0167 - mse: 0.0167 - val_loss: 0.0089 - val_mse: 0.0089\n",
            "Epoch 271/500\n",
            "1/1 [==============================] - 0s 43ms/step - loss: 0.0202 - mse: 0.0202 - val_loss: 0.0113 - val_mse: 0.0113\n",
            "Epoch 272/500\n",
            "1/1 [==============================] - 0s 42ms/step - loss: 0.0212 - mse: 0.0212 - val_loss: 0.0121 - val_mse: 0.0121\n",
            "Epoch 273/500\n",
            "1/1 [==============================] - 0s 45ms/step - loss: 0.0275 - mse: 0.0275 - val_loss: 0.0126 - val_mse: 0.0126\n",
            "Epoch 274/500\n",
            "1/1 [==============================] - 0s 53ms/step - loss: 0.0193 - mse: 0.0193 - val_loss: 0.0089 - val_mse: 0.0089\n",
            "Epoch 275/500\n",
            "1/1 [==============================] - 0s 44ms/step - loss: 0.0111 - mse: 0.0111 - val_loss: 0.0105 - val_mse: 0.0105\n",
            "Epoch 276/500\n",
            "1/1 [==============================] - 0s 43ms/step - loss: 0.0242 - mse: 0.0242 - val_loss: 0.0113 - val_mse: 0.0113\n",
            "Epoch 277/500\n",
            "1/1 [==============================] - 0s 43ms/step - loss: 0.0213 - mse: 0.0213 - val_loss: 0.0124 - val_mse: 0.0124\n",
            "Epoch 278/500\n",
            "1/1 [==============================] - 0s 43ms/step - loss: 0.0207 - mse: 0.0207 - val_loss: 0.0120 - val_mse: 0.0120\n",
            "Epoch 279/500\n",
            "1/1 [==============================] - 0s 42ms/step - loss: 0.0413 - mse: 0.0413 - val_loss: 0.0116 - val_mse: 0.0116\n",
            "Epoch 280/500\n",
            "1/1 [==============================] - 0s 48ms/step - loss: 0.0303 - mse: 0.0303 - val_loss: 0.0097 - val_mse: 0.0097\n",
            "Epoch 281/500\n",
            "1/1 [==============================] - 0s 42ms/step - loss: 0.0188 - mse: 0.0188 - val_loss: 0.0118 - val_mse: 0.0118\n",
            "Epoch 282/500\n",
            "1/1 [==============================] - 0s 48ms/step - loss: 0.0205 - mse: 0.0205 - val_loss: 0.0114 - val_mse: 0.0114\n",
            "Epoch 283/500\n",
            "1/1 [==============================] - 0s 44ms/step - loss: 0.0192 - mse: 0.0192 - val_loss: 0.0089 - val_mse: 0.0089\n",
            "Epoch 284/500\n",
            "1/1 [==============================] - 0s 43ms/step - loss: 0.0212 - mse: 0.0212 - val_loss: 0.0085 - val_mse: 0.0085\n",
            "Epoch 285/500\n",
            "1/1 [==============================] - 0s 44ms/step - loss: 0.0260 - mse: 0.0260 - val_loss: 0.0097 - val_mse: 0.0097\n",
            "Epoch 286/500\n",
            "1/1 [==============================] - 0s 43ms/step - loss: 0.0215 - mse: 0.0215 - val_loss: 0.0151 - val_mse: 0.0151\n",
            "Epoch 287/500\n",
            "1/1 [==============================] - 0s 46ms/step - loss: 0.0180 - mse: 0.0180 - val_loss: 0.0102 - val_mse: 0.0102\n",
            "Epoch 288/500\n",
            "1/1 [==============================] - 0s 43ms/step - loss: 0.0215 - mse: 0.0215 - val_loss: 0.0125 - val_mse: 0.0125\n",
            "Epoch 289/500\n",
            "1/1 [==============================] - 0s 48ms/step - loss: 0.0273 - mse: 0.0273 - val_loss: 0.0108 - val_mse: 0.0108\n",
            "Epoch 290/500\n",
            "1/1 [==============================] - 0s 43ms/step - loss: 0.0198 - mse: 0.0198 - val_loss: 0.0167 - val_mse: 0.0167\n",
            "Epoch 291/500\n",
            "1/1 [==============================] - 0s 45ms/step - loss: 0.0286 - mse: 0.0286 - val_loss: 0.0094 - val_mse: 0.0094\n",
            "Epoch 292/500\n",
            "1/1 [==============================] - 0s 59ms/step - loss: 0.0225 - mse: 0.0225 - val_loss: 0.0081 - val_mse: 0.0081\n",
            "Epoch 293/500\n",
            "1/1 [==============================] - 0s 46ms/step - loss: 0.0171 - mse: 0.0171 - val_loss: 0.0082 - val_mse: 0.0082\n",
            "Epoch 294/500\n",
            "1/1 [==============================] - 0s 43ms/step - loss: 0.0203 - mse: 0.0203 - val_loss: 0.0134 - val_mse: 0.0134\n",
            "Epoch 295/500\n",
            "1/1 [==============================] - 0s 44ms/step - loss: 0.0192 - mse: 0.0192 - val_loss: 0.0111 - val_mse: 0.0111\n",
            "Epoch 296/500\n",
            "1/1 [==============================] - 0s 43ms/step - loss: 0.0204 - mse: 0.0204 - val_loss: 0.0084 - val_mse: 0.0084\n",
            "Epoch 297/500\n",
            "1/1 [==============================] - 0s 47ms/step - loss: 0.0215 - mse: 0.0215 - val_loss: 0.0106 - val_mse: 0.0106\n",
            "Epoch 298/500\n",
            "1/1 [==============================] - 0s 43ms/step - loss: 0.0210 - mse: 0.0210 - val_loss: 0.0097 - val_mse: 0.0097\n",
            "Epoch 299/500\n",
            "1/1 [==============================] - 0s 47ms/step - loss: 0.0183 - mse: 0.0183 - val_loss: 0.0136 - val_mse: 0.0136\n",
            "Epoch 300/500\n",
            "1/1 [==============================] - 0s 52ms/step - loss: 0.0236 - mse: 0.0236 - val_loss: 0.0084 - val_mse: 0.0084\n",
            "Epoch 301/500\n",
            "1/1 [==============================] - 0s 44ms/step - loss: 0.0206 - mse: 0.0206 - val_loss: 0.0108 - val_mse: 0.0108\n",
            "Epoch 302/500\n",
            "1/1 [==============================] - 0s 54ms/step - loss: 0.0195 - mse: 0.0195 - val_loss: 0.0117 - val_mse: 0.0117\n",
            "Epoch 303/500\n",
            "1/1 [==============================] - 0s 44ms/step - loss: 0.0255 - mse: 0.0255 - val_loss: 0.0093 - val_mse: 0.0093\n",
            "Epoch 304/500\n",
            "1/1 [==============================] - 0s 44ms/step - loss: 0.0193 - mse: 0.0193 - val_loss: 0.0096 - val_mse: 0.0096\n",
            "Epoch 305/500\n",
            "1/1 [==============================] - 0s 48ms/step - loss: 0.0184 - mse: 0.0184 - val_loss: 0.0097 - val_mse: 0.0097\n",
            "Epoch 306/500\n",
            "1/1 [==============================] - 0s 46ms/step - loss: 0.0183 - mse: 0.0183 - val_loss: 0.0125 - val_mse: 0.0125\n",
            "Epoch 307/500\n",
            "1/1 [==============================] - 0s 45ms/step - loss: 0.0227 - mse: 0.0227 - val_loss: 0.0093 - val_mse: 0.0093\n",
            "Epoch 308/500\n",
            "1/1 [==============================] - 0s 49ms/step - loss: 0.0151 - mse: 0.0151 - val_loss: 0.0085 - val_mse: 0.0085\n",
            "Epoch 309/500\n",
            "1/1 [==============================] - 0s 43ms/step - loss: 0.0210 - mse: 0.0210 - val_loss: 0.0099 - val_mse: 0.0099\n",
            "Epoch 310/500\n",
            "1/1 [==============================] - 0s 54ms/step - loss: 0.0231 - mse: 0.0231 - val_loss: 0.0088 - val_mse: 0.0088\n",
            "Epoch 311/500\n",
            "1/1 [==============================] - 0s 45ms/step - loss: 0.0225 - mse: 0.0225 - val_loss: 0.0187 - val_mse: 0.0187\n",
            "Epoch 312/500\n",
            "1/1 [==============================] - 0s 48ms/step - loss: 0.0214 - mse: 0.0214 - val_loss: 0.0116 - val_mse: 0.0116\n",
            "Epoch 313/500\n",
            "1/1 [==============================] - 0s 44ms/step - loss: 0.0185 - mse: 0.0185 - val_loss: 0.0127 - val_mse: 0.0127\n",
            "Epoch 314/500\n",
            "1/1 [==============================] - 0s 50ms/step - loss: 0.0201 - mse: 0.0201 - val_loss: 0.0129 - val_mse: 0.0129\n",
            "Epoch 315/500\n",
            "1/1 [==============================] - 0s 47ms/step - loss: 0.0261 - mse: 0.0261 - val_loss: 0.0129 - val_mse: 0.0129\n",
            "Epoch 316/500\n",
            "1/1 [==============================] - 0s 44ms/step - loss: 0.0215 - mse: 0.0215 - val_loss: 0.0147 - val_mse: 0.0147\n",
            "Epoch 317/500\n",
            "1/1 [==============================] - 0s 52ms/step - loss: 0.0265 - mse: 0.0265 - val_loss: 0.0114 - val_mse: 0.0114\n",
            "Epoch 318/500\n",
            "1/1 [==============================] - 0s 45ms/step - loss: 0.0341 - mse: 0.0341 - val_loss: 0.0089 - val_mse: 0.0089\n",
            "Epoch 319/500\n",
            "1/1 [==============================] - 0s 50ms/step - loss: 0.0186 - mse: 0.0186 - val_loss: 0.0124 - val_mse: 0.0124\n",
            "Epoch 320/500\n",
            "1/1 [==============================] - 0s 46ms/step - loss: 0.0176 - mse: 0.0176 - val_loss: 0.0103 - val_mse: 0.0103\n",
            "Epoch 321/500\n",
            "1/1 [==============================] - 0s 48ms/step - loss: 0.0315 - mse: 0.0315 - val_loss: 0.0083 - val_mse: 0.0083\n",
            "Epoch 322/500\n",
            "1/1 [==============================] - 0s 44ms/step - loss: 0.0204 - mse: 0.0204 - val_loss: 0.0099 - val_mse: 0.0099\n",
            "Epoch 323/500\n",
            "1/1 [==============================] - 0s 58ms/step - loss: 0.0247 - mse: 0.0247 - val_loss: 0.0104 - val_mse: 0.0104\n",
            "Epoch 324/500\n",
            "1/1 [==============================] - 0s 46ms/step - loss: 0.0234 - mse: 0.0234 - val_loss: 0.0089 - val_mse: 0.0089\n",
            "Epoch 325/500\n",
            "1/1 [==============================] - 0s 45ms/step - loss: 0.0212 - mse: 0.0212 - val_loss: 0.0137 - val_mse: 0.0137\n",
            "Epoch 326/500\n",
            "1/1 [==============================] - 0s 53ms/step - loss: 0.0232 - mse: 0.0232 - val_loss: 0.0107 - val_mse: 0.0107\n",
            "Epoch 327/500\n",
            "1/1 [==============================] - 0s 45ms/step - loss: 0.0206 - mse: 0.0206 - val_loss: 0.0088 - val_mse: 0.0088\n",
            "Epoch 328/500\n",
            "1/1 [==============================] - 0s 47ms/step - loss: 0.0170 - mse: 0.0170 - val_loss: 0.0082 - val_mse: 0.0082\n",
            "Epoch 329/500\n",
            "1/1 [==============================] - 0s 51ms/step - loss: 0.0178 - mse: 0.0178 - val_loss: 0.0082 - val_mse: 0.0082\n",
            "Epoch 330/500\n",
            "1/1 [==============================] - 0s 46ms/step - loss: 0.0200 - mse: 0.0200 - val_loss: 0.0085 - val_mse: 0.0085\n",
            "Epoch 331/500\n",
            "1/1 [==============================] - 0s 50ms/step - loss: 0.0181 - mse: 0.0181 - val_loss: 0.0106 - val_mse: 0.0106\n",
            "Epoch 332/500\n",
            "1/1 [==============================] - 0s 44ms/step - loss: 0.0268 - mse: 0.0268 - val_loss: 0.0086 - val_mse: 0.0086\n",
            "Epoch 333/500\n",
            "1/1 [==============================] - 0s 51ms/step - loss: 0.0167 - mse: 0.0167 - val_loss: 0.0108 - val_mse: 0.0108\n",
            "Epoch 334/500\n",
            "1/1 [==============================] - 0s 45ms/step - loss: 0.0186 - mse: 0.0186 - val_loss: 0.0085 - val_mse: 0.0085\n",
            "Epoch 335/500\n",
            "1/1 [==============================] - 0s 49ms/step - loss: 0.0250 - mse: 0.0250 - val_loss: 0.0238 - val_mse: 0.0238\n",
            "Epoch 336/500\n",
            "1/1 [==============================] - 0s 44ms/step - loss: 0.0346 - mse: 0.0346 - val_loss: 0.0087 - val_mse: 0.0087\n",
            "Epoch 337/500\n",
            "1/1 [==============================] - 0s 44ms/step - loss: 0.0259 - mse: 0.0259 - val_loss: 0.0133 - val_mse: 0.0133\n",
            "Epoch 338/500\n",
            "1/1 [==============================] - 0s 50ms/step - loss: 0.0221 - mse: 0.0221 - val_loss: 0.0085 - val_mse: 0.0085\n",
            "Epoch 339/500\n",
            "1/1 [==============================] - 0s 45ms/step - loss: 0.0211 - mse: 0.0211 - val_loss: 0.0248 - val_mse: 0.0248\n",
            "Epoch 340/500\n",
            "1/1 [==============================] - 0s 43ms/step - loss: 0.0295 - mse: 0.0295 - val_loss: 0.0121 - val_mse: 0.0121\n",
            "Epoch 341/500\n",
            "1/1 [==============================] - 0s 50ms/step - loss: 0.0237 - mse: 0.0237 - val_loss: 0.0158 - val_mse: 0.0158\n",
            "Epoch 342/500\n",
            "1/1 [==============================] - 0s 44ms/step - loss: 0.0363 - mse: 0.0363 - val_loss: 0.0093 - val_mse: 0.0093\n",
            "Epoch 00342: early stopping\n"
          ],
          "name": "stdout"
        }
      ]
    },
    {
      "cell_type": "code",
      "metadata": {
        "colab": {
          "base_uri": "https://localhost:8080/",
          "height": 283
        },
        "id": "MyhRrze14-I0",
        "outputId": "d246d08b-a692-4a43-f41d-dfcb563654e3"
      },
      "source": [
        "def plot_loss(history):\r\n",
        "  plt.plot(history.history['loss'], label='loss')\r\n",
        "  plt.plot(history.history['val_loss'], label='val_loss')\r\n",
        "  plt.ylim([0, 0.5])\r\n",
        "  plt.xlabel('Epoch')\r\n",
        "  plt.ylabel('Error ')\r\n",
        "  plt.legend()\r\n",
        "  plt.grid(True)\r\n",
        "\r\n",
        "plot_loss(history)"
      ],
      "execution_count": null,
      "outputs": [
        {
          "output_type": "display_data",
          "data": {
            "image/png": "[encoded data removed]",
            "text/plain": [
              "<Figure size 432x288 with 1 Axes>"
            ]
          },
          "metadata": {
            "tags": [],
            "needs_background": "light"
          }
        }
      ]
    },
    {
      "cell_type": "code",
      "metadata": {
        "colab": {
          "base_uri": "https://localhost:8080/"
        },
        "id": "EDNR4Q165oHs",
        "outputId": "f41ead0d-af3f-4109-92bc-9138bb745f88"
      },
      "source": [
        "results = model0.evaluate(XX_test_n, yy_test_n)\r\n",
        "\r\n",
        "print('loss test data: ', results[0])\r\n",
        "print('mse test data: ', results[1])\r\n",
        "\r\n",
        "results = model0.evaluate(XX_train_n, yy_train_n)\r\n",
        "\r\n",
        "print('loss train data: ', results[0])\r\n",
        "print('mse train data: ', results[1])"
      ],
      "execution_count": null,
      "outputs": [
        {
          "output_type": "stream",
          "text": [
            "5/5 [==============================] - 0s 7ms/step - loss: 0.0093 - mse: 0.0093\n",
            "loss test data:  0.009258284233510494\n",
            "mse test data:  0.009258284233510494\n",
            "5/5 [==============================] - 0s 8ms/step - loss: 0.0128 - mse: 0.0128\n",
            "loss train data:  0.012764590792357922\n",
            "mse train data:  0.012764590792357922\n"
          ],
          "name": "stdout"
        }
      ]
    },
    {
      "cell_type": "code",
      "metadata": {
        "colab": {
          "base_uri": "https://localhost:8080/",
          "height": 445
        },
        "id": "8I3D62yI7DhV",
        "outputId": "1380dd63-c978-45bd-e09b-28a0b1f2bdcc"
      },
      "source": [
        "fig = plt.figure(figsize=(7,7))\r\n",
        "\r\n",
        "plt.plot(XX_train_n,yy_train_n, 'o', color='blue', label='Training points')\r\n",
        "plt.plot(XX_test_n,yy_test_n, 'o', color='green', label='Testing points')\r\n",
        "\r\n",
        "points = np.linspace(min(XX_test_n), max(XX_test_n),num=100)\r\n",
        "plt.plot(points, (funct(points*std+mean)-mean1)/std1,  color='red', label='Function')\r\n",
        "\r\n",
        "plt.plot(points, model0.predict(points),  color='orange', label='Neural net')\r\n",
        "\r\n",
        "\r\n",
        "plt.legend()\r\n",
        "\r\n",
        "\r\n",
        "plt.show"
      ],
      "execution_count": null,
      "outputs": [
        {
          "output_type": "execute_result",
          "data": {
            "text/plain": [
              "<function matplotlib.pyplot.show>"
            ]
          },
          "metadata": {
            "tags": []
          },
          "execution_count": 17
        },
        {
          "output_type": "display_data",
          "data": {
            "image/png": "[encoded data removed]",
            "text/plain": [
              "<Figure size 504x504 with 1 Axes>"
            ]
          },
          "metadata": {
            "tags": [],
            "needs_background": "light"
          }
        }
      ]
    },
    {
      "cell_type": "code",
      "metadata": {
        "colab": {
          "base_uri": "https://localhost:8080/",
          "height": 542
        },
        "id": "xjOYM6E07GQH",
        "outputId": "596c0712-c8d4-4fcc-edab-5ddb04df89fd"
      },
      "source": [
        "from optuna.visualization import plot_optimization_history\r\n",
        "\r\n",
        "plot_optimization_history(study)"
      ],
      "execution_count": null,
      "outputs": [
        {
          "output_type": "display_data",
          "data": {
            "text/html": [
              "<html>\n",
              "<head><meta charset=\"utf-8\" /></head>\n",
              "<body>\n",
              "    <div>\n",
              "            <script src=\"https://cdnjs.cloudflare.com/ajax/libs/mathjax/2.7.5/MathJax.js?config=TeX-AMS-MML_SVG\"></script><script type=\"text/javascript\">if (window.MathJax) {MathJax.Hub.Config({SVG: {font: \"STIX-Web\"}});}</script>\n",
              "                <script type=\"text/javascript\">window.PlotlyConfig = {MathJaxConfig: 'local'};</script>\n",
              "        <script src=\"https://cdn.plot.ly/plotly-latest.min.js\"></script>    \n",
              "            <div id=\"26fc25e2-c383-4a33-a43d-3a63184300a1\" class=\"plotly-graph-div\" style=\"height:525px; width:100%;\"></div>\n",
              "            <script type=\"text/javascript\">\n",
              "                \n",
              "                    window.PLOTLYENV=window.PLOTLYENV || {};\n",
              "                    \n",
              "                if (document.getElementById(\"26fc25e2-c383-4a33-a43d-3a63184300a1\")) {\n",
              "                    Plotly.newPlot(\n",
              "                        '26fc25e2-c383-4a33-a43d-3a63184300a1',\n",
              "                        [{\"mode\": \"markers\", \"name\": \"Objective Value\", \"type\": \"scatter\", \"x\": [0, 1, 2, 3, 4, 5, 6, 7, 8, 9, 10, 11, 12, 13, 14, 15, 16, 17, 18, 19], \"y\": [0.045244988054037094, 0.8583734035491943, 0.11039497703313828, 0.8591107130050659, 0.8503291606903076, 0.8554579615592957, 0.8648902177810669, 0.8571761846542358, 0.02196807600557804, 0.8514925837516785, 0.011738891713321209, 0.3127578794956207, 0.010222656652331352, 0.011491762474179268, 0.020757462829351425, 0.8637469410896301, 0.014141112565994263, 0.8540076613426208, 0.024586739018559456, 0.8429388403892517]}, {\"name\": \"Best Value\", \"type\": \"scatter\", \"x\": [0, 1, 2, 3, 4, 5, 6, 7, 8, 9, 10, 11, 12, 13, 14, 15, 16, 17, 18, 19], \"y\": [0.045244988054037094, 0.045244988054037094, 0.045244988054037094, 0.045244988054037094, 0.045244988054037094, 0.045244988054037094, 0.045244988054037094, 0.045244988054037094, 0.02196807600557804, 0.02196807600557804, 0.011738891713321209, 0.011738891713321209, 0.010222656652331352, 0.010222656652331352, 0.010222656652331352, 0.010222656652331352, 0.010222656652331352, 0.010222656652331352, 0.010222656652331352, 0.010222656652331352]}],\n",
              "                        {\"template\": {\"data\": {\"bar\": [{\"error_x\": {\"color\": \"#2a3f5f\"}, \"error_y\": {\"color\": \"#2a3f5f\"}, \"marker\": {\"line\": {\"color\": \"#E5ECF6\", \"width\": 0.5}}, \"type\": \"bar\"}], \"barpolar\": [{\"marker\": {\"line\": {\"color\": \"#E5ECF6\", \"width\": 0.5}}, \"type\": \"barpolar\"}], \"carpet\": [{\"aaxis\": {\"endlinecolor\": \"#2a3f5f\", \"gridcolor\": \"white\", \"linecolor\": \"white\", \"minorgridcolor\": \"white\", \"startlinecolor\": \"#2a3f5f\"}, \"baxis\": {\"endlinecolor\": \"#2a3f5f\", \"gridcolor\": \"white\", \"linecolor\": \"white\", \"minorgridcolor\": \"white\", \"startlinecolor\": \"#2a3f5f\"}, \"type\": \"carpet\"}], \"choropleth\": [{\"colorbar\": {\"outlinewidth\": 0, \"ticks\": \"\"}, \"type\": \"choropleth\"}], \"contour\": [{\"colorbar\": {\"outlinewidth\": 0, \"ticks\": \"\"}, \"colorscale\": [[0.0, \"#0d0887\"], [0.1111111111111111, \"#46039f\"], [0.2222222222222222, \"#7201a8\"], [0.3333333333333333, \"#9c179e\"], [0.4444444444444444, \"#bd3786\"], [0.5555555555555556, \"#d8576b\"], [0.6666666666666666, \"#ed7953\"], [0.7777777777777778, \"#fb9f3a\"], [0.8888888888888888, \"#fdca26\"], [1.0, \"#f0f921\"]], \"type\": \"contour\"}], \"contourcarpet\": [{\"colorbar\": {\"outlinewidth\": 0, \"ticks\": \"\"}, \"type\": \"contourcarpet\"}], \"heatmap\": [{\"colorbar\": {\"outlinewidth\": 0, \"ticks\": \"\"}, \"colorscale\": [[0.0, \"#0d0887\"], [0.1111111111111111, \"#46039f\"], [0.2222222222222222, \"#7201a8\"], [0.3333333333333333, \"#9c179e\"], [0.4444444444444444, \"#bd3786\"], [0.5555555555555556, \"#d8576b\"], [0.6666666666666666, \"#ed7953\"], [0.7777777777777778, \"#fb9f3a\"], [0.8888888888888888, \"#fdca26\"], [1.0, \"#f0f921\"]], \"type\": \"heatmap\"}], \"heatmapgl\": [{\"colorbar\": {\"outlinewidth\": 0, \"ticks\": \"\"}, \"colorscale\": [[0.0, \"#0d0887\"], [0.1111111111111111, \"#46039f\"], [0.2222222222222222, \"#7201a8\"], [0.3333333333333333, \"#9c179e\"], [0.4444444444444444, \"#bd3786\"], [0.5555555555555556, \"#d8576b\"], [0.6666666666666666, \"#ed7953\"], [0.7777777777777778, \"#fb9f3a\"], [0.8888888888888888, \"#fdca26\"], [1.0, \"#f0f921\"]], \"type\": \"heatmapgl\"}], \"histogram\": [{\"marker\": {\"colorbar\": {\"outlinewidth\": 0, \"ticks\": \"\"}}, \"type\": \"histogram\"}], \"histogram2d\": [{\"colorbar\": {\"outlinewidth\": 0, \"ticks\": \"\"}, \"colorscale\": [[0.0, \"#0d0887\"], [0.1111111111111111, \"#46039f\"], [0.2222222222222222, \"#7201a8\"], [0.3333333333333333, \"#9c179e\"], [0.4444444444444444, \"#bd3786\"], [0.5555555555555556, \"#d8576b\"], [0.6666666666666666, \"#ed7953\"], [0.7777777777777778, \"#fb9f3a\"], [0.8888888888888888, \"#fdca26\"], [1.0, \"#f0f921\"]], \"type\": \"histogram2d\"}], \"histogram2dcontour\": [{\"colorbar\": {\"outlinewidth\": 0, \"ticks\": \"\"}, \"colorscale\": [[0.0, \"#0d0887\"], [0.1111111111111111, \"#46039f\"], [0.2222222222222222, \"#7201a8\"], [0.3333333333333333, \"#9c179e\"], [0.4444444444444444, \"#bd3786\"], [0.5555555555555556, \"#d8576b\"], [0.6666666666666666, \"#ed7953\"], [0.7777777777777778, \"#fb9f3a\"], [0.8888888888888888, \"#fdca26\"], [1.0, \"#f0f921\"]], \"type\": \"histogram2dcontour\"}], \"mesh3d\": [{\"colorbar\": {\"outlinewidth\": 0, \"ticks\": \"\"}, \"type\": \"mesh3d\"}], \"parcoords\": [{\"line\": {\"colorbar\": {\"outlinewidth\": 0, \"ticks\": \"\"}}, \"type\": \"parcoords\"}], \"pie\": [{\"automargin\": true, \"type\": \"pie\"}], \"scatter\": [{\"marker\": {\"colorbar\": {\"outlinewidth\": 0, \"ticks\": \"\"}}, \"type\": \"scatter\"}], \"scatter3d\": [{\"line\": {\"colorbar\": {\"outlinewidth\": 0, \"ticks\": \"\"}}, \"marker\": {\"colorbar\": {\"outlinewidth\": 0, \"ticks\": \"\"}}, \"type\": \"scatter3d\"}], \"scattercarpet\": [{\"marker\": {\"colorbar\": {\"outlinewidth\": 0, \"ticks\": \"\"}}, \"type\": \"scattercarpet\"}], \"scattergeo\": [{\"marker\": {\"colorbar\": {\"outlinewidth\": 0, \"ticks\": \"\"}}, \"type\": \"scattergeo\"}], \"scattergl\": [{\"marker\": {\"colorbar\": {\"outlinewidth\": 0, \"ticks\": \"\"}}, \"type\": \"scattergl\"}], \"scattermapbox\": [{\"marker\": {\"colorbar\": {\"outlinewidth\": 0, \"ticks\": \"\"}}, \"type\": \"scattermapbox\"}], \"scatterpolar\": [{\"marker\": {\"colorbar\": {\"outlinewidth\": 0, \"ticks\": \"\"}}, \"type\": \"scatterpolar\"}], \"scatterpolargl\": [{\"marker\": {\"colorbar\": {\"outlinewidth\": 0, \"ticks\": \"\"}}, \"type\": \"scatterpolargl\"}], \"scatterternary\": [{\"marker\": {\"colorbar\": {\"outlinewidth\": 0, \"ticks\": \"\"}}, \"type\": \"scatterternary\"}], \"surface\": [{\"colorbar\": {\"outlinewidth\": 0, \"ticks\": \"\"}, \"colorscale\": [[0.0, \"#0d0887\"], [0.1111111111111111, \"#46039f\"], [0.2222222222222222, \"#7201a8\"], [0.3333333333333333, \"#9c179e\"], [0.4444444444444444, \"#bd3786\"], [0.5555555555555556, \"#d8576b\"], [0.6666666666666666, \"#ed7953\"], [0.7777777777777778, \"#fb9f3a\"], [0.8888888888888888, \"#fdca26\"], [1.0, \"#f0f921\"]], \"type\": \"surface\"}], \"table\": [{\"cells\": {\"fill\": {\"color\": \"#EBF0F8\"}, \"line\": {\"color\": \"white\"}}, \"header\": {\"fill\": {\"color\": \"#C8D4E3\"}, \"line\": {\"color\": \"white\"}}, \"type\": \"table\"}]}, \"layout\": {\"annotationdefaults\": {\"arrowcolor\": \"#2a3f5f\", \"arrowhead\": 0, \"arrowwidth\": 1}, \"coloraxis\": {\"colorbar\": {\"outlinewidth\": 0, \"ticks\": \"\"}}, \"colorscale\": {\"diverging\": [[0, \"#8e0152\"], [0.1, \"#c51b7d\"], [0.2, \"#de77ae\"], [0.3, \"#f1b6da\"], [0.4, \"#fde0ef\"], [0.5, \"#f7f7f7\"], [0.6, \"#e6f5d0\"], [0.7, \"#b8e186\"], [0.8, \"#7fbc41\"], [0.9, \"#4d9221\"], [1, \"#276419\"]], \"sequential\": [[0.0, \"#0d0887\"], [0.1111111111111111, \"#46039f\"], [0.2222222222222222, \"#7201a8\"], [0.3333333333333333, \"#9c179e\"], [0.4444444444444444, \"#bd3786\"], [0.5555555555555556, \"#d8576b\"], [0.6666666666666666, \"#ed7953\"], [0.7777777777777778, \"#fb9f3a\"], [0.8888888888888888, \"#fdca26\"], [1.0, \"#f0f921\"]], \"sequentialminus\": [[0.0, \"#0d0887\"], [0.1111111111111111, \"#46039f\"], [0.2222222222222222, \"#7201a8\"], [0.3333333333333333, \"#9c179e\"], [0.4444444444444444, \"#bd3786\"], [0.5555555555555556, \"#d8576b\"], [0.6666666666666666, \"#ed7953\"], [0.7777777777777778, \"#fb9f3a\"], [0.8888888888888888, \"#fdca26\"], [1.0, \"#f0f921\"]]}, \"colorway\": [\"#636efa\", \"#EF553B\", \"#00cc96\", \"#ab63fa\", \"#FFA15A\", \"#19d3f3\", \"#FF6692\", \"#B6E880\", \"#FF97FF\", \"#FECB52\"], \"font\": {\"color\": \"#2a3f5f\"}, \"geo\": {\"bgcolor\": \"white\", \"lakecolor\": \"white\", \"landcolor\": \"#E5ECF6\", \"showlakes\": true, \"showland\": true, \"subunitcolor\": \"white\"}, \"hoverlabel\": {\"align\": \"left\"}, \"hovermode\": \"closest\", \"mapbox\": {\"style\": \"light\"}, \"paper_bgcolor\": \"white\", \"plot_bgcolor\": \"#E5ECF6\", \"polar\": {\"angularaxis\": {\"gridcolor\": \"white\", \"linecolor\": \"white\", \"ticks\": \"\"}, \"bgcolor\": \"#E5ECF6\", \"radialaxis\": {\"gridcolor\": \"white\", \"linecolor\": \"white\", \"ticks\": \"\"}}, \"scene\": {\"xaxis\": {\"backgroundcolor\": \"#E5ECF6\", \"gridcolor\": \"white\", \"gridwidth\": 2, \"linecolor\": \"white\", \"showbackground\": true, \"ticks\": \"\", \"zerolinecolor\": \"white\"}, \"yaxis\": {\"backgroundcolor\": \"#E5ECF6\", \"gridcolor\": \"white\", \"gridwidth\": 2, \"linecolor\": \"white\", \"showbackground\": true, \"ticks\": \"\", \"zerolinecolor\": \"white\"}, \"zaxis\": {\"backgroundcolor\": \"#E5ECF6\", \"gridcolor\": \"white\", \"gridwidth\": 2, \"linecolor\": \"white\", \"showbackground\": true, \"ticks\": \"\", \"zerolinecolor\": \"white\"}}, \"shapedefaults\": {\"line\": {\"color\": \"#2a3f5f\"}}, \"ternary\": {\"aaxis\": {\"gridcolor\": \"white\", \"linecolor\": \"white\", \"ticks\": \"\"}, \"baxis\": {\"gridcolor\": \"white\", \"linecolor\": \"white\", \"ticks\": \"\"}, \"bgcolor\": \"#E5ECF6\", \"caxis\": {\"gridcolor\": \"white\", \"linecolor\": \"white\", \"ticks\": \"\"}}, \"title\": {\"x\": 0.05}, \"xaxis\": {\"automargin\": true, \"gridcolor\": \"white\", \"linecolor\": \"white\", \"ticks\": \"\", \"title\": {\"standoff\": 15}, \"zerolinecolor\": \"white\", \"zerolinewidth\": 2}, \"yaxis\": {\"automargin\": true, \"gridcolor\": \"white\", \"linecolor\": \"white\", \"ticks\": \"\", \"title\": {\"standoff\": 15}, \"zerolinecolor\": \"white\", \"zerolinewidth\": 2}}}, \"title\": {\"text\": \"Optimization History Plot\"}, \"xaxis\": {\"title\": {\"text\": \"#Trials\"}}, \"yaxis\": {\"title\": {\"text\": \"Objective Value\"}}},\n",
              "                        {\"responsive\": true}\n",
              "                    ).then(function(){\n",
              "                            \n",
              "var gd = document.getElementById('26fc25e2-c383-4a33-a43d-3a63184300a1');\n",
              "var x = new MutationObserver(function (mutations, observer) {{\n",
              "        var display = window.getComputedStyle(gd).display;\n",
              "        if (!display || display === 'none') {{\n",
              "            console.log([gd, 'removed!']);\n",
              "            Plotly.purge(gd);\n",
              "            observer.disconnect();\n",
              "        }}\n",
              "}});\n",
              "\n",
              "// Listen for the removal of the full notebook cells\n",
              "var notebookContainer = gd.closest('#notebook-container');\n",
              "if (notebookContainer) {{\n",
              "    x.observe(notebookContainer, {childList: true});\n",
              "}}\n",
              "\n",
              "// Listen for the clearing of the current output cell\n",
              "var outputEl = gd.closest('.output');\n",
              "if (outputEl) {{\n",
              "    x.observe(outputEl, {childList: true});\n",
              "}}\n",
              "\n",
              "                        })\n",
              "                };\n",
              "                \n",
              "            </script>\n",
              "        </div>\n",
              "</body>\n",
              "</html>"
            ]
          },
          "metadata": {
            "tags": []
          }
        }
      ]
    },
    {
      "cell_type": "code",
      "metadata": {
        "colab": {
          "base_uri": "https://localhost:8080/",
          "height": 542
        },
        "id": "7l2fu4SV7Nyl",
        "outputId": "eff77523-9987-411d-df79-1eecf3783e6a"
      },
      "source": [
        "from optuna.visualization import plot_parallel_coordinate\r\n",
        "\r\n",
        "plot_parallel_coordinate(study)"
      ],
      "execution_count": null,
      "outputs": [
        {
          "output_type": "display_data",
          "data": {
            "text/html": [
              "<html>\n",
              "<head><meta charset=\"utf-8\" /></head>\n",
              "<body>\n",
              "    <div>\n",
              "            <script src=\"https://cdnjs.cloudflare.com/ajax/libs/mathjax/2.7.5/MathJax.js?config=TeX-AMS-MML_SVG\"></script><script type=\"text/javascript\">if (window.MathJax) {MathJax.Hub.Config({SVG: {font: \"STIX-Web\"}});}</script>\n",
              "                <script type=\"text/javascript\">window.PlotlyConfig = {MathJaxConfig: 'local'};</script>\n",
              "        <script src=\"https://cdn.plot.ly/plotly-latest.min.js\"></script>    \n",
              "            <div id=\"13526865-34dc-466d-b084-9e10a21927b5\" class=\"plotly-graph-div\" style=\"height:525px; width:100%;\"></div>\n",
              "            <script type=\"text/javascript\">\n",
              "                \n",
              "                    window.PLOTLYENV=window.PLOTLYENV || {};\n",
              "                    \n",
              "                if (document.getElementById(\"13526865-34dc-466d-b084-9e10a21927b5\")) {\n",
              "                    Plotly.newPlot(\n",
              "                        '13526865-34dc-466d-b084-9e10a21927b5',\n",
              "                        [{\"dimensions\": [{\"label\": \"Objective Value\", \"range\": [0.010222656652331352, 0.8648902177810669], \"values\": [0.045244988054037094, 0.8583734035491943, 0.11039497703313828, 0.8591107130050659, 0.8503291606903076, 0.8554579615592957, 0.8648902177810669, 0.8571761846542358, 0.02196807600557804, 0.8514925837516785, 0.011738891713321209, 0.3127578794956207, 0.010222656652331352, 0.011491762474179268, 0.020757462829351425, 0.8637469410896301, 0.014141112565994263, 0.8540076613426208, 0.024586739018559456, 0.8429388403892517]}, {\"label\": \"activation\", \"range\": [0, 2], \"ticktext\": [[\"relu\", 0], [\"sigmoid\", 1], [\"linear\", 2]], \"tickvals\": [0, 1, 2], \"values\": [0, 1, 0, 1, 2, 1, 1, 1, 0, 2, 0, 0, 0, 0, 0, 0, 0, 2, 0, 0]}, {\"label\": \"dropout\", \"range\": [0.006029251119957252, 0.7256325017292086], \"values\": [0.4810814801190188, 0.27260294861256523, 0.29203547920527795, 0.014968432626955597, 0.4208085086952463, 0.7256325017292086, 0.27770609789934103, 0.3686856279955417, 0.1260605609179243, 0.1275238600416694, 0.03182466491719216, 0.006029251119957252, 0.1229937659470397, 0.13455494341597218, 0.1579817653205578, 0.5985297228248626, 0.1827994885957162, 0.08887364593127349, 0.26447691038990506, 0.5098522782585017]}, {\"label\": \"lr\", \"range\": [1.1702106381995107e-05, 0.05925974058521353], \"values\": [0.013430079749926981, 0.05925974058521353, 0.05600259642183213, 1.1702106381995107e-05, 0.008859400485777493, 0.0036302705798702062, 0.030109814477727814, 0.005947818646941644, 0.006955525882519313, 0.044052254269271646, 0.0002659409804060432, 0.00011748755179107809, 0.00032017926706975815, 0.0002699795885692738, 0.00040193412199978127, 4.958523314732827e-05, 0.001098135371979857, 1.4225103132573321e-05, 0.001379956800906502, 4.1967570325508134e-05]}, {\"label\": \"units\", \"range\": [28.0, 2039.0], \"values\": [1091.0, 294.0, 310.0, 440.0, 976.0, 883.0, 1068.0, 1040.0, 682.0, 1299.0, 1970.0, 1906.0, 2039.0, 1985.0, 1607.0, 1531.0, 1768.0, 2014.0, 1423.0, 28.0]}], \"labelangle\": 30, \"labelside\": \"bottom\", \"line\": {\"color\": [0.045244988054037094, 0.8583734035491943, 0.11039497703313828, 0.8591107130050659, 0.8503291606903076, 0.8554579615592957, 0.8648902177810669, 0.8571761846542358, 0.02196807600557804, 0.8514925837516785, 0.011738891713321209, 0.3127578794956207, 0.010222656652331352, 0.011491762474179268, 0.020757462829351425, 0.8637469410896301, 0.014141112565994263, 0.8540076613426208, 0.024586739018559456, 0.8429388403892517], \"colorbar\": {\"title\": {\"text\": \"Objective Value\"}}, \"colorscale\": [[0.0, \"rgb(247,251,255)\"], [0.125, \"rgb(222,235,247)\"], [0.25, \"rgb(198,219,239)\"], [0.375, \"rgb(158,202,225)\"], [0.5, \"rgb(107,174,214)\"], [0.625, \"rgb(66,146,198)\"], [0.75, \"rgb(33,113,181)\"], [0.875, \"rgb(8,81,156)\"], [1.0, \"rgb(8,48,107)\"]], \"reversescale\": true, \"showscale\": true}, \"type\": \"parcoords\"}],\n",
              "                        {\"template\": {\"data\": {\"bar\": [{\"error_x\": {\"color\": \"#2a3f5f\"}, \"error_y\": {\"color\": \"#2a3f5f\"}, \"marker\": {\"line\": {\"color\": \"#E5ECF6\", \"width\": 0.5}}, \"type\": \"bar\"}], \"barpolar\": [{\"marker\": {\"line\": {\"color\": \"#E5ECF6\", \"width\": 0.5}}, \"type\": \"barpolar\"}], \"carpet\": [{\"aaxis\": {\"endlinecolor\": \"#2a3f5f\", \"gridcolor\": \"white\", \"linecolor\": \"white\", \"minorgridcolor\": \"white\", \"startlinecolor\": \"#2a3f5f\"}, \"baxis\": {\"endlinecolor\": \"#2a3f5f\", \"gridcolor\": \"white\", \"linecolor\": \"white\", \"minorgridcolor\": \"white\", \"startlinecolor\": \"#2a3f5f\"}, \"type\": \"carpet\"}], \"choropleth\": [{\"colorbar\": {\"outlinewidth\": 0, \"ticks\": \"\"}, \"type\": \"choropleth\"}], \"contour\": [{\"colorbar\": {\"outlinewidth\": 0, \"ticks\": \"\"}, \"colorscale\": [[0.0, \"#0d0887\"], [0.1111111111111111, \"#46039f\"], [0.2222222222222222, \"#7201a8\"], [0.3333333333333333, \"#9c179e\"], [0.4444444444444444, \"#bd3786\"], [0.5555555555555556, \"#d8576b\"], [0.6666666666666666, \"#ed7953\"], [0.7777777777777778, \"#fb9f3a\"], [0.8888888888888888, \"#fdca26\"], [1.0, \"#f0f921\"]], \"type\": \"contour\"}], \"contourcarpet\": [{\"colorbar\": {\"outlinewidth\": 0, \"ticks\": \"\"}, \"type\": \"contourcarpet\"}], \"heatmap\": [{\"colorbar\": {\"outlinewidth\": 0, \"ticks\": \"\"}, \"colorscale\": [[0.0, \"#0d0887\"], [0.1111111111111111, \"#46039f\"], [0.2222222222222222, \"#7201a8\"], [0.3333333333333333, \"#9c179e\"], [0.4444444444444444, \"#bd3786\"], [0.5555555555555556, \"#d8576b\"], [0.6666666666666666, \"#ed7953\"], [0.7777777777777778, \"#fb9f3a\"], [0.8888888888888888, \"#fdca26\"], [1.0, \"#f0f921\"]], \"type\": \"heatmap\"}], \"heatmapgl\": [{\"colorbar\": {\"outlinewidth\": 0, \"ticks\": \"\"}, \"colorscale\": [[0.0, \"#0d0887\"], [0.1111111111111111, \"#46039f\"], [0.2222222222222222, \"#7201a8\"], [0.3333333333333333, \"#9c179e\"], [0.4444444444444444, \"#bd3786\"], [0.5555555555555556, \"#d8576b\"], [0.6666666666666666, \"#ed7953\"], [0.7777777777777778, \"#fb9f3a\"], [0.8888888888888888, \"#fdca26\"], [1.0, \"#f0f921\"]], \"type\": \"heatmapgl\"}], \"histogram\": [{\"marker\": {\"colorbar\": {\"outlinewidth\": 0, \"ticks\": \"\"}}, \"type\": \"histogram\"}], \"histogram2d\": [{\"colorbar\": {\"outlinewidth\": 0, \"ticks\": \"\"}, \"colorscale\": [[0.0, \"#0d0887\"], [0.1111111111111111, \"#46039f\"], [0.2222222222222222, \"#7201a8\"], [0.3333333333333333, \"#9c179e\"], [0.4444444444444444, \"#bd3786\"], [0.5555555555555556, \"#d8576b\"], [0.6666666666666666, \"#ed7953\"], [0.7777777777777778, \"#fb9f3a\"], [0.8888888888888888, \"#fdca26\"], [1.0, \"#f0f921\"]], \"type\": \"histogram2d\"}], \"histogram2dcontour\": [{\"colorbar\": {\"outlinewidth\": 0, \"ticks\": \"\"}, \"colorscale\": [[0.0, \"#0d0887\"], [0.1111111111111111, \"#46039f\"], [0.2222222222222222, \"#7201a8\"], [0.3333333333333333, \"#9c179e\"], [0.4444444444444444, \"#bd3786\"], [0.5555555555555556, \"#d8576b\"], [0.6666666666666666, \"#ed7953\"], [0.7777777777777778, \"#fb9f3a\"], [0.8888888888888888, \"#fdca26\"], [1.0, \"#f0f921\"]], \"type\": \"histogram2dcontour\"}], \"mesh3d\": [{\"colorbar\": {\"outlinewidth\": 0, \"ticks\": \"\"}, \"type\": \"mesh3d\"}], \"parcoords\": [{\"line\": {\"colorbar\": {\"outlinewidth\": 0, \"ticks\": \"\"}}, \"type\": \"parcoords\"}], \"pie\": [{\"automargin\": true, \"type\": \"pie\"}], \"scatter\": [{\"marker\": {\"colorbar\": {\"outlinewidth\": 0, \"ticks\": \"\"}}, \"type\": \"scatter\"}], \"scatter3d\": [{\"line\": {\"colorbar\": {\"outlinewidth\": 0, \"ticks\": \"\"}}, \"marker\": {\"colorbar\": {\"outlinewidth\": 0, \"ticks\": \"\"}}, \"type\": \"scatter3d\"}], \"scattercarpet\": [{\"marker\": {\"colorbar\": {\"outlinewidth\": 0, \"ticks\": \"\"}}, \"type\": \"scattercarpet\"}], \"scattergeo\": [{\"marker\": {\"colorbar\": {\"outlinewidth\": 0, \"ticks\": \"\"}}, \"type\": \"scattergeo\"}], \"scattergl\": [{\"marker\": {\"colorbar\": {\"outlinewidth\": 0, \"ticks\": \"\"}}, \"type\": \"scattergl\"}], \"scattermapbox\": [{\"marker\": {\"colorbar\": {\"outlinewidth\": 0, \"ticks\": \"\"}}, \"type\": \"scattermapbox\"}], \"scatterpolar\": [{\"marker\": {\"colorbar\": {\"outlinewidth\": 0, \"ticks\": \"\"}}, \"type\": \"scatterpolar\"}], \"scatterpolargl\": [{\"marker\": {\"colorbar\": {\"outlinewidth\": 0, \"ticks\": \"\"}}, \"type\": \"scatterpolargl\"}], \"scatterternary\": [{\"marker\": {\"colorbar\": {\"outlinewidth\": 0, \"ticks\": \"\"}}, \"type\": \"scatterternary\"}], \"surface\": [{\"colorbar\": {\"outlinewidth\": 0, \"ticks\": \"\"}, \"colorscale\": [[0.0, \"#0d0887\"], [0.1111111111111111, \"#46039f\"], [0.2222222222222222, \"#7201a8\"], [0.3333333333333333, \"#9c179e\"], [0.4444444444444444, \"#bd3786\"], [0.5555555555555556, \"#d8576b\"], [0.6666666666666666, \"#ed7953\"], [0.7777777777777778, \"#fb9f3a\"], [0.8888888888888888, \"#fdca26\"], [1.0, \"#f0f921\"]], \"type\": \"surface\"}], \"table\": [{\"cells\": {\"fill\": {\"color\": \"#EBF0F8\"}, \"line\": {\"color\": \"white\"}}, \"header\": {\"fill\": {\"color\": \"#C8D4E3\"}, \"line\": {\"color\": \"white\"}}, \"type\": \"table\"}]}, \"layout\": {\"annotationdefaults\": {\"arrowcolor\": \"#2a3f5f\", \"arrowhead\": 0, \"arrowwidth\": 1}, \"coloraxis\": {\"colorbar\": {\"outlinewidth\": 0, \"ticks\": \"\"}}, \"colorscale\": {\"diverging\": [[0, \"#8e0152\"], [0.1, \"#c51b7d\"], [0.2, \"#de77ae\"], [0.3, \"#f1b6da\"], [0.4, \"#fde0ef\"], [0.5, \"#f7f7f7\"], [0.6, \"#e6f5d0\"], [0.7, \"#b8e186\"], [0.8, \"#7fbc41\"], [0.9, \"#4d9221\"], [1, \"#276419\"]], \"sequential\": [[0.0, \"#0d0887\"], [0.1111111111111111, \"#46039f\"], [0.2222222222222222, \"#7201a8\"], [0.3333333333333333, \"#9c179e\"], [0.4444444444444444, \"#bd3786\"], [0.5555555555555556, \"#d8576b\"], [0.6666666666666666, \"#ed7953\"], [0.7777777777777778, \"#fb9f3a\"], [0.8888888888888888, \"#fdca26\"], [1.0, \"#f0f921\"]], \"sequentialminus\": [[0.0, \"#0d0887\"], [0.1111111111111111, \"#46039f\"], [0.2222222222222222, \"#7201a8\"], [0.3333333333333333, \"#9c179e\"], [0.4444444444444444, \"#bd3786\"], [0.5555555555555556, \"#d8576b\"], [0.6666666666666666, \"#ed7953\"], [0.7777777777777778, \"#fb9f3a\"], [0.8888888888888888, \"#fdca26\"], [1.0, \"#f0f921\"]]}, \"colorway\": [\"#636efa\", \"#EF553B\", \"#00cc96\", \"#ab63fa\", \"#FFA15A\", \"#19d3f3\", \"#FF6692\", \"#B6E880\", \"#FF97FF\", \"#FECB52\"], \"font\": {\"color\": \"#2a3f5f\"}, \"geo\": {\"bgcolor\": \"white\", \"lakecolor\": \"white\", \"landcolor\": \"#E5ECF6\", \"showlakes\": true, \"showland\": true, \"subunitcolor\": \"white\"}, \"hoverlabel\": {\"align\": \"left\"}, \"hovermode\": \"closest\", \"mapbox\": {\"style\": \"light\"}, \"paper_bgcolor\": \"white\", \"plot_bgcolor\": \"#E5ECF6\", \"polar\": {\"angularaxis\": {\"gridcolor\": \"white\", \"linecolor\": \"white\", \"ticks\": \"\"}, \"bgcolor\": \"#E5ECF6\", \"radialaxis\": {\"gridcolor\": \"white\", \"linecolor\": \"white\", \"ticks\": \"\"}}, \"scene\": {\"xaxis\": {\"backgroundcolor\": \"#E5ECF6\", \"gridcolor\": \"white\", \"gridwidth\": 2, \"linecolor\": \"white\", \"showbackground\": true, \"ticks\": \"\", \"zerolinecolor\": \"white\"}, \"yaxis\": {\"backgroundcolor\": \"#E5ECF6\", \"gridcolor\": \"white\", \"gridwidth\": 2, \"linecolor\": \"white\", \"showbackground\": true, \"ticks\": \"\", \"zerolinecolor\": \"white\"}, \"zaxis\": {\"backgroundcolor\": \"#E5ECF6\", \"gridcolor\": \"white\", \"gridwidth\": 2, \"linecolor\": \"white\", \"showbackground\": true, \"ticks\": \"\", \"zerolinecolor\": \"white\"}}, \"shapedefaults\": {\"line\": {\"color\": \"#2a3f5f\"}}, \"ternary\": {\"aaxis\": {\"gridcolor\": \"white\", \"linecolor\": \"white\", \"ticks\": \"\"}, \"baxis\": {\"gridcolor\": \"white\", \"linecolor\": \"white\", \"ticks\": \"\"}, \"bgcolor\": \"#E5ECF6\", \"caxis\": {\"gridcolor\": \"white\", \"linecolor\": \"white\", \"ticks\": \"\"}}, \"title\": {\"x\": 0.05}, \"xaxis\": {\"automargin\": true, \"gridcolor\": \"white\", \"linecolor\": \"white\", \"ticks\": \"\", \"title\": {\"standoff\": 15}, \"zerolinecolor\": \"white\", \"zerolinewidth\": 2}, \"yaxis\": {\"automargin\": true, \"gridcolor\": \"white\", \"linecolor\": \"white\", \"ticks\": \"\", \"title\": {\"standoff\": 15}, \"zerolinecolor\": \"white\", \"zerolinewidth\": 2}}}, \"title\": {\"text\": \"Parallel Coordinate Plot\"}},\n",
              "                        {\"responsive\": true}\n",
              "                    ).then(function(){\n",
              "                            \n",
              "var gd = document.getElementById('13526865-34dc-466d-b084-9e10a21927b5');\n",
              "var x = new MutationObserver(function (mutations, observer) {{\n",
              "        var display = window.getComputedStyle(gd).display;\n",
              "        if (!display || display === 'none') {{\n",
              "            console.log([gd, 'removed!']);\n",
              "            Plotly.purge(gd);\n",
              "            observer.disconnect();\n",
              "        }}\n",
              "}});\n",
              "\n",
              "// Listen for the removal of the full notebook cells\n",
              "var notebookContainer = gd.closest('#notebook-container');\n",
              "if (notebookContainer) {{\n",
              "    x.observe(notebookContainer, {childList: true});\n",
              "}}\n",
              "\n",
              "// Listen for the clearing of the current output cell\n",
              "var outputEl = gd.closest('.output');\n",
              "if (outputEl) {{\n",
              "    x.observe(outputEl, {childList: true});\n",
              "}}\n",
              "\n",
              "                        })\n",
              "                };\n",
              "                \n",
              "            </script>\n",
              "        </div>\n",
              "</body>\n",
              "</html>"
            ]
          },
          "metadata": {
            "tags": []
          }
        }
      ]
    },
    {
      "cell_type": "code",
      "metadata": {
        "colab": {
          "base_uri": "https://localhost:8080/",
          "height": 542
        },
        "id": "16ywII5Q7Yof",
        "outputId": "59e19156-9143-42a7-b877-6841405f8b53"
      },
      "source": [
        "from optuna.visualization import plot_contour\r\n",
        "\r\n",
        "plot_contour(study)"
      ],
      "execution_count": null,
      "outputs": [
        {
          "output_type": "display_data",
          "data": {
            "text/html": [
              "<html>\n",
              "<head><meta charset=\"utf-8\" /></head>\n",
              "<body>\n",
              "    <div>\n",
              "            <script src=\"https://cdnjs.cloudflare.com/ajax/libs/mathjax/2.7.5/MathJax.js?config=TeX-AMS-MML_SVG\"></script><script type=\"text/javascript\">if (window.MathJax) {MathJax.Hub.Config({SVG: {font: \"STIX-Web\"}});}</script>\n",
              "                <script type=\"text/javascript\">window.PlotlyConfig = {MathJaxConfig: 'local'};</script>\n",
              "        <script src=\"https://cdn.plot.ly/plotly-latest.min.js\"></script>    \n",
              "            <div id=\"0dd30a3c-d020-4e48-891a-afdd5b4bb7aa\" class=\"plotly-graph-div\" style=\"height:525px; width:100%;\"></div>\n",
              "            <script type=\"text/javascript\">\n",
              "                \n",
              "                    window.PLOTLYENV=window.PLOTLYENV || {};\n",
              "                    \n",
              "                if (document.getElementById(\"0dd30a3c-d020-4e48-891a-afdd5b4bb7aa\")) {\n",
              "                    Plotly.newPlot(\n",
              "                        '0dd30a3c-d020-4e48-891a-afdd5b4bb7aa',\n",
              "                        [{\"type\": \"scatter\", \"xaxis\": \"x\", \"yaxis\": \"y\"}, {\"colorbar\": {\"title\": {\"text\": \"Objective Value\"}}, \"colorscale\": [[0, \"rgb(220,220,220)\"], [0.30000000000000004, \"rgb(106,137,247)\"], [0.4, \"rgb(90,120,245)\"], [0.5, \"rgb(70,100,245)\"], [0.65, \"rgb(40,60,190)\"], [1, \"rgb(5,10,172)\"]], \"connectgaps\": true, \"contours\": {\"coloring\": \"heatmap\"}, \"hoverinfo\": \"none\", \"line\": {\"smoothing\": 1.3}, \"showscale\": true, \"type\": \"contour\", \"x\": [\"linear\", \"relu\", \"sigmoid\"], \"xaxis\": \"x5\", \"y\": [-0.029950911410505314, 0.006029251119957252, 0.014968432626955597, 0.03182466491719216, 0.08887364593127349, 0.1229937659470397, 0.1260605609179243, 0.1275238600416694, 0.13455494341597218, 0.1579817653205578, 0.1827994885957162, 0.26447691038990506, 0.27260294861256523, 0.27770609789934103, 0.29203547920527795, 0.3686856279955417, 0.4208085086952463, 0.4810814801190188, 0.5098522782585017, 0.5985297228248626, 0.7256325017292086, 0.7616126642596711], \"yaxis\": \"y5\", \"z\": [[null, null, null], [null, 0.3127578794956207, null], [null, null, 0.8591107130050659], [null, 0.011738891713321209, null], [0.8540076613426208, null, null], [null, 0.010222656652331352, null], [null, 0.02196807600557804, null], [0.8514925837516785, null, null], [null, 0.011491762474179268, null], [null, 0.020757462829351425, null], [null, 0.014141112565994263, null], [null, 0.024586739018559456, null], [null, null, 0.8583734035491943], [null, null, 0.8648902177810669], [null, 0.11039497703313828, null], [null, null, 0.8571761846542358], [0.8503291606903076, null, null], [null, 0.045244988054037094, null], [null, 0.8429388403892517, null], [null, 0.8637469410896301, null], [null, null, 0.8554579615592957], [null, null, null]]}, {\"marker\": {\"color\": \"black\", \"line\": {\"color\": \"Grey\", \"width\": 0.5}}, \"mode\": \"markers\", \"showlegend\": false, \"type\": \"scatter\", \"x\": [\"relu\", \"sigmoid\", \"relu\", \"sigmoid\", \"linear\", \"sigmoid\", \"sigmoid\", \"sigmoid\", \"relu\", \"linear\", \"relu\", \"relu\", \"relu\", \"relu\", \"relu\", \"relu\", \"relu\", \"linear\", \"relu\", \"relu\"], \"xaxis\": \"x5\", \"y\": [0.4810814801190188, 0.27260294861256523, 0.29203547920527795, 0.014968432626955597, 0.4208085086952463, 0.7256325017292086, 0.27770609789934103, 0.3686856279955417, 0.1260605609179243, 0.1275238600416694, 0.03182466491719216, 0.006029251119957252, 0.1229937659470397, 0.13455494341597218, 0.1579817653205578, 0.5985297228248626, 0.1827994885957162, 0.08887364593127349, 0.26447691038990506, 0.5098522782585017], \"yaxis\": \"y5\"}, {\"colorbar\": {\"title\": {\"text\": \"Objective Value\"}}, \"colorscale\": [[0, \"rgb(220,220,220)\"], [0.30000000000000004, \"rgb(106,137,247)\"], [0.4, \"rgb(90,120,245)\"], [0.5, \"rgb(70,100,245)\"], [0.65, \"rgb(40,60,190)\"], [1, \"rgb(5,10,172)\"]], \"connectgaps\": true, \"contours\": {\"coloring\": \"heatmap\"}, \"hoverinfo\": \"none\", \"line\": {\"smoothing\": 1.3}, \"showscale\": false, \"type\": \"contour\", \"x\": [\"linear\", \"relu\", \"sigmoid\"], \"xaxis\": \"x9\", \"y\": [7.639048312433416e-06, 1.1702106381995107e-05, 1.4225103132573321e-05, 4.1967570325508134e-05, 4.958523314732827e-05, 0.00011748755179107809, 0.0002659409804060432, 0.0002699795885692738, 0.00032017926706975815, 0.00040193412199978127, 0.001098135371979857, 0.001379956800906502, 0.0036302705798702062, 0.005947818646941644, 0.006955525882519313, 0.008859400485777493, 0.013430079749926981, 0.030109814477727814, 0.044052254269271646, 0.05600259642183213, 0.05925974058521353, 0.09077881957742177], \"yaxis\": \"y9\", \"z\": [[null, null, null], [null, null, 0.8591107130050659], [0.8540076613426208, null, null], [null, 0.8429388403892517, null], [null, 0.8637469410896301, null], [null, 0.3127578794956207, null], [null, 0.011738891713321209, null], [null, 0.011491762474179268, null], [null, 0.010222656652331352, null], [null, 0.020757462829351425, null], [null, 0.014141112565994263, null], [null, 0.024586739018559456, null], [null, null, 0.8554579615592957], [null, null, 0.8571761846542358], [null, 0.02196807600557804, null], [0.8503291606903076, null, null], [null, 0.045244988054037094, null], [null, null, 0.8648902177810669], [0.8514925837516785, null, null], [null, 0.11039497703313828, null], [null, null, 0.8583734035491943], [null, null, null]]}, {\"marker\": {\"color\": \"black\", \"line\": {\"color\": \"Grey\", \"width\": 0.5}}, \"mode\": \"markers\", \"showlegend\": false, \"type\": \"scatter\", \"x\": [\"relu\", \"sigmoid\", \"relu\", \"sigmoid\", \"linear\", \"sigmoid\", \"sigmoid\", \"sigmoid\", \"relu\", \"linear\", \"relu\", \"relu\", \"relu\", \"relu\", \"relu\", \"relu\", \"relu\", \"linear\", \"relu\", \"relu\"], \"xaxis\": \"x9\", \"y\": [0.013430079749926981, 0.05925974058521353, 0.05600259642183213, 1.1702106381995107e-05, 0.008859400485777493, 0.0036302705798702062, 0.030109814477727814, 0.005947818646941644, 0.006955525882519313, 0.044052254269271646, 0.0002659409804060432, 0.00011748755179107809, 0.00032017926706975815, 0.0002699795885692738, 0.00040193412199978127, 4.958523314732827e-05, 0.001098135371979857, 1.4225103132573321e-05, 0.001379956800906502, 4.1967570325508134e-05], \"yaxis\": \"y9\"}, {\"colorbar\": {\"title\": {\"text\": \"Objective Value\"}}, \"colorscale\": [[0, \"rgb(220,220,220)\"], [0.30000000000000004, \"rgb(106,137,247)\"], [0.4, \"rgb(90,120,245)\"], [0.5, \"rgb(70,100,245)\"], [0.65, \"rgb(40,60,190)\"], [1, \"rgb(5,10,172)\"]], \"connectgaps\": true, \"contours\": {\"coloring\": \"heatmap\"}, \"hoverinfo\": \"none\", \"line\": {\"smoothing\": 1.3}, \"showscale\": false, \"type\": \"contour\", \"x\": [\"linear\", \"relu\", \"sigmoid\"], \"xaxis\": \"x13\", \"y\": [-72.55000000000001, 28.0, 294.0, 310.0, 440.0, 682.0, 883.0, 976.0, 1040.0, 1068.0, 1091.0, 1299.0, 1423.0, 1531.0, 1607.0, 1768.0, 1906.0, 1970.0, 1985.0, 2014.0, 2039.0, 2139.55], \"yaxis\": \"y13\", \"z\": [[null, null, null], [null, 0.8429388403892517, null], [null, null, 0.8583734035491943], [null, 0.11039497703313828, null], [null, null, 0.8591107130050659], [null, 0.02196807600557804, null], [null, null, 0.8554579615592957], [0.8503291606903076, null, null], [null, null, 0.8571761846542358], [null, null, 0.8648902177810669], [null, 0.045244988054037094, null], [0.8514925837516785, null, null], [null, 0.024586739018559456, null], [null, 0.8637469410896301, null], [null, 0.020757462829351425, null], [null, 0.014141112565994263, null], [null, 0.3127578794956207, null], [null, 0.011738891713321209, null], [null, 0.011491762474179268, null], [0.8540076613426208, null, null], [null, 0.010222656652331352, null], [null, null, null]]}, {\"marker\": {\"color\": \"black\", \"line\": {\"color\": \"Grey\", \"width\": 0.5}}, \"mode\": \"markers\", \"showlegend\": false, \"type\": \"scatter\", \"x\": [\"relu\", \"sigmoid\", \"relu\", \"sigmoid\", \"linear\", \"sigmoid\", \"sigmoid\", \"sigmoid\", \"relu\", \"linear\", \"relu\", \"relu\", \"relu\", \"relu\", \"relu\", \"relu\", \"relu\", \"linear\", \"relu\", \"relu\"], \"xaxis\": \"x13\", \"y\": [1091.0, 294.0, 310.0, 440.0, 976.0, 883.0, 1068.0, 1040.0, 682.0, 1299.0, 1970.0, 1906.0, 2039.0, 1985.0, 1607.0, 1531.0, 1768.0, 2014.0, 1423.0, 28.0], \"yaxis\": \"y13\"}, {\"colorbar\": {\"title\": {\"text\": \"Objective Value\"}}, \"colorscale\": [[0, \"rgb(220,220,220)\"], [0.30000000000000004, \"rgb(106,137,247)\"], [0.4, \"rgb(90,120,245)\"], [0.5, \"rgb(70,100,245)\"], [0.65, \"rgb(40,60,190)\"], [1, \"rgb(5,10,172)\"]], \"connectgaps\": true, \"contours\": {\"coloring\": \"heatmap\"}, \"hoverinfo\": \"none\", \"line\": {\"smoothing\": 1.3}, \"showscale\": false, \"type\": \"contour\", \"x\": [-0.029950911410505314, 0.006029251119957252, 0.014968432626955597, 0.03182466491719216, 0.08887364593127349, 0.1229937659470397, 0.1260605609179243, 0.1275238600416694, 0.13455494341597218, 0.1579817653205578, 0.1827994885957162, 0.26447691038990506, 0.27260294861256523, 0.27770609789934103, 0.29203547920527795, 0.3686856279955417, 0.4208085086952463, 0.4810814801190188, 0.5098522782585017, 0.5985297228248626, 0.7256325017292086, 0.7616126642596711], \"xaxis\": \"x2\", \"y\": [\"linear\", \"relu\", \"sigmoid\"], \"yaxis\": \"y2\", \"z\": [[null, null, null, null, 0.8540076613426208, null, null, 0.8514925837516785, null, null, null, null, null, null, null, null, 0.8503291606903076, null, null, null, null, null], [null, 0.3127578794956207, null, 0.011738891713321209, null, 0.010222656652331352, 0.02196807600557804, null, 0.011491762474179268, 0.020757462829351425, 0.014141112565994263, 0.024586739018559456, null, null, 0.11039497703313828, null, null, 0.045244988054037094, 0.8429388403892517, 0.8637469410896301, null, null], [null, null, 0.8591107130050659, null, null, null, null, null, null, null, null, null, 0.8583734035491943, 0.8648902177810669, null, 0.8571761846542358, null, null, null, null, 0.8554579615592957, null]]}, {\"marker\": {\"color\": \"black\", \"line\": {\"color\": \"Grey\", \"width\": 0.5}}, \"mode\": \"markers\", \"showlegend\": false, \"type\": \"scatter\", \"x\": [0.4810814801190188, 0.27260294861256523, 0.29203547920527795, 0.014968432626955597, 0.4208085086952463, 0.7256325017292086, 0.27770609789934103, 0.3686856279955417, 0.1260605609179243, 0.1275238600416694, 0.03182466491719216, 0.006029251119957252, 0.1229937659470397, 0.13455494341597218, 0.1579817653205578, 0.5985297228248626, 0.1827994885957162, 0.08887364593127349, 0.26447691038990506, 0.5098522782585017], \"xaxis\": \"x2\", \"y\": [\"relu\", \"sigmoid\", \"relu\", \"sigmoid\", \"linear\", \"sigmoid\", \"sigmoid\", \"sigmoid\", \"relu\", \"linear\", \"relu\", \"relu\", \"relu\", \"relu\", \"relu\", \"relu\", \"relu\", \"linear\", \"relu\", \"relu\"], \"yaxis\": \"y2\"}, {\"type\": \"scatter\", \"xaxis\": \"x6\", \"yaxis\": \"y6\"}, {\"colorbar\": {\"title\": {\"text\": \"Objective Value\"}}, \"colorscale\": [[0, \"rgb(220,220,220)\"], [0.30000000000000004, \"rgb(106,137,247)\"], [0.4, \"rgb(90,120,245)\"], [0.5, \"rgb(70,100,245)\"], [0.65, \"rgb(40,60,190)\"], [1, \"rgb(5,10,172)\"]], \"connectgaps\": true, \"contours\": {\"coloring\": \"heatmap\"}, \"hoverinfo\": \"none\", \"line\": {\"smoothing\": 1.3}, \"showscale\": false, \"type\": \"contour\", \"x\": [-0.029950911410505314, 0.006029251119957252, 0.014968432626955597, 0.03182466491719216, 0.08887364593127349, 0.1229937659470397, 0.1260605609179243, 0.1275238600416694, 0.13455494341597218, 0.1579817653205578, 0.1827994885957162, 0.26447691038990506, 0.27260294861256523, 0.27770609789934103, 0.29203547920527795, 0.3686856279955417, 0.4208085086952463, 0.4810814801190188, 0.5098522782585017, 0.5985297228248626, 0.7256325017292086, 0.7616126642596711], \"xaxis\": \"x10\", \"y\": [7.639048312433416e-06, 1.1702106381995107e-05, 1.4225103132573321e-05, 4.1967570325508134e-05, 4.958523314732827e-05, 0.00011748755179107809, 0.0002659409804060432, 0.0002699795885692738, 0.00032017926706975815, 0.00040193412199978127, 0.001098135371979857, 0.001379956800906502, 0.0036302705798702062, 0.005947818646941644, 0.006955525882519313, 0.008859400485777493, 0.013430079749926981, 0.030109814477727814, 0.044052254269271646, 0.05600259642183213, 0.05925974058521353, 0.09077881957742177], \"yaxis\": \"y10\", \"z\": [[null, null, null, null, null, null, null, null, null, null, null, null, null, null, null, null, null, null, null, null, null, null], [null, null, 0.8591107130050659, null, null, null, null, null, null, null, null, null, null, null, null, null, null, null, null, null, null, null], [null, null, null, null, 0.8540076613426208, null, null, null, null, null, null, null, null, null, null, null, null, null, null, null, null, null], [null, null, null, null, null, null, null, null, null, null, null, null, null, null, null, null, null, null, 0.8429388403892517, null, null, null], [null, null, null, null, null, null, null, null, null, null, null, null, null, null, null, null, null, null, null, 0.8637469410896301, null, null], [null, 0.3127578794956207, null, null, null, null, null, null, null, null, null, null, null, null, null, null, null, null, null, null, null, null], [null, null, null, 0.011738891713321209, null, null, null, null, null, null, null, null, null, null, null, null, null, null, null, null, null, null], [null, null, null, null, null, null, null, null, 0.011491762474179268, null, null, null, null, null, null, null, null, null, null, null, null, null], [null, null, null, null, null, 0.010222656652331352, null, null, null, null, null, null, null, null, null, null, null, null, null, null, null, null], [null, null, null, null, null, null, null, null, null, 0.020757462829351425, null, null, null, null, null, null, null, null, null, null, null, null], [null, null, null, null, null, null, null, null, null, null, 0.014141112565994263, null, null, null, null, null, null, null, null, null, null, null], [null, null, null, null, null, null, null, null, null, null, null, 0.024586739018559456, null, null, null, null, null, null, null, null, null, null], [null, null, null, null, null, null, null, null, null, null, null, null, null, null, null, null, null, null, null, null, 0.8554579615592957, null], [null, null, null, null, null, null, null, null, null, null, null, null, null, null, null, 0.8571761846542358, null, null, null, null, null, null], [null, null, null, null, null, null, 0.02196807600557804, null, null, null, null, null, null, null, null, null, null, null, null, null, null, null], [null, null, null, null, null, null, null, null, null, null, null, null, null, null, null, null, 0.8503291606903076, null, null, null, null, null], [null, null, null, null, null, null, null, null, null, null, null, null, null, null, null, null, null, 0.045244988054037094, null, null, null, null], [null, null, null, null, null, null, null, null, null, null, null, null, null, 0.8648902177810669, null, null, null, null, null, null, null, null], [null, null, null, null, null, null, null, 0.8514925837516785, null, null, null, null, null, null, null, null, null, null, null, null, null, null], [null, null, null, null, null, null, null, null, null, null, null, null, null, null, 0.11039497703313828, null, null, null, null, null, null, null], [null, null, null, null, null, null, null, null, null, null, null, null, 0.8583734035491943, null, null, null, null, null, null, null, null, null], [null, null, null, null, null, null, null, null, null, null, null, null, null, null, null, null, null, null, null, null, null, null]]}, {\"marker\": {\"color\": \"black\", \"line\": {\"color\": \"Grey\", \"width\": 0.5}}, \"mode\": \"markers\", \"showlegend\": false, \"type\": \"scatter\", \"x\": [0.4810814801190188, 0.27260294861256523, 0.29203547920527795, 0.014968432626955597, 0.4208085086952463, 0.7256325017292086, 0.27770609789934103, 0.3686856279955417, 0.1260605609179243, 0.1275238600416694, 0.03182466491719216, 0.006029251119957252, 0.1229937659470397, 0.13455494341597218, 0.1579817653205578, 0.5985297228248626, 0.1827994885957162, 0.08887364593127349, 0.26447691038990506, 0.5098522782585017], \"xaxis\": \"x10\", \"y\": [0.013430079749926981, 0.05925974058521353, 0.05600259642183213, 1.1702106381995107e-05, 0.008859400485777493, 0.0036302705798702062, 0.030109814477727814, 0.005947818646941644, 0.006955525882519313, 0.044052254269271646, 0.0002659409804060432, 0.00011748755179107809, 0.00032017926706975815, 0.0002699795885692738, 0.00040193412199978127, 4.958523314732827e-05, 0.001098135371979857, 1.4225103132573321e-05, 0.001379956800906502, 4.1967570325508134e-05], \"yaxis\": \"y10\"}, {\"colorbar\": {\"title\": {\"text\": \"Objective Value\"}}, \"colorscale\": [[0, \"rgb(220,220,220)\"], [0.30000000000000004, \"rgb(106,137,247)\"], [0.4, \"rgb(90,120,245)\"], [0.5, \"rgb(70,100,245)\"], [0.65, \"rgb(40,60,190)\"], [1, \"rgb(5,10,172)\"]], \"connectgaps\": true, \"contours\": {\"coloring\": \"heatmap\"}, \"hoverinfo\": \"none\", \"line\": {\"smoothing\": 1.3}, \"showscale\": false, \"type\": \"contour\", \"x\": [-0.029950911410505314, 0.006029251119957252, 0.014968432626955597, 0.03182466491719216, 0.08887364593127349, 0.1229937659470397, 0.1260605609179243, 0.1275238600416694, 0.13455494341597218, 0.1579817653205578, 0.1827994885957162, 0.26447691038990506, 0.27260294861256523, 0.27770609789934103, 0.29203547920527795, 0.3686856279955417, 0.4208085086952463, 0.4810814801190188, 0.5098522782585017, 0.5985297228248626, 0.7256325017292086, 0.7616126642596711], \"xaxis\": \"x14\", \"y\": [-72.55000000000001, 28.0, 294.0, 310.0, 440.0, 682.0, 883.0, 976.0, 1040.0, 1068.0, 1091.0, 1299.0, 1423.0, 1531.0, 1607.0, 1768.0, 1906.0, 1970.0, 1985.0, 2014.0, 2039.0, 2139.55], \"yaxis\": \"y14\", \"z\": [[null, null, null, null, null, null, null, null, null, null, null, null, null, null, null, null, null, null, null, null, null, null], [null, null, null, null, null, null, null, null, null, null, null, null, null, null, null, null, null, null, 0.8429388403892517, null, null, null], [null, null, null, null, null, null, null, null, null, null, null, null, 0.8583734035491943, null, null, null, null, null, null, null, null, null], [null, null, null, null, null, null, null, null, null, null, null, null, null, null, 0.11039497703313828, null, null, null, null, null, null, null], [null, null, 0.8591107130050659, null, null, null, null, null, null, null, null, null, null, null, null, null, null, null, null, null, null, null], [null, null, null, null, null, null, 0.02196807600557804, null, null, null, null, null, null, null, null, null, null, null, null, null, null, null], [null, null, null, null, null, null, null, null, null, null, null, null, null, null, null, null, null, null, null, null, 0.8554579615592957, null], [null, null, null, null, null, null, null, null, null, null, null, null, null, null, null, null, 0.8503291606903076, null, null, null, null, null], [null, null, null, null, null, null, null, null, null, null, null, null, null, null, null, 0.8571761846542358, null, null, null, null, null, null], [null, null, null, null, null, null, null, null, null, null, null, null, null, 0.8648902177810669, null, null, null, null, null, null, null, null], [null, null, null, null, null, null, null, null, null, null, null, null, null, null, null, null, null, 0.045244988054037094, null, null, null, null], [null, null, null, null, null, null, null, 0.8514925837516785, null, null, null, null, null, null, null, null, null, null, null, null, null, null], [null, null, null, null, null, null, null, null, null, null, null, 0.024586739018559456, null, null, null, null, null, null, null, null, null, null], [null, null, null, null, null, null, null, null, null, null, null, null, null, null, null, null, null, null, null, 0.8637469410896301, null, null], [null, null, null, null, null, null, null, null, null, 0.020757462829351425, null, null, null, null, null, null, null, null, null, null, null, null], [null, null, null, null, null, null, null, null, null, null, 0.014141112565994263, null, null, null, null, null, null, null, null, null, null, null], [null, 0.3127578794956207, null, null, null, null, null, null, null, null, null, null, null, null, null, null, null, null, null, null, null, null], [null, null, null, 0.011738891713321209, null, null, null, null, null, null, null, null, null, null, null, null, null, null, null, null, null, null], [null, null, null, null, null, null, null, null, 0.011491762474179268, null, null, null, null, null, null, null, null, null, null, null, null, null], [null, null, null, null, 0.8540076613426208, null, null, null, null, null, null, null, null, null, null, null, null, null, null, null, null, null], [null, null, null, null, null, 0.010222656652331352, null, null, null, null, null, null, null, null, null, null, null, null, null, null, null, null], [null, null, null, null, null, null, null, null, null, null, null, null, null, null, null, null, null, null, null, null, null, null]]}, {\"marker\": {\"color\": \"black\", \"line\": {\"color\": \"Grey\", \"width\": 0.5}}, \"mode\": \"markers\", \"showlegend\": false, \"type\": \"scatter\", \"x\": [0.4810814801190188, 0.27260294861256523, 0.29203547920527795, 0.014968432626955597, 0.4208085086952463, 0.7256325017292086, 0.27770609789934103, 0.3686856279955417, 0.1260605609179243, 0.1275238600416694, 0.03182466491719216, 0.006029251119957252, 0.1229937659470397, 0.13455494341597218, 0.1579817653205578, 0.5985297228248626, 0.1827994885957162, 0.08887364593127349, 0.26447691038990506, 0.5098522782585017], \"xaxis\": \"x14\", \"y\": [1091.0, 294.0, 310.0, 440.0, 976.0, 883.0, 1068.0, 1040.0, 682.0, 1299.0, 1970.0, 1906.0, 2039.0, 1985.0, 1607.0, 1531.0, 1768.0, 2014.0, 1423.0, 28.0], \"yaxis\": \"y14\"}, {\"colorbar\": {\"title\": {\"text\": \"Objective Value\"}}, \"colorscale\": [[0, \"rgb(220,220,220)\"], [0.30000000000000004, \"rgb(106,137,247)\"], [0.4, \"rgb(90,120,245)\"], [0.5, \"rgb(70,100,245)\"], [0.65, \"rgb(40,60,190)\"], [1, \"rgb(5,10,172)\"]], \"connectgaps\": true, \"contours\": {\"coloring\": \"heatmap\"}, \"hoverinfo\": \"none\", \"line\": {\"smoothing\": 1.3}, \"showscale\": false, \"type\": \"contour\", \"x\": [7.639048312433416e-06, 1.1702106381995107e-05, 1.4225103132573321e-05, 4.1967570325508134e-05, 4.958523314732827e-05, 0.00011748755179107809, 0.0002659409804060432, 0.0002699795885692738, 0.00032017926706975815, 0.00040193412199978127, 0.001098135371979857, 0.001379956800906502, 0.0036302705798702062, 0.005947818646941644, 0.006955525882519313, 0.008859400485777493, 0.013430079749926981, 0.030109814477727814, 0.044052254269271646, 0.05600259642183213, 0.05925974058521353, 0.09077881957742177], \"xaxis\": \"x3\", \"y\": [\"linear\", \"relu\", \"sigmoid\"], \"yaxis\": \"y3\", \"z\": [[null, null, 0.8540076613426208, null, null, null, null, null, null, null, null, null, null, null, null, 0.8503291606903076, null, null, 0.8514925837516785, null, null, null], [null, null, null, 0.8429388403892517, 0.8637469410896301, 0.3127578794956207, 0.011738891713321209, 0.011491762474179268, 0.010222656652331352, 0.020757462829351425, 0.014141112565994263, 0.024586739018559456, null, null, 0.02196807600557804, null, 0.045244988054037094, null, null, 0.11039497703313828, null, null], [null, 0.8591107130050659, null, null, null, null, null, null, null, null, null, null, 0.8554579615592957, 0.8571761846542358, null, null, null, 0.8648902177810669, null, null, 0.8583734035491943, null]]}, {\"marker\": {\"color\": \"black\", \"line\": {\"color\": \"Grey\", \"width\": 0.5}}, \"mode\": \"markers\", \"showlegend\": false, \"type\": \"scatter\", \"x\": [0.013430079749926981, 0.05925974058521353, 0.05600259642183213, 1.1702106381995107e-05, 0.008859400485777493, 0.0036302705798702062, 0.030109814477727814, 0.005947818646941644, 0.006955525882519313, 0.044052254269271646, 0.0002659409804060432, 0.00011748755179107809, 0.00032017926706975815, 0.0002699795885692738, 0.00040193412199978127, 4.958523314732827e-05, 0.001098135371979857, 1.4225103132573321e-05, 0.001379956800906502, 4.1967570325508134e-05], \"xaxis\": \"x3\", \"y\": [\"relu\", \"sigmoid\", \"relu\", \"sigmoid\", \"linear\", \"sigmoid\", \"sigmoid\", \"sigmoid\", \"relu\", \"linear\", \"relu\", \"relu\", \"relu\", \"relu\", \"relu\", \"relu\", \"relu\", \"linear\", \"relu\", \"relu\"], \"yaxis\": \"y3\"}, {\"colorbar\": {\"title\": {\"text\": \"Objective Value\"}}, \"colorscale\": [[0, \"rgb(220,220,220)\"], [0.30000000000000004, \"rgb(106,137,247)\"], [0.4, \"rgb(90,120,245)\"], [0.5, \"rgb(70,100,245)\"], [0.65, \"rgb(40,60,190)\"], [1, \"rgb(5,10,172)\"]], \"connectgaps\": true, \"contours\": {\"coloring\": \"heatmap\"}, \"hoverinfo\": \"none\", \"line\": {\"smoothing\": 1.3}, \"showscale\": false, \"type\": \"contour\", \"x\": [7.639048312433416e-06, 1.1702106381995107e-05, 1.4225103132573321e-05, 4.1967570325508134e-05, 4.958523314732827e-05, 0.00011748755179107809, 0.0002659409804060432, 0.0002699795885692738, 0.00032017926706975815, 0.00040193412199978127, 0.001098135371979857, 0.001379956800906502, 0.0036302705798702062, 0.005947818646941644, 0.006955525882519313, 0.008859400485777493, 0.013430079749926981, 0.030109814477727814, 0.044052254269271646, 0.05600259642183213, 0.05925974058521353, 0.09077881957742177], \"xaxis\": \"x7\", \"y\": [-0.029950911410505314, 0.006029251119957252, 0.014968432626955597, 0.03182466491719216, 0.08887364593127349, 0.1229937659470397, 0.1260605609179243, 0.1275238600416694, 0.13455494341597218, 0.1579817653205578, 0.1827994885957162, 0.26447691038990506, 0.27260294861256523, 0.27770609789934103, 0.29203547920527795, 0.3686856279955417, 0.4208085086952463, 0.4810814801190188, 0.5098522782585017, 0.5985297228248626, 0.7256325017292086, 0.7616126642596711], \"yaxis\": \"y7\", \"z\": [[null, null, null, null, null, null, null, null, null, null, null, null, null, null, null, null, null, null, null, null, null, null], [null, null, null, null, null, 0.3127578794956207, null, null, null, null, null, null, null, null, null, null, null, null, null, null, null, null], [null, 0.8591107130050659, null, null, null, null, null, null, null, null, null, null, null, null, null, null, null, null, null, null, null, null], [null, null, null, null, null, null, 0.011738891713321209, null, null, null, null, null, null, null, null, null, null, null, null, null, null, null], [null, null, 0.8540076613426208, null, null, null, null, null, null, null, null, null, null, null, null, null, null, null, null, null, null, null], [null, null, null, null, null, null, null, null, 0.010222656652331352, null, null, null, null, null, null, null, null, null, null, null, null, null], [null, null, null, null, null, null, null, null, null, null, null, null, null, null, 0.02196807600557804, null, null, null, null, null, null, null], [null, null, null, null, null, null, null, null, null, null, null, null, null, null, null, null, null, null, 0.8514925837516785, null, null, null], [null, null, null, null, null, null, null, 0.011491762474179268, null, null, null, null, null, null, null, null, null, null, null, null, null, null], [null, null, null, null, null, null, null, null, null, 0.020757462829351425, null, null, null, null, null, null, null, null, null, null, null, null], [null, null, null, null, null, null, null, null, null, null, 0.014141112565994263, null, null, null, null, null, null, null, null, null, null, null], [null, null, null, null, null, null, null, null, null, null, null, 0.024586739018559456, null, null, null, null, null, null, null, null, null, null], [null, null, null, null, null, null, null, null, null, null, null, null, null, null, null, null, null, null, null, null, 0.8583734035491943, null], [null, null, null, null, null, null, null, null, null, null, null, null, null, null, null, null, null, 0.8648902177810669, null, null, null, null], [null, null, null, null, null, null, null, null, null, null, null, null, null, null, null, null, null, null, null, 0.11039497703313828, null, null], [null, null, null, null, null, null, null, null, null, null, null, null, null, 0.8571761846542358, null, null, null, null, null, null, null, null], [null, null, null, null, null, null, null, null, null, null, null, null, null, null, null, 0.8503291606903076, null, null, null, null, null, null], [null, null, null, null, null, null, null, null, null, null, null, null, null, null, null, null, 0.045244988054037094, null, null, null, null, null], [null, null, null, 0.8429388403892517, null, null, null, null, null, null, null, null, null, null, null, null, null, null, null, null, null, null], [null, null, null, null, 0.8637469410896301, null, null, null, null, null, null, null, null, null, null, null, null, null, null, null, null, null], [null, null, null, null, null, null, null, null, null, null, null, null, 0.8554579615592957, null, null, null, null, null, null, null, null, null], [null, null, null, null, null, null, null, null, null, null, null, null, null, null, null, null, null, null, null, null, null, null]]}, {\"marker\": {\"color\": \"black\", \"line\": {\"color\": \"Grey\", \"width\": 0.5}}, \"mode\": \"markers\", \"showlegend\": false, \"type\": \"scatter\", \"x\": [0.013430079749926981, 0.05925974058521353, 0.05600259642183213, 1.1702106381995107e-05, 0.008859400485777493, 0.0036302705798702062, 0.030109814477727814, 0.005947818646941644, 0.006955525882519313, 0.044052254269271646, 0.0002659409804060432, 0.00011748755179107809, 0.00032017926706975815, 0.0002699795885692738, 0.00040193412199978127, 4.958523314732827e-05, 0.001098135371979857, 1.4225103132573321e-05, 0.001379956800906502, 4.1967570325508134e-05], \"xaxis\": \"x7\", \"y\": [0.4810814801190188, 0.27260294861256523, 0.29203547920527795, 0.014968432626955597, 0.4208085086952463, 0.7256325017292086, 0.27770609789934103, 0.3686856279955417, 0.1260605609179243, 0.1275238600416694, 0.03182466491719216, 0.006029251119957252, 0.1229937659470397, 0.13455494341597218, 0.1579817653205578, 0.5985297228248626, 0.1827994885957162, 0.08887364593127349, 0.26447691038990506, 0.5098522782585017], \"yaxis\": \"y7\"}, {\"type\": \"scatter\", \"xaxis\": \"x11\", \"yaxis\": \"y11\"}, {\"colorbar\": {\"title\": {\"text\": \"Objective Value\"}}, \"colorscale\": [[0, \"rgb(220,220,220)\"], [0.30000000000000004, \"rgb(106,137,247)\"], [0.4, \"rgb(90,120,245)\"], [0.5, \"rgb(70,100,245)\"], [0.65, \"rgb(40,60,190)\"], [1, \"rgb(5,10,172)\"]], \"connectgaps\": true, \"contours\": {\"coloring\": \"heatmap\"}, \"hoverinfo\": \"none\", \"line\": {\"smoothing\": 1.3}, \"showscale\": false, \"type\": \"contour\", \"x\": [7.639048312433416e-06, 1.1702106381995107e-05, 1.4225103132573321e-05, 4.1967570325508134e-05, 4.958523314732827e-05, 0.00011748755179107809, 0.0002659409804060432, 0.0002699795885692738, 0.00032017926706975815, 0.00040193412199978127, 0.001098135371979857, 0.001379956800906502, 0.0036302705798702062, 0.005947818646941644, 0.006955525882519313, 0.008859400485777493, 0.013430079749926981, 0.030109814477727814, 0.044052254269271646, 0.05600259642183213, 0.05925974058521353, 0.09077881957742177], \"xaxis\": \"x15\", \"y\": [-72.55000000000001, 28.0, 294.0, 310.0, 440.0, 682.0, 883.0, 976.0, 1040.0, 1068.0, 1091.0, 1299.0, 1423.0, 1531.0, 1607.0, 1768.0, 1906.0, 1970.0, 1985.0, 2014.0, 2039.0, 2139.55], \"yaxis\": \"y15\", \"z\": [[null, null, null, null, null, null, null, null, null, null, null, null, null, null, null, null, null, null, null, null, null, null], [null, null, null, 0.8429388403892517, null, null, null, null, null, null, null, null, null, null, null, null, null, null, null, null, null, null], [null, null, null, null, null, null, null, null, null, null, null, null, null, null, null, null, null, null, null, null, 0.8583734035491943, null], [null, null, null, null, null, null, null, null, null, null, null, null, null, null, null, null, null, null, null, 0.11039497703313828, null, null], [null, 0.8591107130050659, null, null, null, null, null, null, null, null, null, null, null, null, null, null, null, null, null, null, null, null], [null, null, null, null, null, null, null, null, null, null, null, null, null, null, 0.02196807600557804, null, null, null, null, null, null, null], [null, null, null, null, null, null, null, null, null, null, null, null, 0.8554579615592957, null, null, null, null, null, null, null, null, null], [null, null, null, null, null, null, null, null, null, null, null, null, null, null, null, 0.8503291606903076, null, null, null, null, null, null], [null, null, null, null, null, null, null, null, null, null, null, null, null, 0.8571761846542358, null, null, null, null, null, null, null, null], [null, null, null, null, null, null, null, null, null, null, null, null, null, null, null, null, null, 0.8648902177810669, null, null, null, null], [null, null, null, null, null, null, null, null, null, null, null, null, null, null, null, null, 0.045244988054037094, null, null, null, null, null], [null, null, null, null, null, null, null, null, null, null, null, null, null, null, null, null, null, null, 0.8514925837516785, null, null, null], [null, null, null, null, null, null, null, null, null, null, null, 0.024586739018559456, null, null, null, null, null, null, null, null, null, null], [null, null, null, null, 0.8637469410896301, null, null, null, null, null, null, null, null, null, null, null, null, null, null, null, null, null], [null, null, null, null, null, null, null, null, null, 0.020757462829351425, null, null, null, null, null, null, null, null, null, null, null, null], [null, null, null, null, null, null, null, null, null, null, 0.014141112565994263, null, null, null, null, null, null, null, null, null, null, null], [null, null, null, null, null, 0.3127578794956207, null, null, null, null, null, null, null, null, null, null, null, null, null, null, null, null], [null, null, null, null, null, null, 0.011738891713321209, null, null, null, null, null, null, null, null, null, null, null, null, null, null, null], [null, null, null, null, null, null, null, 0.011491762474179268, null, null, null, null, null, null, null, null, null, null, null, null, null, null], [null, null, 0.8540076613426208, null, null, null, null, null, null, null, null, null, null, null, null, null, null, null, null, null, null, null], [null, null, null, null, null, null, null, null, 0.010222656652331352, null, null, null, null, null, null, null, null, null, null, null, null, null], [null, null, null, null, null, null, null, null, null, null, null, null, null, null, null, null, null, null, null, null, null, null]]}, {\"marker\": {\"color\": \"black\", \"line\": {\"color\": \"Grey\", \"width\": 0.5}}, \"mode\": \"markers\", \"showlegend\": false, \"type\": \"scatter\", \"x\": [0.013430079749926981, 0.05925974058521353, 0.05600259642183213, 1.1702106381995107e-05, 0.008859400485777493, 0.0036302705798702062, 0.030109814477727814, 0.005947818646941644, 0.006955525882519313, 0.044052254269271646, 0.0002659409804060432, 0.00011748755179107809, 0.00032017926706975815, 0.0002699795885692738, 0.00040193412199978127, 4.958523314732827e-05, 0.001098135371979857, 1.4225103132573321e-05, 0.001379956800906502, 4.1967570325508134e-05], \"xaxis\": \"x15\", \"y\": [1091.0, 294.0, 310.0, 440.0, 976.0, 883.0, 1068.0, 1040.0, 682.0, 1299.0, 1970.0, 1906.0, 2039.0, 1985.0, 1607.0, 1531.0, 1768.0, 2014.0, 1423.0, 28.0], \"yaxis\": \"y15\"}, {\"colorbar\": {\"title\": {\"text\": \"Objective Value\"}}, \"colorscale\": [[0, \"rgb(220,220,220)\"], [0.30000000000000004, \"rgb(106,137,247)\"], [0.4, \"rgb(90,120,245)\"], [0.5, \"rgb(70,100,245)\"], [0.65, \"rgb(40,60,190)\"], [1, \"rgb(5,10,172)\"]], \"connectgaps\": true, \"contours\": {\"coloring\": \"heatmap\"}, \"hoverinfo\": \"none\", \"line\": {\"smoothing\": 1.3}, \"showscale\": false, \"type\": \"contour\", \"x\": [-72.55000000000001, 28.0, 294.0, 310.0, 440.0, 682.0, 883.0, 976.0, 1040.0, 1068.0, 1091.0, 1299.0, 1423.0, 1531.0, 1607.0, 1768.0, 1906.0, 1970.0, 1985.0, 2014.0, 2039.0, 2139.55], \"xaxis\": \"x4\", \"y\": [\"linear\", \"relu\", \"sigmoid\"], \"yaxis\": \"y4\", \"z\": [[null, null, null, null, null, null, null, 0.8503291606903076, null, null, null, 0.8514925837516785, null, null, null, null, null, null, null, 0.8540076613426208, null, null], [null, 0.8429388403892517, null, 0.11039497703313828, null, 0.02196807600557804, null, null, null, null, 0.045244988054037094, null, 0.024586739018559456, 0.8637469410896301, 0.020757462829351425, 0.014141112565994263, 0.3127578794956207, 0.011738891713321209, 0.011491762474179268, null, 0.010222656652331352, null], [null, null, 0.8583734035491943, null, 0.8591107130050659, null, 0.8554579615592957, null, 0.8571761846542358, 0.8648902177810669, null, null, null, null, null, null, null, null, null, null, null, null]]}, {\"marker\": {\"color\": \"black\", \"line\": {\"color\": \"Grey\", \"width\": 0.5}}, \"mode\": \"markers\", \"showlegend\": false, \"type\": \"scatter\", \"x\": [1091.0, 294.0, 310.0, 440.0, 976.0, 883.0, 1068.0, 1040.0, 682.0, 1299.0, 1970.0, 1906.0, 2039.0, 1985.0, 1607.0, 1531.0, 1768.0, 2014.0, 1423.0, 28.0], \"xaxis\": \"x4\", \"y\": [\"relu\", \"sigmoid\", \"relu\", \"sigmoid\", \"linear\", \"sigmoid\", \"sigmoid\", \"sigmoid\", \"relu\", \"linear\", \"relu\", \"relu\", \"relu\", \"relu\", \"relu\", \"relu\", \"relu\", \"linear\", \"relu\", \"relu\"], \"yaxis\": \"y4\"}, {\"colorbar\": {\"title\": {\"text\": \"Objective Value\"}}, \"colorscale\": [[0, \"rgb(220,220,220)\"], [0.30000000000000004, \"rgb(106,137,247)\"], [0.4, \"rgb(90,120,245)\"], [0.5, \"rgb(70,100,245)\"], [0.65, \"rgb(40,60,190)\"], [1, \"rgb(5,10,172)\"]], \"connectgaps\": true, \"contours\": {\"coloring\": \"heatmap\"}, \"hoverinfo\": \"none\", \"line\": {\"smoothing\": 1.3}, \"showscale\": false, \"type\": \"contour\", \"x\": [-72.55000000000001, 28.0, 294.0, 310.0, 440.0, 682.0, 883.0, 976.0, 1040.0, 1068.0, 1091.0, 1299.0, 1423.0, 1531.0, 1607.0, 1768.0, 1906.0, 1970.0, 1985.0, 2014.0, 2039.0, 2139.55], \"xaxis\": \"x8\", \"y\": [-0.029950911410505314, 0.006029251119957252, 0.014968432626955597, 0.03182466491719216, 0.08887364593127349, 0.1229937659470397, 0.1260605609179243, 0.1275238600416694, 0.13455494341597218, 0.1579817653205578, 0.1827994885957162, 0.26447691038990506, 0.27260294861256523, 0.27770609789934103, 0.29203547920527795, 0.3686856279955417, 0.4208085086952463, 0.4810814801190188, 0.5098522782585017, 0.5985297228248626, 0.7256325017292086, 0.7616126642596711], \"yaxis\": \"y8\", \"z\": [[null, null, null, null, null, null, null, null, null, null, null, null, null, null, null, null, null, null, null, null, null, null], [null, null, null, null, null, null, null, null, null, null, null, null, null, null, null, null, 0.3127578794956207, null, null, null, null, null], [null, null, null, null, 0.8591107130050659, null, null, null, null, null, null, null, null, null, null, null, null, null, null, null, null, null], [null, null, null, null, null, null, null, null, null, null, null, null, null, null, null, null, null, 0.011738891713321209, null, null, null, null], [null, null, null, null, null, null, null, null, null, null, null, null, null, null, null, null, null, null, null, 0.8540076613426208, null, null], [null, null, null, null, null, null, null, null, null, null, null, null, null, null, null, null, null, null, null, null, 0.010222656652331352, null], [null, null, null, null, null, 0.02196807600557804, null, null, null, null, null, null, null, null, null, null, null, null, null, null, null, null], [null, null, null, null, null, null, null, null, null, null, null, 0.8514925837516785, null, null, null, null, null, null, null, null, null, null], [null, null, null, null, null, null, null, null, null, null, null, null, null, null, null, null, null, null, 0.011491762474179268, null, null, null], [null, null, null, null, null, null, null, null, null, null, null, null, null, null, 0.020757462829351425, null, null, null, null, null, null, null], [null, null, null, null, null, null, null, null, null, null, null, null, null, null, null, 0.014141112565994263, null, null, null, null, null, null], [null, null, null, null, null, null, null, null, null, null, null, null, 0.024586739018559456, null, null, null, null, null, null, null, null, null], [null, null, 0.8583734035491943, null, null, null, null, null, null, null, null, null, null, null, null, null, null, null, null, null, null, null], [null, null, null, null, null, null, null, null, null, 0.8648902177810669, null, null, null, null, null, null, null, null, null, null, null, null], [null, null, null, 0.11039497703313828, null, null, null, null, null, null, null, null, null, null, null, null, null, null, null, null, null, null], [null, null, null, null, null, null, null, null, 0.8571761846542358, null, null, null, null, null, null, null, null, null, null, null, null, null], [null, null, null, null, null, null, null, 0.8503291606903076, null, null, null, null, null, null, null, null, null, null, null, null, null, null], [null, null, null, null, null, null, null, null, null, null, 0.045244988054037094, null, null, null, null, null, null, null, null, null, null, null], [null, 0.8429388403892517, null, null, null, null, null, null, null, null, null, null, null, null, null, null, null, null, null, null, null, null], [null, null, null, null, null, null, null, null, null, null, null, null, null, 0.8637469410896301, null, null, null, null, null, null, null, null], [null, null, null, null, null, null, 0.8554579615592957, null, null, null, null, null, null, null, null, null, null, null, null, null, null, null], [null, null, null, null, null, null, null, null, null, null, null, null, null, null, null, null, null, null, null, null, null, null]]}, {\"marker\": {\"color\": \"black\", \"line\": {\"color\": \"Grey\", \"width\": 0.5}}, \"mode\": \"markers\", \"showlegend\": false, \"type\": \"scatter\", \"x\": [1091.0, 294.0, 310.0, 440.0, 976.0, 883.0, 1068.0, 1040.0, 682.0, 1299.0, 1970.0, 1906.0, 2039.0, 1985.0, 1607.0, 1531.0, 1768.0, 2014.0, 1423.0, 28.0], \"xaxis\": \"x8\", \"y\": [0.4810814801190188, 0.27260294861256523, 0.29203547920527795, 0.014968432626955597, 0.4208085086952463, 0.7256325017292086, 0.27770609789934103, 0.3686856279955417, 0.1260605609179243, 0.1275238600416694, 0.03182466491719216, 0.006029251119957252, 0.1229937659470397, 0.13455494341597218, 0.1579817653205578, 0.5985297228248626, 0.1827994885957162, 0.08887364593127349, 0.26447691038990506, 0.5098522782585017], \"yaxis\": \"y8\"}, {\"colorbar\": {\"title\": {\"text\": \"Objective Value\"}}, \"colorscale\": [[0, \"rgb(220,220,220)\"], [0.30000000000000004, \"rgb(106,137,247)\"], [0.4, \"rgb(90,120,245)\"], [0.5, \"rgb(70,100,245)\"], [0.65, \"rgb(40,60,190)\"], [1, \"rgb(5,10,172)\"]], \"connectgaps\": true, \"contours\": {\"coloring\": \"heatmap\"}, \"hoverinfo\": \"none\", \"line\": {\"smoothing\": 1.3}, \"showscale\": false, \"type\": \"contour\", \"x\": [-72.55000000000001, 28.0, 294.0, 310.0, 440.0, 682.0, 883.0, 976.0, 1040.0, 1068.0, 1091.0, 1299.0, 1423.0, 1531.0, 1607.0, 1768.0, 1906.0, 1970.0, 1985.0, 2014.0, 2039.0, 2139.55], \"xaxis\": \"x12\", \"y\": [7.639048312433416e-06, 1.1702106381995107e-05, 1.4225103132573321e-05, 4.1967570325508134e-05, 4.958523314732827e-05, 0.00011748755179107809, 0.0002659409804060432, 0.0002699795885692738, 0.00032017926706975815, 0.00040193412199978127, 0.001098135371979857, 0.001379956800906502, 0.0036302705798702062, 0.005947818646941644, 0.006955525882519313, 0.008859400485777493, 0.013430079749926981, 0.030109814477727814, 0.044052254269271646, 0.05600259642183213, 0.05925974058521353, 0.09077881957742177], \"yaxis\": \"y12\", \"z\": [[null, null, null, null, null, null, null, null, null, null, null, null, null, null, null, null, null, null, null, null, null, null], [null, null, null, null, 0.8591107130050659, null, null, null, null, null, null, null, null, null, null, null, null, null, null, null, null, null], [null, null, null, null, null, null, null, null, null, null, null, null, null, null, null, null, null, null, null, 0.8540076613426208, null, null], [null, 0.8429388403892517, null, null, null, null, null, null, null, null, null, null, null, null, null, null, null, null, null, null, null, null], [null, null, null, null, null, null, null, null, null, null, null, null, null, 0.8637469410896301, null, null, null, null, null, null, null, null], [null, null, null, null, null, null, null, null, null, null, null, null, null, null, null, null, 0.3127578794956207, null, null, null, null, null], [null, null, null, null, null, null, null, null, null, null, null, null, null, null, null, null, null, 0.011738891713321209, null, null, null, null], [null, null, null, null, null, null, null, null, null, null, null, null, null, null, null, null, null, null, 0.011491762474179268, null, null, null], [null, null, null, null, null, null, null, null, null, null, null, null, null, null, null, null, null, null, null, null, 0.010222656652331352, null], [null, null, null, null, null, null, null, null, null, null, null, null, null, null, 0.020757462829351425, null, null, null, null, null, null, null], [null, null, null, null, null, null, null, null, null, null, null, null, null, null, null, 0.014141112565994263, null, null, null, null, null, null], [null, null, null, null, null, null, null, null, null, null, null, null, 0.024586739018559456, null, null, null, null, null, null, null, null, null], [null, null, null, null, null, null, 0.8554579615592957, null, null, null, null, null, null, null, null, null, null, null, null, null, null, null], [null, null, null, null, null, null, null, null, 0.8571761846542358, null, null, null, null, null, null, null, null, null, null, null, null, null], [null, null, null, null, null, 0.02196807600557804, null, null, null, null, null, null, null, null, null, null, null, null, null, null, null, null], [null, null, null, null, null, null, null, 0.8503291606903076, null, null, null, null, null, null, null, null, null, null, null, null, null, null], [null, null, null, null, null, null, null, null, null, null, 0.045244988054037094, null, null, null, null, null, null, null, null, null, null, null], [null, null, null, null, null, null, null, null, null, 0.8648902177810669, null, null, null, null, null, null, null, null, null, null, null, null], [null, null, null, null, null, null, null, null, null, null, null, 0.8514925837516785, null, null, null, null, null, null, null, null, null, null], [null, null, null, 0.11039497703313828, null, null, null, null, null, null, null, null, null, null, null, null, null, null, null, null, null, null], [null, null, 0.8583734035491943, null, null, null, null, null, null, null, null, null, null, null, null, null, null, null, null, null, null, null], [null, null, null, null, null, null, null, null, null, null, null, null, null, null, null, null, null, null, null, null, null, null]]}, {\"marker\": {\"color\": \"black\", \"line\": {\"color\": \"Grey\", \"width\": 0.5}}, \"mode\": \"markers\", \"showlegend\": false, \"type\": \"scatter\", \"x\": [1091.0, 294.0, 310.0, 440.0, 976.0, 883.0, 1068.0, 1040.0, 682.0, 1299.0, 1970.0, 1906.0, 2039.0, 1985.0, 1607.0, 1531.0, 1768.0, 2014.0, 1423.0, 28.0], \"xaxis\": \"x12\", \"y\": [0.013430079749926981, 0.05925974058521353, 0.05600259642183213, 1.1702106381995107e-05, 0.008859400485777493, 0.0036302705798702062, 0.030109814477727814, 0.005947818646941644, 0.006955525882519313, 0.044052254269271646, 0.0002659409804060432, 0.00011748755179107809, 0.00032017926706975815, 0.0002699795885692738, 0.00040193412199978127, 4.958523314732827e-05, 0.001098135371979857, 1.4225103132573321e-05, 0.001379956800906502, 4.1967570325508134e-05], \"yaxis\": \"y12\"}, {\"type\": \"scatter\", \"xaxis\": \"x16\", \"yaxis\": \"y16\"}],\n",
              "                        {\"template\": {\"data\": {\"bar\": [{\"error_x\": {\"color\": \"#2a3f5f\"}, \"error_y\": {\"color\": \"#2a3f5f\"}, \"marker\": {\"line\": {\"color\": \"#E5ECF6\", \"width\": 0.5}}, \"type\": \"bar\"}], \"barpolar\": [{\"marker\": {\"line\": {\"color\": \"#E5ECF6\", \"width\": 0.5}}, \"type\": \"barpolar\"}], \"carpet\": [{\"aaxis\": {\"endlinecolor\": \"#2a3f5f\", \"gridcolor\": \"white\", \"linecolor\": \"white\", \"minorgridcolor\": \"white\", \"startlinecolor\": \"#2a3f5f\"}, \"baxis\": {\"endlinecolor\": \"#2a3f5f\", \"gridcolor\": \"white\", \"linecolor\": \"white\", \"minorgridcolor\": \"white\", \"startlinecolor\": \"#2a3f5f\"}, \"type\": \"carpet\"}], \"choropleth\": [{\"colorbar\": {\"outlinewidth\": 0, \"ticks\": \"\"}, \"type\": \"choropleth\"}], \"contour\": [{\"colorbar\": {\"outlinewidth\": 0, \"ticks\": \"\"}, \"colorscale\": [[0.0, \"#0d0887\"], [0.1111111111111111, \"#46039f\"], [0.2222222222222222, \"#7201a8\"], [0.3333333333333333, \"#9c179e\"], [0.4444444444444444, \"#bd3786\"], [0.5555555555555556, \"#d8576b\"], [0.6666666666666666, \"#ed7953\"], [0.7777777777777778, \"#fb9f3a\"], [0.8888888888888888, \"#fdca26\"], [1.0, \"#f0f921\"]], \"type\": \"contour\"}], \"contourcarpet\": [{\"colorbar\": {\"outlinewidth\": 0, \"ticks\": \"\"}, \"type\": \"contourcarpet\"}], \"heatmap\": [{\"colorbar\": {\"outlinewidth\": 0, \"ticks\": \"\"}, \"colorscale\": [[0.0, \"#0d0887\"], [0.1111111111111111, \"#46039f\"], [0.2222222222222222, \"#7201a8\"], [0.3333333333333333, \"#9c179e\"], [0.4444444444444444, \"#bd3786\"], [0.5555555555555556, \"#d8576b\"], [0.6666666666666666, \"#ed7953\"], [0.7777777777777778, \"#fb9f3a\"], [0.8888888888888888, \"#fdca26\"], [1.0, \"#f0f921\"]], \"type\": \"heatmap\"}], \"heatmapgl\": [{\"colorbar\": {\"outlinewidth\": 0, \"ticks\": \"\"}, \"colorscale\": [[0.0, \"#0d0887\"], [0.1111111111111111, \"#46039f\"], [0.2222222222222222, \"#7201a8\"], [0.3333333333333333, \"#9c179e\"], [0.4444444444444444, \"#bd3786\"], [0.5555555555555556, \"#d8576b\"], [0.6666666666666666, \"#ed7953\"], [0.7777777777777778, \"#fb9f3a\"], [0.8888888888888888, \"#fdca26\"], [1.0, \"#f0f921\"]], \"type\": \"heatmapgl\"}], \"histogram\": [{\"marker\": {\"colorbar\": {\"outlinewidth\": 0, \"ticks\": \"\"}}, \"type\": \"histogram\"}], \"histogram2d\": [{\"colorbar\": {\"outlinewidth\": 0, \"ticks\": \"\"}, \"colorscale\": [[0.0, \"#0d0887\"], [0.1111111111111111, \"#46039f\"], [0.2222222222222222, \"#7201a8\"], [0.3333333333333333, \"#9c179e\"], [0.4444444444444444, \"#bd3786\"], [0.5555555555555556, \"#d8576b\"], [0.6666666666666666, \"#ed7953\"], [0.7777777777777778, \"#fb9f3a\"], [0.8888888888888888, \"#fdca26\"], [1.0, \"#f0f921\"]], \"type\": \"histogram2d\"}], \"histogram2dcontour\": [{\"colorbar\": {\"outlinewidth\": 0, \"ticks\": \"\"}, \"colorscale\": [[0.0, \"#0d0887\"], [0.1111111111111111, \"#46039f\"], [0.2222222222222222, \"#7201a8\"], [0.3333333333333333, \"#9c179e\"], [0.4444444444444444, \"#bd3786\"], [0.5555555555555556, \"#d8576b\"], [0.6666666666666666, \"#ed7953\"], [0.7777777777777778, \"#fb9f3a\"], [0.8888888888888888, \"#fdca26\"], [1.0, \"#f0f921\"]], \"type\": \"histogram2dcontour\"}], \"mesh3d\": [{\"colorbar\": {\"outlinewidth\": 0, \"ticks\": \"\"}, \"type\": \"mesh3d\"}], \"parcoords\": [{\"line\": {\"colorbar\": {\"outlinewidth\": 0, \"ticks\": \"\"}}, \"type\": \"parcoords\"}], \"pie\": [{\"automargin\": true, \"type\": \"pie\"}], \"scatter\": [{\"marker\": {\"colorbar\": {\"outlinewidth\": 0, \"ticks\": \"\"}}, \"type\": \"scatter\"}], \"scatter3d\": [{\"line\": {\"colorbar\": {\"outlinewidth\": 0, \"ticks\": \"\"}}, \"marker\": {\"colorbar\": {\"outlinewidth\": 0, \"ticks\": \"\"}}, \"type\": \"scatter3d\"}], \"scattercarpet\": [{\"marker\": {\"colorbar\": {\"outlinewidth\": 0, \"ticks\": \"\"}}, \"type\": \"scattercarpet\"}], \"scattergeo\": [{\"marker\": {\"colorbar\": {\"outlinewidth\": 0, \"ticks\": \"\"}}, \"type\": \"scattergeo\"}], \"scattergl\": [{\"marker\": {\"colorbar\": {\"outlinewidth\": 0, \"ticks\": \"\"}}, \"type\": \"scattergl\"}], \"scattermapbox\": [{\"marker\": {\"colorbar\": {\"outlinewidth\": 0, \"ticks\": \"\"}}, \"type\": \"scattermapbox\"}], \"scatterpolar\": [{\"marker\": {\"colorbar\": {\"outlinewidth\": 0, \"ticks\": \"\"}}, \"type\": \"scatterpolar\"}], \"scatterpolargl\": [{\"marker\": {\"colorbar\": {\"outlinewidth\": 0, \"ticks\": \"\"}}, \"type\": \"scatterpolargl\"}], \"scatterternary\": [{\"marker\": {\"colorbar\": {\"outlinewidth\": 0, \"ticks\": \"\"}}, \"type\": \"scatterternary\"}], \"surface\": [{\"colorbar\": {\"outlinewidth\": 0, \"ticks\": \"\"}, \"colorscale\": [[0.0, \"#0d0887\"], [0.1111111111111111, \"#46039f\"], [0.2222222222222222, \"#7201a8\"], [0.3333333333333333, \"#9c179e\"], [0.4444444444444444, \"#bd3786\"], [0.5555555555555556, \"#d8576b\"], [0.6666666666666666, \"#ed7953\"], [0.7777777777777778, \"#fb9f3a\"], [0.8888888888888888, \"#fdca26\"], [1.0, \"#f0f921\"]], \"type\": \"surface\"}], \"table\": [{\"cells\": {\"fill\": {\"color\": \"#EBF0F8\"}, \"line\": {\"color\": \"white\"}}, \"header\": {\"fill\": {\"color\": \"#C8D4E3\"}, \"line\": {\"color\": \"white\"}}, \"type\": \"table\"}]}, \"layout\": {\"annotationdefaults\": {\"arrowcolor\": \"#2a3f5f\", \"arrowhead\": 0, \"arrowwidth\": 1}, \"coloraxis\": {\"colorbar\": {\"outlinewidth\": 0, \"ticks\": \"\"}}, \"colorscale\": {\"diverging\": [[0, \"#8e0152\"], [0.1, \"#c51b7d\"], [0.2, \"#de77ae\"], [0.3, \"#f1b6da\"], [0.4, \"#fde0ef\"], [0.5, \"#f7f7f7\"], [0.6, \"#e6f5d0\"], [0.7, \"#b8e186\"], [0.8, \"#7fbc41\"], [0.9, \"#4d9221\"], [1, \"#276419\"]], \"sequential\": [[0.0, \"#0d0887\"], [0.1111111111111111, \"#46039f\"], [0.2222222222222222, \"#7201a8\"], [0.3333333333333333, \"#9c179e\"], [0.4444444444444444, \"#bd3786\"], [0.5555555555555556, \"#d8576b\"], [0.6666666666666666, \"#ed7953\"], [0.7777777777777778, \"#fb9f3a\"], [0.8888888888888888, \"#fdca26\"], [1.0, \"#f0f921\"]], \"sequentialminus\": [[0.0, \"#0d0887\"], [0.1111111111111111, \"#46039f\"], [0.2222222222222222, \"#7201a8\"], [0.3333333333333333, \"#9c179e\"], [0.4444444444444444, \"#bd3786\"], [0.5555555555555556, \"#d8576b\"], [0.6666666666666666, \"#ed7953\"], [0.7777777777777778, \"#fb9f3a\"], [0.8888888888888888, \"#fdca26\"], [1.0, \"#f0f921\"]]}, \"colorway\": [\"#636efa\", \"#EF553B\", \"#00cc96\", \"#ab63fa\", \"#FFA15A\", \"#19d3f3\", \"#FF6692\", \"#B6E880\", \"#FF97FF\", \"#FECB52\"], \"font\": {\"color\": \"#2a3f5f\"}, \"geo\": {\"bgcolor\": \"white\", \"lakecolor\": \"white\", \"landcolor\": \"#E5ECF6\", \"showlakes\": true, \"showland\": true, \"subunitcolor\": \"white\"}, \"hoverlabel\": {\"align\": \"left\"}, \"hovermode\": \"closest\", \"mapbox\": {\"style\": \"light\"}, \"paper_bgcolor\": \"white\", \"plot_bgcolor\": \"#E5ECF6\", \"polar\": {\"angularaxis\": {\"gridcolor\": \"white\", \"linecolor\": \"white\", \"ticks\": \"\"}, \"bgcolor\": \"#E5ECF6\", \"radialaxis\": {\"gridcolor\": \"white\", \"linecolor\": \"white\", \"ticks\": \"\"}}, \"scene\": {\"xaxis\": {\"backgroundcolor\": \"#E5ECF6\", \"gridcolor\": \"white\", \"gridwidth\": 2, \"linecolor\": \"white\", \"showbackground\": true, \"ticks\": \"\", \"zerolinecolor\": \"white\"}, \"yaxis\": {\"backgroundcolor\": \"#E5ECF6\", \"gridcolor\": \"white\", \"gridwidth\": 2, \"linecolor\": \"white\", \"showbackground\": true, \"ticks\": \"\", \"zerolinecolor\": \"white\"}, \"zaxis\": {\"backgroundcolor\": \"#E5ECF6\", \"gridcolor\": \"white\", \"gridwidth\": 2, \"linecolor\": \"white\", \"showbackground\": true, \"ticks\": \"\", \"zerolinecolor\": \"white\"}}, \"shapedefaults\": {\"line\": {\"color\": \"#2a3f5f\"}}, \"ternary\": {\"aaxis\": {\"gridcolor\": \"white\", \"linecolor\": \"white\", \"ticks\": \"\"}, \"baxis\": {\"gridcolor\": \"white\", \"linecolor\": \"white\", \"ticks\": \"\"}, \"bgcolor\": \"#E5ECF6\", \"caxis\": {\"gridcolor\": \"white\", \"linecolor\": \"white\", \"ticks\": \"\"}}, \"title\": {\"x\": 0.05}, \"xaxis\": {\"automargin\": true, \"gridcolor\": \"white\", \"linecolor\": \"white\", \"ticks\": \"\", \"title\": {\"standoff\": 15}, \"zerolinecolor\": \"white\", \"zerolinewidth\": 2}, \"yaxis\": {\"automargin\": true, \"gridcolor\": \"white\", \"linecolor\": \"white\", \"ticks\": \"\", \"title\": {\"standoff\": 15}, \"zerolinecolor\": \"white\", \"zerolinewidth\": 2}}}, \"title\": {\"text\": \"Contour Plot\"}, \"xaxis\": {\"anchor\": \"y\", \"domain\": [0.0, 0.2125], \"matches\": \"x13\", \"range\": [\"linear\", \"sigmoid\"], \"showticklabels\": false}, \"xaxis10\": {\"anchor\": \"y10\", \"domain\": [0.2625, 0.475], \"matches\": \"x14\", \"range\": [-0.029950911410505314, 0.7616126642596711], \"showticklabels\": false}, \"xaxis11\": {\"anchor\": \"y11\", \"domain\": [0.525, 0.7375], \"matches\": \"x15\", \"range\": [-5.116960743309551, -1.0420154688100136], \"showticklabels\": false, \"type\": \"log\"}, \"xaxis12\": {\"anchor\": \"y12\", \"domain\": [0.7875, 1.0], \"matches\": \"x16\", \"range\": [-72.55000000000001, 2139.55], \"showticklabels\": false}, \"xaxis13\": {\"anchor\": \"y13\", \"domain\": [0.0, 0.2125], \"range\": [\"linear\", \"sigmoid\"], \"title\": {\"text\": \"activation\"}}, \"xaxis14\": {\"anchor\": \"y14\", \"domain\": [0.2625, 0.475], \"range\": [-0.029950911410505314, 0.7616126642596711], \"title\": {\"text\": \"dropout\"}}, \"xaxis15\": {\"anchor\": \"y15\", \"domain\": [0.525, 0.7375], \"range\": [-5.116960743309551, -1.0420154688100136], \"title\": {\"text\": \"lr\"}, \"type\": \"log\"}, \"xaxis16\": {\"anchor\": \"y16\", \"domain\": [0.7875, 1.0], \"range\": [-72.55000000000001, 2139.55], \"title\": {\"text\": \"units\"}}, \"xaxis2\": {\"anchor\": \"y2\", \"domain\": [0.2625, 0.475], \"matches\": \"x14\", \"range\": [-0.029950911410505314, 0.7616126642596711], \"showticklabels\": false}, \"xaxis3\": {\"anchor\": \"y3\", \"domain\": [0.525, 0.7375], \"matches\": \"x15\", \"range\": [-5.116960743309551, -1.0420154688100136], \"showticklabels\": false, \"type\": \"log\"}, \"xaxis4\": {\"anchor\": \"y4\", \"domain\": [0.7875, 1.0], \"matches\": \"x16\", \"range\": [-72.55000000000001, 2139.55], \"showticklabels\": false}, \"xaxis5\": {\"anchor\": \"y5\", \"domain\": [0.0, 0.2125], \"matches\": \"x13\", \"range\": [\"linear\", \"sigmoid\"], \"showticklabels\": false}, \"xaxis6\": {\"anchor\": \"y6\", \"domain\": [0.2625, 0.475], \"matches\": \"x14\", \"range\": [-0.029950911410505314, 0.7616126642596711], \"showticklabels\": false}, \"xaxis7\": {\"anchor\": \"y7\", \"domain\": [0.525, 0.7375], \"matches\": \"x15\", \"range\": [-5.116960743309551, -1.0420154688100136], \"showticklabels\": false, \"type\": \"log\"}, \"xaxis8\": {\"anchor\": \"y8\", \"domain\": [0.7875, 1.0], \"matches\": \"x16\", \"range\": [-72.55000000000001, 2139.55], \"showticklabels\": false}, \"xaxis9\": {\"anchor\": \"y9\", \"domain\": [0.0, 0.2125], \"matches\": \"x13\", \"range\": [\"linear\", \"sigmoid\"], \"showticklabels\": false}, \"yaxis\": {\"anchor\": \"x\", \"domain\": [0.80625, 1.0], \"range\": [\"linear\", \"sigmoid\"], \"title\": {\"text\": \"activation\"}}, \"yaxis10\": {\"anchor\": \"x10\", \"domain\": [0.26875, 0.4625], \"matches\": \"y9\", \"range\": [-5.116960743309551, -1.0420154688100136], \"showticklabels\": false, \"type\": \"log\"}, \"yaxis11\": {\"anchor\": \"x11\", \"domain\": [0.26875, 0.4625], \"matches\": \"y9\", \"range\": [-5.116960743309551, -1.0420154688100136], \"showticklabels\": false, \"type\": \"log\"}, \"yaxis12\": {\"anchor\": \"x12\", \"domain\": [0.26875, 0.4625], \"matches\": \"y9\", \"range\": [-5.116960743309551, -1.0420154688100136], \"showticklabels\": false, \"type\": \"log\"}, \"yaxis13\": {\"anchor\": \"x13\", \"domain\": [0.0, 0.19375], \"range\": [-72.55000000000001, 2139.55], \"title\": {\"text\": \"units\"}}, \"yaxis14\": {\"anchor\": \"x14\", \"domain\": [0.0, 0.19375], \"matches\": \"y13\", \"range\": [-72.55000000000001, 2139.55], \"showticklabels\": false}, \"yaxis15\": {\"anchor\": \"x15\", \"domain\": [0.0, 0.19375], \"matches\": \"y13\", \"range\": [-72.55000000000001, 2139.55], \"showticklabels\": false}, \"yaxis16\": {\"anchor\": \"x16\", \"domain\": [0.0, 0.19375], \"matches\": \"y13\", \"range\": [-72.55000000000001, 2139.55], \"showticklabels\": false}, \"yaxis2\": {\"anchor\": \"x2\", \"domain\": [0.80625, 1.0], \"matches\": \"y\", \"range\": [\"linear\", \"sigmoid\"], \"showticklabels\": false}, \"yaxis3\": {\"anchor\": \"x3\", \"domain\": [0.80625, 1.0], \"matches\": \"y\", \"range\": [\"linear\", \"sigmoid\"], \"showticklabels\": false}, \"yaxis4\": {\"anchor\": \"x4\", \"domain\": [0.80625, 1.0], \"matches\": \"y\", \"range\": [\"linear\", \"sigmoid\"], \"showticklabels\": false}, \"yaxis5\": {\"anchor\": \"x5\", \"domain\": [0.5375, 0.73125], \"range\": [-0.029950911410505314, 0.7616126642596711], \"title\": {\"text\": \"dropout\"}}, \"yaxis6\": {\"anchor\": \"x6\", \"domain\": [0.5375, 0.73125], \"matches\": \"y5\", \"range\": [-0.029950911410505314, 0.7616126642596711], \"showticklabels\": false}, \"yaxis7\": {\"anchor\": \"x7\", \"domain\": [0.5375, 0.73125], \"matches\": \"y5\", \"range\": [-0.029950911410505314, 0.7616126642596711], \"showticklabels\": false}, \"yaxis8\": {\"anchor\": \"x8\", \"domain\": [0.5375, 0.73125], \"matches\": \"y5\", \"range\": [-0.029950911410505314, 0.7616126642596711], \"showticklabels\": false}, \"yaxis9\": {\"anchor\": \"x9\", \"domain\": [0.26875, 0.4625], \"range\": [-5.116960743309551, -1.0420154688100136], \"title\": {\"text\": \"lr\"}, \"type\": \"log\"}},\n",
              "                        {\"responsive\": true}\n",
              "                    ).then(function(){\n",
              "                            \n",
              "var gd = document.getElementById('0dd30a3c-d020-4e48-891a-afdd5b4bb7aa');\n",
              "var x = new MutationObserver(function (mutations, observer) {{\n",
              "        var display = window.getComputedStyle(gd).display;\n",
              "        if (!display || display === 'none') {{\n",
              "            console.log([gd, 'removed!']);\n",
              "            Plotly.purge(gd);\n",
              "            observer.disconnect();\n",
              "        }}\n",
              "}});\n",
              "\n",
              "// Listen for the removal of the full notebook cells\n",
              "var notebookContainer = gd.closest('#notebook-container');\n",
              "if (notebookContainer) {{\n",
              "    x.observe(notebookContainer, {childList: true});\n",
              "}}\n",
              "\n",
              "// Listen for the clearing of the current output cell\n",
              "var outputEl = gd.closest('.output');\n",
              "if (outputEl) {{\n",
              "    x.observe(outputEl, {childList: true});\n",
              "}}\n",
              "\n",
              "                        })\n",
              "                };\n",
              "                \n",
              "            </script>\n",
              "        </div>\n",
              "</body>\n",
              "</html>"
            ]
          },
          "metadata": {
            "tags": []
          }
        }
      ]
    },
    {
      "cell_type": "code",
      "metadata": {
        "colab": {
          "base_uri": "https://localhost:8080/",
          "height": 542
        },
        "id": "RNtrZR0h7fBe",
        "outputId": "217815fc-41d3-4e59-be5a-3026642bc757"
      },
      "source": [
        "plot_contour(study, params=['units', 'dropout'])"
      ],
      "execution_count": null,
      "outputs": [
        {
          "output_type": "display_data",
          "data": {
            "text/html": [
              "<html>\n",
              "<head><meta charset=\"utf-8\" /></head>\n",
              "<body>\n",
              "    <div>\n",
              "            <script src=\"https://cdnjs.cloudflare.com/ajax/libs/mathjax/2.7.5/MathJax.js?config=TeX-AMS-MML_SVG\"></script><script type=\"text/javascript\">if (window.MathJax) {MathJax.Hub.Config({SVG: {font: \"STIX-Web\"}});}</script>\n",
              "                <script type=\"text/javascript\">window.PlotlyConfig = {MathJaxConfig: 'local'};</script>\n",
              "        <script src=\"https://cdn.plot.ly/plotly-latest.min.js\"></script>    \n",
              "            <div id=\"9d0c831f-e8f0-448b-8d42-1ed22da51a2d\" class=\"plotly-graph-div\" style=\"height:525px; width:100%;\"></div>\n",
              "            <script type=\"text/javascript\">\n",
              "                \n",
              "                    window.PLOTLYENV=window.PLOTLYENV || {};\n",
              "                    \n",
              "                if (document.getElementById(\"9d0c831f-e8f0-448b-8d42-1ed22da51a2d\")) {\n",
              "                    Plotly.newPlot(\n",
              "                        '9d0c831f-e8f0-448b-8d42-1ed22da51a2d',\n",
              "                        [{\"colorbar\": {\"title\": {\"text\": \"Objective Value\"}}, \"colorscale\": [[0, \"rgb(220,220,220)\"], [0.30000000000000004, \"rgb(106,137,247)\"], [0.4, \"rgb(90,120,245)\"], [0.5, \"rgb(70,100,245)\"], [0.65, \"rgb(40,60,190)\"], [1, \"rgb(5,10,172)\"]], \"connectgaps\": true, \"contours\": {\"coloring\": \"heatmap\"}, \"hoverinfo\": \"none\", \"line\": {\"smoothing\": 1.3}, \"type\": \"contour\", \"x\": [-0.029950911410505314, 0.006029251119957252, 0.014968432626955597, 0.03182466491719216, 0.08887364593127349, 0.1229937659470397, 0.1260605609179243, 0.1275238600416694, 0.13455494341597218, 0.1579817653205578, 0.1827994885957162, 0.26447691038990506, 0.27260294861256523, 0.27770609789934103, 0.29203547920527795, 0.3686856279955417, 0.4208085086952463, 0.4810814801190188, 0.5098522782585017, 0.5985297228248626, 0.7256325017292086, 0.7616126642596711], \"y\": [-72.55000000000001, 28.0, 294.0, 310.0, 440.0, 682.0, 883.0, 976.0, 1040.0, 1068.0, 1091.0, 1299.0, 1423.0, 1531.0, 1607.0, 1768.0, 1906.0, 1970.0, 1985.0, 2014.0, 2039.0, 2139.55], \"z\": [[null, null, null, null, null, null, null, null, null, null, null, null, null, null, null, null, null, null, null, null, null, null], [null, null, null, null, null, null, null, null, null, null, null, null, null, null, null, null, null, null, 0.8429388403892517, null, null, null], [null, null, null, null, null, null, null, null, null, null, null, null, 0.8583734035491943, null, null, null, null, null, null, null, null, null], [null, null, null, null, null, null, null, null, null, null, null, null, null, null, 0.11039497703313828, null, null, null, null, null, null, null], [null, null, 0.8591107130050659, null, null, null, null, null, null, null, null, null, null, null, null, null, null, null, null, null, null, null], [null, null, null, null, null, null, 0.02196807600557804, null, null, null, null, null, null, null, null, null, null, null, null, null, null, null], [null, null, null, null, null, null, null, null, null, null, null, null, null, null, null, null, null, null, null, null, 0.8554579615592957, null], [null, null, null, null, null, null, null, null, null, null, null, null, null, null, null, null, 0.8503291606903076, null, null, null, null, null], [null, null, null, null, null, null, null, null, null, null, null, null, null, null, null, 0.8571761846542358, null, null, null, null, null, null], [null, null, null, null, null, null, null, null, null, null, null, null, null, 0.8648902177810669, null, null, null, null, null, null, null, null], [null, null, null, null, null, null, null, null, null, null, null, null, null, null, null, null, null, 0.045244988054037094, null, null, null, null], [null, null, null, null, null, null, null, 0.8514925837516785, null, null, null, null, null, null, null, null, null, null, null, null, null, null], [null, null, null, null, null, null, null, null, null, null, null, 0.024586739018559456, null, null, null, null, null, null, null, null, null, null], [null, null, null, null, null, null, null, null, null, null, null, null, null, null, null, null, null, null, null, 0.8637469410896301, null, null], [null, null, null, null, null, null, null, null, null, 0.020757462829351425, null, null, null, null, null, null, null, null, null, null, null, null], [null, null, null, null, null, null, null, null, null, null, 0.014141112565994263, null, null, null, null, null, null, null, null, null, null, null], [null, 0.3127578794956207, null, null, null, null, null, null, null, null, null, null, null, null, null, null, null, null, null, null, null, null], [null, null, null, 0.011738891713321209, null, null, null, null, null, null, null, null, null, null, null, null, null, null, null, null, null, null], [null, null, null, null, null, null, null, null, 0.011491762474179268, null, null, null, null, null, null, null, null, null, null, null, null, null], [null, null, null, null, 0.8540076613426208, null, null, null, null, null, null, null, null, null, null, null, null, null, null, null, null, null], [null, null, null, null, null, 0.010222656652331352, null, null, null, null, null, null, null, null, null, null, null, null, null, null, null, null], [null, null, null, null, null, null, null, null, null, null, null, null, null, null, null, null, null, null, null, null, null, null]]}, {\"marker\": {\"color\": \"black\", \"line\": {\"color\": \"Grey\", \"width\": 0.5}}, \"mode\": \"markers\", \"showlegend\": false, \"type\": \"scatter\", \"x\": [0.4810814801190188, 0.27260294861256523, 0.29203547920527795, 0.014968432626955597, 0.4208085086952463, 0.7256325017292086, 0.27770609789934103, 0.3686856279955417, 0.1260605609179243, 0.1275238600416694, 0.03182466491719216, 0.006029251119957252, 0.1229937659470397, 0.13455494341597218, 0.1579817653205578, 0.5985297228248626, 0.1827994885957162, 0.08887364593127349, 0.26447691038990506, 0.5098522782585017], \"y\": [1091.0, 294.0, 310.0, 440.0, 976.0, 883.0, 1068.0, 1040.0, 682.0, 1299.0, 1970.0, 1906.0, 2039.0, 1985.0, 1607.0, 1531.0, 1768.0, 2014.0, 1423.0, 28.0]}],\n",
              "                        {\"template\": {\"data\": {\"bar\": [{\"error_x\": {\"color\": \"#2a3f5f\"}, \"error_y\": {\"color\": \"#2a3f5f\"}, \"marker\": {\"line\": {\"color\": \"#E5ECF6\", \"width\": 0.5}}, \"type\": \"bar\"}], \"barpolar\": [{\"marker\": {\"line\": {\"color\": \"#E5ECF6\", \"width\": 0.5}}, \"type\": \"barpolar\"}], \"carpet\": [{\"aaxis\": {\"endlinecolor\": \"#2a3f5f\", \"gridcolor\": \"white\", \"linecolor\": \"white\", \"minorgridcolor\": \"white\", \"startlinecolor\": \"#2a3f5f\"}, \"baxis\": {\"endlinecolor\": \"#2a3f5f\", \"gridcolor\": \"white\", \"linecolor\": \"white\", \"minorgridcolor\": \"white\", \"startlinecolor\": \"#2a3f5f\"}, \"type\": \"carpet\"}], \"choropleth\": [{\"colorbar\": {\"outlinewidth\": 0, \"ticks\": \"\"}, \"type\": \"choropleth\"}], \"contour\": [{\"colorbar\": {\"outlinewidth\": 0, \"ticks\": \"\"}, \"colorscale\": [[0.0, \"#0d0887\"], [0.1111111111111111, \"#46039f\"], [0.2222222222222222, \"#7201a8\"], [0.3333333333333333, \"#9c179e\"], [0.4444444444444444, \"#bd3786\"], [0.5555555555555556, \"#d8576b\"], [0.6666666666666666, \"#ed7953\"], [0.7777777777777778, \"#fb9f3a\"], [0.8888888888888888, \"#fdca26\"], [1.0, \"#f0f921\"]], \"type\": \"contour\"}], \"contourcarpet\": [{\"colorbar\": {\"outlinewidth\": 0, \"ticks\": \"\"}, \"type\": \"contourcarpet\"}], \"heatmap\": [{\"colorbar\": {\"outlinewidth\": 0, \"ticks\": \"\"}, \"colorscale\": [[0.0, \"#0d0887\"], [0.1111111111111111, \"#46039f\"], [0.2222222222222222, \"#7201a8\"], [0.3333333333333333, \"#9c179e\"], [0.4444444444444444, \"#bd3786\"], [0.5555555555555556, \"#d8576b\"], [0.6666666666666666, \"#ed7953\"], [0.7777777777777778, \"#fb9f3a\"], [0.8888888888888888, \"#fdca26\"], [1.0, \"#f0f921\"]], \"type\": \"heatmap\"}], \"heatmapgl\": [{\"colorbar\": {\"outlinewidth\": 0, \"ticks\": \"\"}, \"colorscale\": [[0.0, \"#0d0887\"], [0.1111111111111111, \"#46039f\"], [0.2222222222222222, \"#7201a8\"], [0.3333333333333333, \"#9c179e\"], [0.4444444444444444, \"#bd3786\"], [0.5555555555555556, \"#d8576b\"], [0.6666666666666666, \"#ed7953\"], [0.7777777777777778, \"#fb9f3a\"], [0.8888888888888888, \"#fdca26\"], [1.0, \"#f0f921\"]], \"type\": \"heatmapgl\"}], \"histogram\": [{\"marker\": {\"colorbar\": {\"outlinewidth\": 0, \"ticks\": \"\"}}, \"type\": \"histogram\"}], \"histogram2d\": [{\"colorbar\": {\"outlinewidth\": 0, \"ticks\": \"\"}, \"colorscale\": [[0.0, \"#0d0887\"], [0.1111111111111111, \"#46039f\"], [0.2222222222222222, \"#7201a8\"], [0.3333333333333333, \"#9c179e\"], [0.4444444444444444, \"#bd3786\"], [0.5555555555555556, \"#d8576b\"], [0.6666666666666666, \"#ed7953\"], [0.7777777777777778, \"#fb9f3a\"], [0.8888888888888888, \"#fdca26\"], [1.0, \"#f0f921\"]], \"type\": \"histogram2d\"}], \"histogram2dcontour\": [{\"colorbar\": {\"outlinewidth\": 0, \"ticks\": \"\"}, \"colorscale\": [[0.0, \"#0d0887\"], [0.1111111111111111, \"#46039f\"], [0.2222222222222222, \"#7201a8\"], [0.3333333333333333, \"#9c179e\"], [0.4444444444444444, \"#bd3786\"], [0.5555555555555556, \"#d8576b\"], [0.6666666666666666, \"#ed7953\"], [0.7777777777777778, \"#fb9f3a\"], [0.8888888888888888, \"#fdca26\"], [1.0, \"#f0f921\"]], \"type\": \"histogram2dcontour\"}], \"mesh3d\": [{\"colorbar\": {\"outlinewidth\": 0, \"ticks\": \"\"}, \"type\": \"mesh3d\"}], \"parcoords\": [{\"line\": {\"colorbar\": {\"outlinewidth\": 0, \"ticks\": \"\"}}, \"type\": \"parcoords\"}], \"pie\": [{\"automargin\": true, \"type\": \"pie\"}], \"scatter\": [{\"marker\": {\"colorbar\": {\"outlinewidth\": 0, \"ticks\": \"\"}}, \"type\": \"scatter\"}], \"scatter3d\": [{\"line\": {\"colorbar\": {\"outlinewidth\": 0, \"ticks\": \"\"}}, \"marker\": {\"colorbar\": {\"outlinewidth\": 0, \"ticks\": \"\"}}, \"type\": \"scatter3d\"}], \"scattercarpet\": [{\"marker\": {\"colorbar\": {\"outlinewidth\": 0, \"ticks\": \"\"}}, \"type\": \"scattercarpet\"}], \"scattergeo\": [{\"marker\": {\"colorbar\": {\"outlinewidth\": 0, \"ticks\": \"\"}}, \"type\": \"scattergeo\"}], \"scattergl\": [{\"marker\": {\"colorbar\": {\"outlinewidth\": 0, \"ticks\": \"\"}}, \"type\": \"scattergl\"}], \"scattermapbox\": [{\"marker\": {\"colorbar\": {\"outlinewidth\": 0, \"ticks\": \"\"}}, \"type\": \"scattermapbox\"}], \"scatterpolar\": [{\"marker\": {\"colorbar\": {\"outlinewidth\": 0, \"ticks\": \"\"}}, \"type\": \"scatterpolar\"}], \"scatterpolargl\": [{\"marker\": {\"colorbar\": {\"outlinewidth\": 0, \"ticks\": \"\"}}, \"type\": \"scatterpolargl\"}], \"scatterternary\": [{\"marker\": {\"colorbar\": {\"outlinewidth\": 0, \"ticks\": \"\"}}, \"type\": \"scatterternary\"}], \"surface\": [{\"colorbar\": {\"outlinewidth\": 0, \"ticks\": \"\"}, \"colorscale\": [[0.0, \"#0d0887\"], [0.1111111111111111, \"#46039f\"], [0.2222222222222222, \"#7201a8\"], [0.3333333333333333, \"#9c179e\"], [0.4444444444444444, \"#bd3786\"], [0.5555555555555556, \"#d8576b\"], [0.6666666666666666, \"#ed7953\"], [0.7777777777777778, \"#fb9f3a\"], [0.8888888888888888, \"#fdca26\"], [1.0, \"#f0f921\"]], \"type\": \"surface\"}], \"table\": [{\"cells\": {\"fill\": {\"color\": \"#EBF0F8\"}, \"line\": {\"color\": \"white\"}}, \"header\": {\"fill\": {\"color\": \"#C8D4E3\"}, \"line\": {\"color\": \"white\"}}, \"type\": \"table\"}]}, \"layout\": {\"annotationdefaults\": {\"arrowcolor\": \"#2a3f5f\", \"arrowhead\": 0, \"arrowwidth\": 1}, \"coloraxis\": {\"colorbar\": {\"outlinewidth\": 0, \"ticks\": \"\"}}, \"colorscale\": {\"diverging\": [[0, \"#8e0152\"], [0.1, \"#c51b7d\"], [0.2, \"#de77ae\"], [0.3, \"#f1b6da\"], [0.4, \"#fde0ef\"], [0.5, \"#f7f7f7\"], [0.6, \"#e6f5d0\"], [0.7, \"#b8e186\"], [0.8, \"#7fbc41\"], [0.9, \"#4d9221\"], [1, \"#276419\"]], \"sequential\": [[0.0, \"#0d0887\"], [0.1111111111111111, \"#46039f\"], [0.2222222222222222, \"#7201a8\"], [0.3333333333333333, \"#9c179e\"], [0.4444444444444444, \"#bd3786\"], [0.5555555555555556, \"#d8576b\"], [0.6666666666666666, \"#ed7953\"], [0.7777777777777778, \"#fb9f3a\"], [0.8888888888888888, \"#fdca26\"], [1.0, \"#f0f921\"]], \"sequentialminus\": [[0.0, \"#0d0887\"], [0.1111111111111111, \"#46039f\"], [0.2222222222222222, \"#7201a8\"], [0.3333333333333333, \"#9c179e\"], [0.4444444444444444, \"#bd3786\"], [0.5555555555555556, \"#d8576b\"], [0.6666666666666666, \"#ed7953\"], [0.7777777777777778, \"#fb9f3a\"], [0.8888888888888888, \"#fdca26\"], [1.0, \"#f0f921\"]]}, \"colorway\": [\"#636efa\", \"#EF553B\", \"#00cc96\", \"#ab63fa\", \"#FFA15A\", \"#19d3f3\", \"#FF6692\", \"#B6E880\", \"#FF97FF\", \"#FECB52\"], \"font\": {\"color\": \"#2a3f5f\"}, \"geo\": {\"bgcolor\": \"white\", \"lakecolor\": \"white\", \"landcolor\": \"#E5ECF6\", \"showlakes\": true, \"showland\": true, \"subunitcolor\": \"white\"}, \"hoverlabel\": {\"align\": \"left\"}, \"hovermode\": \"closest\", \"mapbox\": {\"style\": \"light\"}, \"paper_bgcolor\": \"white\", \"plot_bgcolor\": \"#E5ECF6\", \"polar\": {\"angularaxis\": {\"gridcolor\": \"white\", \"linecolor\": \"white\", \"ticks\": \"\"}, \"bgcolor\": \"#E5ECF6\", \"radialaxis\": {\"gridcolor\": \"white\", \"linecolor\": \"white\", \"ticks\": \"\"}}, \"scene\": {\"xaxis\": {\"backgroundcolor\": \"#E5ECF6\", \"gridcolor\": \"white\", \"gridwidth\": 2, \"linecolor\": \"white\", \"showbackground\": true, \"ticks\": \"\", \"zerolinecolor\": \"white\"}, \"yaxis\": {\"backgroundcolor\": \"#E5ECF6\", \"gridcolor\": \"white\", \"gridwidth\": 2, \"linecolor\": \"white\", \"showbackground\": true, \"ticks\": \"\", \"zerolinecolor\": \"white\"}, \"zaxis\": {\"backgroundcolor\": \"#E5ECF6\", \"gridcolor\": \"white\", \"gridwidth\": 2, \"linecolor\": \"white\", \"showbackground\": true, \"ticks\": \"\", \"zerolinecolor\": \"white\"}}, \"shapedefaults\": {\"line\": {\"color\": \"#2a3f5f\"}}, \"ternary\": {\"aaxis\": {\"gridcolor\": \"white\", \"linecolor\": \"white\", \"ticks\": \"\"}, \"baxis\": {\"gridcolor\": \"white\", \"linecolor\": \"white\", \"ticks\": \"\"}, \"bgcolor\": \"#E5ECF6\", \"caxis\": {\"gridcolor\": \"white\", \"linecolor\": \"white\", \"ticks\": \"\"}}, \"title\": {\"x\": 0.05}, \"xaxis\": {\"automargin\": true, \"gridcolor\": \"white\", \"linecolor\": \"white\", \"ticks\": \"\", \"title\": {\"standoff\": 15}, \"zerolinecolor\": \"white\", \"zerolinewidth\": 2}, \"yaxis\": {\"automargin\": true, \"gridcolor\": \"white\", \"linecolor\": \"white\", \"ticks\": \"\", \"title\": {\"standoff\": 15}, \"zerolinecolor\": \"white\", \"zerolinewidth\": 2}}}, \"title\": {\"text\": \"Contour Plot\"}, \"xaxis\": {\"range\": [-0.029950911410505314, 0.7616126642596711], \"title\": {\"text\": \"dropout\"}}, \"yaxis\": {\"range\": [-72.55000000000001, 2139.55], \"title\": {\"text\": \"units\"}}},\n",
              "                        {\"responsive\": true}\n",
              "                    ).then(function(){\n",
              "                            \n",
              "var gd = document.getElementById('9d0c831f-e8f0-448b-8d42-1ed22da51a2d');\n",
              "var x = new MutationObserver(function (mutations, observer) {{\n",
              "        var display = window.getComputedStyle(gd).display;\n",
              "        if (!display || display === 'none') {{\n",
              "            console.log([gd, 'removed!']);\n",
              "            Plotly.purge(gd);\n",
              "            observer.disconnect();\n",
              "        }}\n",
              "}});\n",
              "\n",
              "// Listen for the removal of the full notebook cells\n",
              "var notebookContainer = gd.closest('#notebook-container');\n",
              "if (notebookContainer) {{\n",
              "    x.observe(notebookContainer, {childList: true});\n",
              "}}\n",
              "\n",
              "// Listen for the clearing of the current output cell\n",
              "var outputEl = gd.closest('.output');\n",
              "if (outputEl) {{\n",
              "    x.observe(outputEl, {childList: true});\n",
              "}}\n",
              "\n",
              "                        })\n",
              "                };\n",
              "                \n",
              "            </script>\n",
              "        </div>\n",
              "</body>\n",
              "</html>"
            ]
          },
          "metadata": {
            "tags": []
          }
        }
      ]
    },
    {
      "cell_type": "code",
      "metadata": {
        "colab": {
          "base_uri": "https://localhost:8080/",
          "height": 542
        },
        "id": "suLZiqGM7kH1",
        "outputId": "41d5dc64-f8b3-4580-eb65-5f4c106dd79a"
      },
      "source": [
        "from optuna.visualization import plot_slice\r\n",
        "\r\n",
        "plot_slice(study)"
      ],
      "execution_count": null,
      "outputs": [
        {
          "output_type": "display_data",
          "data": {
            "text/html": [
              "<html>\n",
              "<head><meta charset=\"utf-8\" /></head>\n",
              "<body>\n",
              "    <div>\n",
              "            <script src=\"https://cdnjs.cloudflare.com/ajax/libs/mathjax/2.7.5/MathJax.js?config=TeX-AMS-MML_SVG\"></script><script type=\"text/javascript\">if (window.MathJax) {MathJax.Hub.Config({SVG: {font: \"STIX-Web\"}});}</script>\n",
              "                <script type=\"text/javascript\">window.PlotlyConfig = {MathJaxConfig: 'local'};</script>\n",
              "        <script src=\"https://cdn.plot.ly/plotly-latest.min.js\"></script>    \n",
              "            <div id=\"06911f6e-138a-4037-9cf3-75ee29f99271\" class=\"plotly-graph-div\" style=\"height:525px; width:1200px;\"></div>\n",
              "            <script type=\"text/javascript\">\n",
              "                \n",
              "                    window.PLOTLYENV=window.PLOTLYENV || {};\n",
              "                    \n",
              "                if (document.getElementById(\"06911f6e-138a-4037-9cf3-75ee29f99271\")) {\n",
              "                    Plotly.newPlot(\n",
              "                        '06911f6e-138a-4037-9cf3-75ee29f99271',\n",
              "                        [{\"marker\": {\"color\": [0, 1, 2, 3, 4, 5, 6, 7, 8, 9, 10, 11, 12, 13, 14, 15, 16, 17, 18, 19], \"colorbar\": {\"title\": {\"text\": \"#Trials\"}, \"x\": 1.0, \"xpad\": 40}, \"colorscale\": [[0.0, \"rgb(247,251,255)\"], [0.125, \"rgb(222,235,247)\"], [0.25, \"rgb(198,219,239)\"], [0.375, \"rgb(158,202,225)\"], [0.5, \"rgb(107,174,214)\"], [0.625, \"rgb(66,146,198)\"], [0.75, \"rgb(33,113,181)\"], [0.875, \"rgb(8,81,156)\"], [1.0, \"rgb(8,48,107)\"]], \"line\": {\"color\": \"Grey\", \"width\": 0.5}, \"showscale\": true}, \"mode\": \"markers\", \"showlegend\": false, \"type\": \"scatter\", \"x\": [\"relu\", \"sigmoid\", \"relu\", \"sigmoid\", \"linear\", \"sigmoid\", \"sigmoid\", \"sigmoid\", \"relu\", \"linear\", \"relu\", \"relu\", \"relu\", \"relu\", \"relu\", \"relu\", \"relu\", \"linear\", \"relu\", \"relu\"], \"xaxis\": \"x\", \"y\": [0.045244988054037094, 0.8583734035491943, 0.11039497703313828, 0.8591107130050659, 0.8503291606903076, 0.8554579615592957, 0.8648902177810669, 0.8571761846542358, 0.02196807600557804, 0.8514925837516785, 0.011738891713321209, 0.3127578794956207, 0.010222656652331352, 0.011491762474179268, 0.020757462829351425, 0.8637469410896301, 0.014141112565994263, 0.8540076613426208, 0.024586739018559456, 0.8429388403892517], \"yaxis\": \"y\"}, {\"marker\": {\"color\": [0, 1, 2, 3, 4, 5, 6, 7, 8, 9, 10, 11, 12, 13, 14, 15, 16, 17, 18, 19], \"colorbar\": {\"title\": {\"text\": \"#Trials\"}, \"x\": 1.0, \"xpad\": 40}, \"colorscale\": [[0.0, \"rgb(247,251,255)\"], [0.125, \"rgb(222,235,247)\"], [0.25, \"rgb(198,219,239)\"], [0.375, \"rgb(158,202,225)\"], [0.5, \"rgb(107,174,214)\"], [0.625, \"rgb(66,146,198)\"], [0.75, \"rgb(33,113,181)\"], [0.875, \"rgb(8,81,156)\"], [1.0, \"rgb(8,48,107)\"]], \"line\": {\"color\": \"Grey\", \"width\": 0.5}, \"showscale\": false}, \"mode\": \"markers\", \"showlegend\": false, \"type\": \"scatter\", \"x\": [0.4810814801190188, 0.27260294861256523, 0.29203547920527795, 0.014968432626955597, 0.4208085086952463, 0.7256325017292086, 0.27770609789934103, 0.3686856279955417, 0.1260605609179243, 0.1275238600416694, 0.03182466491719216, 0.006029251119957252, 0.1229937659470397, 0.13455494341597218, 0.1579817653205578, 0.5985297228248626, 0.1827994885957162, 0.08887364593127349, 0.26447691038990506, 0.5098522782585017], \"xaxis\": \"x2\", \"y\": [0.045244988054037094, 0.8583734035491943, 0.11039497703313828, 0.8591107130050659, 0.8503291606903076, 0.8554579615592957, 0.8648902177810669, 0.8571761846542358, 0.02196807600557804, 0.8514925837516785, 0.011738891713321209, 0.3127578794956207, 0.010222656652331352, 0.011491762474179268, 0.020757462829351425, 0.8637469410896301, 0.014141112565994263, 0.8540076613426208, 0.024586739018559456, 0.8429388403892517], \"yaxis\": \"y2\"}, {\"marker\": {\"color\": [0, 1, 2, 3, 4, 5, 6, 7, 8, 9, 10, 11, 12, 13, 14, 15, 16, 17, 18, 19], \"colorbar\": {\"title\": {\"text\": \"#Trials\"}, \"x\": 1.0, \"xpad\": 40}, \"colorscale\": [[0.0, \"rgb(247,251,255)\"], [0.125, \"rgb(222,235,247)\"], [0.25, \"rgb(198,219,239)\"], [0.375, \"rgb(158,202,225)\"], [0.5, \"rgb(107,174,214)\"], [0.625, \"rgb(66,146,198)\"], [0.75, \"rgb(33,113,181)\"], [0.875, \"rgb(8,81,156)\"], [1.0, \"rgb(8,48,107)\"]], \"line\": {\"color\": \"Grey\", \"width\": 0.5}, \"showscale\": false}, \"mode\": \"markers\", \"showlegend\": false, \"type\": \"scatter\", \"x\": [0.013430079749926981, 0.05925974058521353, 0.05600259642183213, 1.1702106381995107e-05, 0.008859400485777493, 0.0036302705798702062, 0.030109814477727814, 0.005947818646941644, 0.006955525882519313, 0.044052254269271646, 0.0002659409804060432, 0.00011748755179107809, 0.00032017926706975815, 0.0002699795885692738, 0.00040193412199978127, 4.958523314732827e-05, 0.001098135371979857, 1.4225103132573321e-05, 0.001379956800906502, 4.1967570325508134e-05], \"xaxis\": \"x3\", \"y\": [0.045244988054037094, 0.8583734035491943, 0.11039497703313828, 0.8591107130050659, 0.8503291606903076, 0.8554579615592957, 0.8648902177810669, 0.8571761846542358, 0.02196807600557804, 0.8514925837516785, 0.011738891713321209, 0.3127578794956207, 0.010222656652331352, 0.011491762474179268, 0.020757462829351425, 0.8637469410896301, 0.014141112565994263, 0.8540076613426208, 0.024586739018559456, 0.8429388403892517], \"yaxis\": \"y3\"}, {\"marker\": {\"color\": [0, 1, 2, 3, 4, 5, 6, 7, 8, 9, 10, 11, 12, 13, 14, 15, 16, 17, 18, 19], \"colorbar\": {\"title\": {\"text\": \"#Trials\"}, \"x\": 1.0, \"xpad\": 40}, \"colorscale\": [[0.0, \"rgb(247,251,255)\"], [0.125, \"rgb(222,235,247)\"], [0.25, \"rgb(198,219,239)\"], [0.375, \"rgb(158,202,225)\"], [0.5, \"rgb(107,174,214)\"], [0.625, \"rgb(66,146,198)\"], [0.75, \"rgb(33,113,181)\"], [0.875, \"rgb(8,81,156)\"], [1.0, \"rgb(8,48,107)\"]], \"line\": {\"color\": \"Grey\", \"width\": 0.5}, \"showscale\": false}, \"mode\": \"markers\", \"showlegend\": false, \"type\": \"scatter\", \"x\": [1091.0, 294.0, 310.0, 440.0, 976.0, 883.0, 1068.0, 1040.0, 682.0, 1299.0, 1970.0, 1906.0, 2039.0, 1985.0, 1607.0, 1531.0, 1768.0, 2014.0, 1423.0, 28.0], \"xaxis\": \"x4\", \"y\": [0.045244988054037094, 0.8583734035491943, 0.11039497703313828, 0.8591107130050659, 0.8503291606903076, 0.8554579615592957, 0.8648902177810669, 0.8571761846542358, 0.02196807600557804, 0.8514925837516785, 0.011738891713321209, 0.3127578794956207, 0.010222656652331352, 0.011491762474179268, 0.020757462829351425, 0.8637469410896301, 0.014141112565994263, 0.8540076613426208, 0.024586739018559456, 0.8429388403892517], \"yaxis\": \"y4\"}],\n",
              "                        {\"template\": {\"data\": {\"bar\": [{\"error_x\": {\"color\": \"#2a3f5f\"}, \"error_y\": {\"color\": \"#2a3f5f\"}, \"marker\": {\"line\": {\"color\": \"#E5ECF6\", \"width\": 0.5}}, \"type\": \"bar\"}], \"barpolar\": [{\"marker\": {\"line\": {\"color\": \"#E5ECF6\", \"width\": 0.5}}, \"type\": \"barpolar\"}], \"carpet\": [{\"aaxis\": {\"endlinecolor\": \"#2a3f5f\", \"gridcolor\": \"white\", \"linecolor\": \"white\", \"minorgridcolor\": \"white\", \"startlinecolor\": \"#2a3f5f\"}, \"baxis\": {\"endlinecolor\": \"#2a3f5f\", \"gridcolor\": \"white\", \"linecolor\": \"white\", \"minorgridcolor\": \"white\", \"startlinecolor\": \"#2a3f5f\"}, \"type\": \"carpet\"}], \"choropleth\": [{\"colorbar\": {\"outlinewidth\": 0, \"ticks\": \"\"}, \"type\": \"choropleth\"}], \"contour\": [{\"colorbar\": {\"outlinewidth\": 0, \"ticks\": \"\"}, \"colorscale\": [[0.0, \"#0d0887\"], [0.1111111111111111, \"#46039f\"], [0.2222222222222222, \"#7201a8\"], [0.3333333333333333, \"#9c179e\"], [0.4444444444444444, \"#bd3786\"], [0.5555555555555556, \"#d8576b\"], [0.6666666666666666, \"#ed7953\"], [0.7777777777777778, \"#fb9f3a\"], [0.8888888888888888, \"#fdca26\"], [1.0, \"#f0f921\"]], \"type\": \"contour\"}], \"contourcarpet\": [{\"colorbar\": {\"outlinewidth\": 0, \"ticks\": \"\"}, \"type\": \"contourcarpet\"}], \"heatmap\": [{\"colorbar\": {\"outlinewidth\": 0, \"ticks\": \"\"}, \"colorscale\": [[0.0, \"#0d0887\"], [0.1111111111111111, \"#46039f\"], [0.2222222222222222, \"#7201a8\"], [0.3333333333333333, \"#9c179e\"], [0.4444444444444444, \"#bd3786\"], [0.5555555555555556, \"#d8576b\"], [0.6666666666666666, \"#ed7953\"], [0.7777777777777778, \"#fb9f3a\"], [0.8888888888888888, \"#fdca26\"], [1.0, \"#f0f921\"]], \"type\": \"heatmap\"}], \"heatmapgl\": [{\"colorbar\": {\"outlinewidth\": 0, \"ticks\": \"\"}, \"colorscale\": [[0.0, \"#0d0887\"], [0.1111111111111111, \"#46039f\"], [0.2222222222222222, \"#7201a8\"], [0.3333333333333333, \"#9c179e\"], [0.4444444444444444, \"#bd3786\"], [0.5555555555555556, \"#d8576b\"], [0.6666666666666666, \"#ed7953\"], [0.7777777777777778, \"#fb9f3a\"], [0.8888888888888888, \"#fdca26\"], [1.0, \"#f0f921\"]], \"type\": \"heatmapgl\"}], \"histogram\": [{\"marker\": {\"colorbar\": {\"outlinewidth\": 0, \"ticks\": \"\"}}, \"type\": \"histogram\"}], \"histogram2d\": [{\"colorbar\": {\"outlinewidth\": 0, \"ticks\": \"\"}, \"colorscale\": [[0.0, \"#0d0887\"], [0.1111111111111111, \"#46039f\"], [0.2222222222222222, \"#7201a8\"], [0.3333333333333333, \"#9c179e\"], [0.4444444444444444, \"#bd3786\"], [0.5555555555555556, \"#d8576b\"], [0.6666666666666666, \"#ed7953\"], [0.7777777777777778, \"#fb9f3a\"], [0.8888888888888888, \"#fdca26\"], [1.0, \"#f0f921\"]], \"type\": \"histogram2d\"}], \"histogram2dcontour\": [{\"colorbar\": {\"outlinewidth\": 0, \"ticks\": \"\"}, \"colorscale\": [[0.0, \"#0d0887\"], [0.1111111111111111, \"#46039f\"], [0.2222222222222222, \"#7201a8\"], [0.3333333333333333, \"#9c179e\"], [0.4444444444444444, \"#bd3786\"], [0.5555555555555556, \"#d8576b\"], [0.6666666666666666, \"#ed7953\"], [0.7777777777777778, \"#fb9f3a\"], [0.8888888888888888, \"#fdca26\"], [1.0, \"#f0f921\"]], \"type\": \"histogram2dcontour\"}], \"mesh3d\": [{\"colorbar\": {\"outlinewidth\": 0, \"ticks\": \"\"}, \"type\": \"mesh3d\"}], \"parcoords\": [{\"line\": {\"colorbar\": {\"outlinewidth\": 0, \"ticks\": \"\"}}, \"type\": \"parcoords\"}], \"pie\": [{\"automargin\": true, \"type\": \"pie\"}], \"scatter\": [{\"marker\": {\"colorbar\": {\"outlinewidth\": 0, \"ticks\": \"\"}}, \"type\": \"scatter\"}], \"scatter3d\": [{\"line\": {\"colorbar\": {\"outlinewidth\": 0, \"ticks\": \"\"}}, \"marker\": {\"colorbar\": {\"outlinewidth\": 0, \"ticks\": \"\"}}, \"type\": \"scatter3d\"}], \"scattercarpet\": [{\"marker\": {\"colorbar\": {\"outlinewidth\": 0, \"ticks\": \"\"}}, \"type\": \"scattercarpet\"}], \"scattergeo\": [{\"marker\": {\"colorbar\": {\"outlinewidth\": 0, \"ticks\": \"\"}}, \"type\": \"scattergeo\"}], \"scattergl\": [{\"marker\": {\"colorbar\": {\"outlinewidth\": 0, \"ticks\": \"\"}}, \"type\": \"scattergl\"}], \"scattermapbox\": [{\"marker\": {\"colorbar\": {\"outlinewidth\": 0, \"ticks\": \"\"}}, \"type\": \"scattermapbox\"}], \"scatterpolar\": [{\"marker\": {\"colorbar\": {\"outlinewidth\": 0, \"ticks\": \"\"}}, \"type\": \"scatterpolar\"}], \"scatterpolargl\": [{\"marker\": {\"colorbar\": {\"outlinewidth\": 0, \"ticks\": \"\"}}, \"type\": \"scatterpolargl\"}], \"scatterternary\": [{\"marker\": {\"colorbar\": {\"outlinewidth\": 0, \"ticks\": \"\"}}, \"type\": \"scatterternary\"}], \"surface\": [{\"colorbar\": {\"outlinewidth\": 0, \"ticks\": \"\"}, \"colorscale\": [[0.0, \"#0d0887\"], [0.1111111111111111, \"#46039f\"], [0.2222222222222222, \"#7201a8\"], [0.3333333333333333, \"#9c179e\"], [0.4444444444444444, \"#bd3786\"], [0.5555555555555556, \"#d8576b\"], [0.6666666666666666, \"#ed7953\"], [0.7777777777777778, \"#fb9f3a\"], [0.8888888888888888, \"#fdca26\"], [1.0, \"#f0f921\"]], \"type\": \"surface\"}], \"table\": [{\"cells\": {\"fill\": {\"color\": \"#EBF0F8\"}, \"line\": {\"color\": \"white\"}}, \"header\": {\"fill\": {\"color\": \"#C8D4E3\"}, \"line\": {\"color\": \"white\"}}, \"type\": \"table\"}]}, \"layout\": {\"annotationdefaults\": {\"arrowcolor\": \"#2a3f5f\", \"arrowhead\": 0, \"arrowwidth\": 1}, \"coloraxis\": {\"colorbar\": {\"outlinewidth\": 0, \"ticks\": \"\"}}, \"colorscale\": {\"diverging\": [[0, \"#8e0152\"], [0.1, \"#c51b7d\"], [0.2, \"#de77ae\"], [0.3, \"#f1b6da\"], [0.4, \"#fde0ef\"], [0.5, \"#f7f7f7\"], [0.6, \"#e6f5d0\"], [0.7, \"#b8e186\"], [0.8, \"#7fbc41\"], [0.9, \"#4d9221\"], [1, \"#276419\"]], \"sequential\": [[0.0, \"#0d0887\"], [0.1111111111111111, \"#46039f\"], [0.2222222222222222, \"#7201a8\"], [0.3333333333333333, \"#9c179e\"], [0.4444444444444444, \"#bd3786\"], [0.5555555555555556, \"#d8576b\"], [0.6666666666666666, \"#ed7953\"], [0.7777777777777778, \"#fb9f3a\"], [0.8888888888888888, \"#fdca26\"], [1.0, \"#f0f921\"]], \"sequentialminus\": [[0.0, \"#0d0887\"], [0.1111111111111111, \"#46039f\"], [0.2222222222222222, \"#7201a8\"], [0.3333333333333333, \"#9c179e\"], [0.4444444444444444, \"#bd3786\"], [0.5555555555555556, \"#d8576b\"], [0.6666666666666666, \"#ed7953\"], [0.7777777777777778, \"#fb9f3a\"], [0.8888888888888888, \"#fdca26\"], [1.0, \"#f0f921\"]]}, \"colorway\": [\"#636efa\", \"#EF553B\", \"#00cc96\", \"#ab63fa\", \"#FFA15A\", \"#19d3f3\", \"#FF6692\", \"#B6E880\", \"#FF97FF\", \"#FECB52\"], \"font\": {\"color\": \"#2a3f5f\"}, \"geo\": {\"bgcolor\": \"white\", \"lakecolor\": \"white\", \"landcolor\": \"#E5ECF6\", \"showlakes\": true, \"showland\": true, \"subunitcolor\": \"white\"}, \"hoverlabel\": {\"align\": \"left\"}, \"hovermode\": \"closest\", \"mapbox\": {\"style\": \"light\"}, \"paper_bgcolor\": \"white\", \"plot_bgcolor\": \"#E5ECF6\", \"polar\": {\"angularaxis\": {\"gridcolor\": \"white\", \"linecolor\": \"white\", \"ticks\": \"\"}, \"bgcolor\": \"#E5ECF6\", \"radialaxis\": {\"gridcolor\": \"white\", \"linecolor\": \"white\", \"ticks\": \"\"}}, \"scene\": {\"xaxis\": {\"backgroundcolor\": \"#E5ECF6\", \"gridcolor\": \"white\", \"gridwidth\": 2, \"linecolor\": \"white\", \"showbackground\": true, \"ticks\": \"\", \"zerolinecolor\": \"white\"}, \"yaxis\": {\"backgroundcolor\": \"#E5ECF6\", \"gridcolor\": \"white\", \"gridwidth\": 2, \"linecolor\": \"white\", \"showbackground\": true, \"ticks\": \"\", \"zerolinecolor\": \"white\"}, \"zaxis\": {\"backgroundcolor\": \"#E5ECF6\", \"gridcolor\": \"white\", \"gridwidth\": 2, \"linecolor\": \"white\", \"showbackground\": true, \"ticks\": \"\", \"zerolinecolor\": \"white\"}}, \"shapedefaults\": {\"line\": {\"color\": \"#2a3f5f\"}}, \"ternary\": {\"aaxis\": {\"gridcolor\": \"white\", \"linecolor\": \"white\", \"ticks\": \"\"}, \"baxis\": {\"gridcolor\": \"white\", \"linecolor\": \"white\", \"ticks\": \"\"}, \"bgcolor\": \"#E5ECF6\", \"caxis\": {\"gridcolor\": \"white\", \"linecolor\": \"white\", \"ticks\": \"\"}}, \"title\": {\"x\": 0.05}, \"xaxis\": {\"automargin\": true, \"gridcolor\": \"white\", \"linecolor\": \"white\", \"ticks\": \"\", \"title\": {\"standoff\": 15}, \"zerolinecolor\": \"white\", \"zerolinewidth\": 2}, \"yaxis\": {\"automargin\": true, \"gridcolor\": \"white\", \"linecolor\": \"white\", \"ticks\": \"\", \"title\": {\"standoff\": 15}, \"zerolinecolor\": \"white\", \"zerolinewidth\": 2}}}, \"title\": {\"text\": \"Slice Plot\"}, \"width\": 1200, \"xaxis\": {\"anchor\": \"y\", \"domain\": [0.0, 0.2125], \"title\": {\"text\": \"activation\"}}, \"xaxis2\": {\"anchor\": \"y2\", \"domain\": [0.2625, 0.475], \"title\": {\"text\": \"dropout\"}}, \"xaxis3\": {\"anchor\": \"y3\", \"domain\": [0.525, 0.7375], \"title\": {\"text\": \"lr\"}, \"type\": \"log\"}, \"xaxis4\": {\"anchor\": \"y4\", \"domain\": [0.7875, 1.0], \"title\": {\"text\": \"units\"}}, \"yaxis\": {\"anchor\": \"x\", \"domain\": [0.0, 1.0], \"title\": {\"text\": \"Objective Value\"}}, \"yaxis2\": {\"anchor\": \"x2\", \"domain\": [0.0, 1.0], \"matches\": \"y\", \"showticklabels\": false}, \"yaxis3\": {\"anchor\": \"x3\", \"domain\": [0.0, 1.0], \"matches\": \"y\", \"showticklabels\": false}, \"yaxis4\": {\"anchor\": \"x4\", \"domain\": [0.0, 1.0], \"matches\": \"y\", \"showticklabels\": false}},\n",
              "                        {\"responsive\": true}\n",
              "                    ).then(function(){\n",
              "                            \n",
              "var gd = document.getElementById('06911f6e-138a-4037-9cf3-75ee29f99271');\n",
              "var x = new MutationObserver(function (mutations, observer) {{\n",
              "        var display = window.getComputedStyle(gd).display;\n",
              "        if (!display || display === 'none') {{\n",
              "            console.log([gd, 'removed!']);\n",
              "            Plotly.purge(gd);\n",
              "            observer.disconnect();\n",
              "        }}\n",
              "}});\n",
              "\n",
              "// Listen for the removal of the full notebook cells\n",
              "var notebookContainer = gd.closest('#notebook-container');\n",
              "if (notebookContainer) {{\n",
              "    x.observe(notebookContainer, {childList: true});\n",
              "}}\n",
              "\n",
              "// Listen for the clearing of the current output cell\n",
              "var outputEl = gd.closest('.output');\n",
              "if (outputEl) {{\n",
              "    x.observe(outputEl, {childList: true});\n",
              "}}\n",
              "\n",
              "                        })\n",
              "                };\n",
              "                \n",
              "            </script>\n",
              "        </div>\n",
              "</body>\n",
              "</html>"
            ]
          },
          "metadata": {
            "tags": []
          }
        }
      ]
    },
    {
      "cell_type": "code",
      "metadata": {
        "colab": {
          "base_uri": "https://localhost:8080/",
          "height": 542
        },
        "id": "tnDaGDkM7msW",
        "outputId": "72aa8c9b-bab0-444b-a835-4fbb894cc20b"
      },
      "source": [
        "plot_slice(study, params=['units', 'dropout'])"
      ],
      "execution_count": null,
      "outputs": [
        {
          "output_type": "display_data",
          "data": {
            "text/html": [
              "<html>\n",
              "<head><meta charset=\"utf-8\" /></head>\n",
              "<body>\n",
              "    <div>\n",
              "            <script src=\"https://cdnjs.cloudflare.com/ajax/libs/mathjax/2.7.5/MathJax.js?config=TeX-AMS-MML_SVG\"></script><script type=\"text/javascript\">if (window.MathJax) {MathJax.Hub.Config({SVG: {font: \"STIX-Web\"}});}</script>\n",
              "                <script type=\"text/javascript\">window.PlotlyConfig = {MathJaxConfig: 'local'};</script>\n",
              "        <script src=\"https://cdn.plot.ly/plotly-latest.min.js\"></script>    \n",
              "            <div id=\"f6c1d2d3-c3bc-4992-8f17-609e6477c063\" class=\"plotly-graph-div\" style=\"height:525px; width:100%;\"></div>\n",
              "            <script type=\"text/javascript\">\n",
              "                \n",
              "                    window.PLOTLYENV=window.PLOTLYENV || {};\n",
              "                    \n",
              "                if (document.getElementById(\"f6c1d2d3-c3bc-4992-8f17-609e6477c063\")) {\n",
              "                    Plotly.newPlot(\n",
              "                        'f6c1d2d3-c3bc-4992-8f17-609e6477c063',\n",
              "                        [{\"marker\": {\"color\": [0, 1, 2, 3, 4, 5, 6, 7, 8, 9, 10, 11, 12, 13, 14, 15, 16, 17, 18, 19], \"colorbar\": {\"title\": {\"text\": \"#Trials\"}, \"x\": 1.0, \"xpad\": 40}, \"colorscale\": [[0.0, \"rgb(247,251,255)\"], [0.125, \"rgb(222,235,247)\"], [0.25, \"rgb(198,219,239)\"], [0.375, \"rgb(158,202,225)\"], [0.5, \"rgb(107,174,214)\"], [0.625, \"rgb(66,146,198)\"], [0.75, \"rgb(33,113,181)\"], [0.875, \"rgb(8,81,156)\"], [1.0, \"rgb(8,48,107)\"]], \"line\": {\"color\": \"Grey\", \"width\": 0.5}, \"showscale\": true}, \"mode\": \"markers\", \"showlegend\": false, \"type\": \"scatter\", \"x\": [0.4810814801190188, 0.27260294861256523, 0.29203547920527795, 0.014968432626955597, 0.4208085086952463, 0.7256325017292086, 0.27770609789934103, 0.3686856279955417, 0.1260605609179243, 0.1275238600416694, 0.03182466491719216, 0.006029251119957252, 0.1229937659470397, 0.13455494341597218, 0.1579817653205578, 0.5985297228248626, 0.1827994885957162, 0.08887364593127349, 0.26447691038990506, 0.5098522782585017], \"xaxis\": \"x\", \"y\": [0.045244988054037094, 0.8583734035491943, 0.11039497703313828, 0.8591107130050659, 0.8503291606903076, 0.8554579615592957, 0.8648902177810669, 0.8571761846542358, 0.02196807600557804, 0.8514925837516785, 0.011738891713321209, 0.3127578794956207, 0.010222656652331352, 0.011491762474179268, 0.020757462829351425, 0.8637469410896301, 0.014141112565994263, 0.8540076613426208, 0.024586739018559456, 0.8429388403892517], \"yaxis\": \"y\"}, {\"marker\": {\"color\": [0, 1, 2, 3, 4, 5, 6, 7, 8, 9, 10, 11, 12, 13, 14, 15, 16, 17, 18, 19], \"colorbar\": {\"title\": {\"text\": \"#Trials\"}, \"x\": 1.0, \"xpad\": 40}, \"colorscale\": [[0.0, \"rgb(247,251,255)\"], [0.125, \"rgb(222,235,247)\"], [0.25, \"rgb(198,219,239)\"], [0.375, \"rgb(158,202,225)\"], [0.5, \"rgb(107,174,214)\"], [0.625, \"rgb(66,146,198)\"], [0.75, \"rgb(33,113,181)\"], [0.875, \"rgb(8,81,156)\"], [1.0, \"rgb(8,48,107)\"]], \"line\": {\"color\": \"Grey\", \"width\": 0.5}, \"showscale\": false}, \"mode\": \"markers\", \"showlegend\": false, \"type\": \"scatter\", \"x\": [1091.0, 294.0, 310.0, 440.0, 976.0, 883.0, 1068.0, 1040.0, 682.0, 1299.0, 1970.0, 1906.0, 2039.0, 1985.0, 1607.0, 1531.0, 1768.0, 2014.0, 1423.0, 28.0], \"xaxis\": \"x2\", \"y\": [0.045244988054037094, 0.8583734035491943, 0.11039497703313828, 0.8591107130050659, 0.8503291606903076, 0.8554579615592957, 0.8648902177810669, 0.8571761846542358, 0.02196807600557804, 0.8514925837516785, 0.011738891713321209, 0.3127578794956207, 0.010222656652331352, 0.011491762474179268, 0.020757462829351425, 0.8637469410896301, 0.014141112565994263, 0.8540076613426208, 0.024586739018559456, 0.8429388403892517], \"yaxis\": \"y2\"}],\n",
              "                        {\"template\": {\"data\": {\"bar\": [{\"error_x\": {\"color\": \"#2a3f5f\"}, \"error_y\": {\"color\": \"#2a3f5f\"}, \"marker\": {\"line\": {\"color\": \"#E5ECF6\", \"width\": 0.5}}, \"type\": \"bar\"}], \"barpolar\": [{\"marker\": {\"line\": {\"color\": \"#E5ECF6\", \"width\": 0.5}}, \"type\": \"barpolar\"}], \"carpet\": [{\"aaxis\": {\"endlinecolor\": \"#2a3f5f\", \"gridcolor\": \"white\", \"linecolor\": \"white\", \"minorgridcolor\": \"white\", \"startlinecolor\": \"#2a3f5f\"}, \"baxis\": {\"endlinecolor\": \"#2a3f5f\", \"gridcolor\": \"white\", \"linecolor\": \"white\", \"minorgridcolor\": \"white\", \"startlinecolor\": \"#2a3f5f\"}, \"type\": \"carpet\"}], \"choropleth\": [{\"colorbar\": {\"outlinewidth\": 0, \"ticks\": \"\"}, \"type\": \"choropleth\"}], \"contour\": [{\"colorbar\": {\"outlinewidth\": 0, \"ticks\": \"\"}, \"colorscale\": [[0.0, \"#0d0887\"], [0.1111111111111111, \"#46039f\"], [0.2222222222222222, \"#7201a8\"], [0.3333333333333333, \"#9c179e\"], [0.4444444444444444, \"#bd3786\"], [0.5555555555555556, \"#d8576b\"], [0.6666666666666666, \"#ed7953\"], [0.7777777777777778, \"#fb9f3a\"], [0.8888888888888888, \"#fdca26\"], [1.0, \"#f0f921\"]], \"type\": \"contour\"}], \"contourcarpet\": [{\"colorbar\": {\"outlinewidth\": 0, \"ticks\": \"\"}, \"type\": \"contourcarpet\"}], \"heatmap\": [{\"colorbar\": {\"outlinewidth\": 0, \"ticks\": \"\"}, \"colorscale\": [[0.0, \"#0d0887\"], [0.1111111111111111, \"#46039f\"], [0.2222222222222222, \"#7201a8\"], [0.3333333333333333, \"#9c179e\"], [0.4444444444444444, \"#bd3786\"], [0.5555555555555556, \"#d8576b\"], [0.6666666666666666, \"#ed7953\"], [0.7777777777777778, \"#fb9f3a\"], [0.8888888888888888, \"#fdca26\"], [1.0, \"#f0f921\"]], \"type\": \"heatmap\"}], \"heatmapgl\": [{\"colorbar\": {\"outlinewidth\": 0, \"ticks\": \"\"}, \"colorscale\": [[0.0, \"#0d0887\"], [0.1111111111111111, \"#46039f\"], [0.2222222222222222, \"#7201a8\"], [0.3333333333333333, \"#9c179e\"], [0.4444444444444444, \"#bd3786\"], [0.5555555555555556, \"#d8576b\"], [0.6666666666666666, \"#ed7953\"], [0.7777777777777778, \"#fb9f3a\"], [0.8888888888888888, \"#fdca26\"], [1.0, \"#f0f921\"]], \"type\": \"heatmapgl\"}], \"histogram\": [{\"marker\": {\"colorbar\": {\"outlinewidth\": 0, \"ticks\": \"\"}}, \"type\": \"histogram\"}], \"histogram2d\": [{\"colorbar\": {\"outlinewidth\": 0, \"ticks\": \"\"}, \"colorscale\": [[0.0, \"#0d0887\"], [0.1111111111111111, \"#46039f\"], [0.2222222222222222, \"#7201a8\"], [0.3333333333333333, \"#9c179e\"], [0.4444444444444444, \"#bd3786\"], [0.5555555555555556, \"#d8576b\"], [0.6666666666666666, \"#ed7953\"], [0.7777777777777778, \"#fb9f3a\"], [0.8888888888888888, \"#fdca26\"], [1.0, \"#f0f921\"]], \"type\": \"histogram2d\"}], \"histogram2dcontour\": [{\"colorbar\": {\"outlinewidth\": 0, \"ticks\": \"\"}, \"colorscale\": [[0.0, \"#0d0887\"], [0.1111111111111111, \"#46039f\"], [0.2222222222222222, \"#7201a8\"], [0.3333333333333333, \"#9c179e\"], [0.4444444444444444, \"#bd3786\"], [0.5555555555555556, \"#d8576b\"], [0.6666666666666666, \"#ed7953\"], [0.7777777777777778, \"#fb9f3a\"], [0.8888888888888888, \"#fdca26\"], [1.0, \"#f0f921\"]], \"type\": \"histogram2dcontour\"}], \"mesh3d\": [{\"colorbar\": {\"outlinewidth\": 0, \"ticks\": \"\"}, \"type\": \"mesh3d\"}], \"parcoords\": [{\"line\": {\"colorbar\": {\"outlinewidth\": 0, \"ticks\": \"\"}}, \"type\": \"parcoords\"}], \"pie\": [{\"automargin\": true, \"type\": \"pie\"}], \"scatter\": [{\"marker\": {\"colorbar\": {\"outlinewidth\": 0, \"ticks\": \"\"}}, \"type\": \"scatter\"}], \"scatter3d\": [{\"line\": {\"colorbar\": {\"outlinewidth\": 0, \"ticks\": \"\"}}, \"marker\": {\"colorbar\": {\"outlinewidth\": 0, \"ticks\": \"\"}}, \"type\": \"scatter3d\"}], \"scattercarpet\": [{\"marker\": {\"colorbar\": {\"outlinewidth\": 0, \"ticks\": \"\"}}, \"type\": \"scattercarpet\"}], \"scattergeo\": [{\"marker\": {\"colorbar\": {\"outlinewidth\": 0, \"ticks\": \"\"}}, \"type\": \"scattergeo\"}], \"scattergl\": [{\"marker\": {\"colorbar\": {\"outlinewidth\": 0, \"ticks\": \"\"}}, \"type\": \"scattergl\"}], \"scattermapbox\": [{\"marker\": {\"colorbar\": {\"outlinewidth\": 0, \"ticks\": \"\"}}, \"type\": \"scattermapbox\"}], \"scatterpolar\": [{\"marker\": {\"colorbar\": {\"outlinewidth\": 0, \"ticks\": \"\"}}, \"type\": \"scatterpolar\"}], \"scatterpolargl\": [{\"marker\": {\"colorbar\": {\"outlinewidth\": 0, \"ticks\": \"\"}}, \"type\": \"scatterpolargl\"}], \"scatterternary\": [{\"marker\": {\"colorbar\": {\"outlinewidth\": 0, \"ticks\": \"\"}}, \"type\": \"scatterternary\"}], \"surface\": [{\"colorbar\": {\"outlinewidth\": 0, \"ticks\": \"\"}, \"colorscale\": [[0.0, \"#0d0887\"], [0.1111111111111111, \"#46039f\"], [0.2222222222222222, \"#7201a8\"], [0.3333333333333333, \"#9c179e\"], [0.4444444444444444, \"#bd3786\"], [0.5555555555555556, \"#d8576b\"], [0.6666666666666666, \"#ed7953\"], [0.7777777777777778, \"#fb9f3a\"], [0.8888888888888888, \"#fdca26\"], [1.0, \"#f0f921\"]], \"type\": \"surface\"}], \"table\": [{\"cells\": {\"fill\": {\"color\": \"#EBF0F8\"}, \"line\": {\"color\": \"white\"}}, \"header\": {\"fill\": {\"color\": \"#C8D4E3\"}, \"line\": {\"color\": \"white\"}}, \"type\": \"table\"}]}, \"layout\": {\"annotationdefaults\": {\"arrowcolor\": \"#2a3f5f\", \"arrowhead\": 0, \"arrowwidth\": 1}, \"coloraxis\": {\"colorbar\": {\"outlinewidth\": 0, \"ticks\": \"\"}}, \"colorscale\": {\"diverging\": [[0, \"#8e0152\"], [0.1, \"#c51b7d\"], [0.2, \"#de77ae\"], [0.3, \"#f1b6da\"], [0.4, \"#fde0ef\"], [0.5, \"#f7f7f7\"], [0.6, \"#e6f5d0\"], [0.7, \"#b8e186\"], [0.8, \"#7fbc41\"], [0.9, \"#4d9221\"], [1, \"#276419\"]], \"sequential\": [[0.0, \"#0d0887\"], [0.1111111111111111, \"#46039f\"], [0.2222222222222222, \"#7201a8\"], [0.3333333333333333, \"#9c179e\"], [0.4444444444444444, \"#bd3786\"], [0.5555555555555556, \"#d8576b\"], [0.6666666666666666, \"#ed7953\"], [0.7777777777777778, \"#fb9f3a\"], [0.8888888888888888, \"#fdca26\"], [1.0, \"#f0f921\"]], \"sequentialminus\": [[0.0, \"#0d0887\"], [0.1111111111111111, \"#46039f\"], [0.2222222222222222, \"#7201a8\"], [0.3333333333333333, \"#9c179e\"], [0.4444444444444444, \"#bd3786\"], [0.5555555555555556, \"#d8576b\"], [0.6666666666666666, \"#ed7953\"], [0.7777777777777778, \"#fb9f3a\"], [0.8888888888888888, \"#fdca26\"], [1.0, \"#f0f921\"]]}, \"colorway\": [\"#636efa\", \"#EF553B\", \"#00cc96\", \"#ab63fa\", \"#FFA15A\", \"#19d3f3\", \"#FF6692\", \"#B6E880\", \"#FF97FF\", \"#FECB52\"], \"font\": {\"color\": \"#2a3f5f\"}, \"geo\": {\"bgcolor\": \"white\", \"lakecolor\": \"white\", \"landcolor\": \"#E5ECF6\", \"showlakes\": true, \"showland\": true, \"subunitcolor\": \"white\"}, \"hoverlabel\": {\"align\": \"left\"}, \"hovermode\": \"closest\", \"mapbox\": {\"style\": \"light\"}, \"paper_bgcolor\": \"white\", \"plot_bgcolor\": \"#E5ECF6\", \"polar\": {\"angularaxis\": {\"gridcolor\": \"white\", \"linecolor\": \"white\", \"ticks\": \"\"}, \"bgcolor\": \"#E5ECF6\", \"radialaxis\": {\"gridcolor\": \"white\", \"linecolor\": \"white\", \"ticks\": \"\"}}, \"scene\": {\"xaxis\": {\"backgroundcolor\": \"#E5ECF6\", \"gridcolor\": \"white\", \"gridwidth\": 2, \"linecolor\": \"white\", \"showbackground\": true, \"ticks\": \"\", \"zerolinecolor\": \"white\"}, \"yaxis\": {\"backgroundcolor\": \"#E5ECF6\", \"gridcolor\": \"white\", \"gridwidth\": 2, \"linecolor\": \"white\", \"showbackground\": true, \"ticks\": \"\", \"zerolinecolor\": \"white\"}, \"zaxis\": {\"backgroundcolor\": \"#E5ECF6\", \"gridcolor\": \"white\", \"gridwidth\": 2, \"linecolor\": \"white\", \"showbackground\": true, \"ticks\": \"\", \"zerolinecolor\": \"white\"}}, \"shapedefaults\": {\"line\": {\"color\": \"#2a3f5f\"}}, \"ternary\": {\"aaxis\": {\"gridcolor\": \"white\", \"linecolor\": \"white\", \"ticks\": \"\"}, \"baxis\": {\"gridcolor\": \"white\", \"linecolor\": \"white\", \"ticks\": \"\"}, \"bgcolor\": \"#E5ECF6\", \"caxis\": {\"gridcolor\": \"white\", \"linecolor\": \"white\", \"ticks\": \"\"}}, \"title\": {\"x\": 0.05}, \"xaxis\": {\"automargin\": true, \"gridcolor\": \"white\", \"linecolor\": \"white\", \"ticks\": \"\", \"title\": {\"standoff\": 15}, \"zerolinecolor\": \"white\", \"zerolinewidth\": 2}, \"yaxis\": {\"automargin\": true, \"gridcolor\": \"white\", \"linecolor\": \"white\", \"ticks\": \"\", \"title\": {\"standoff\": 15}, \"zerolinecolor\": \"white\", \"zerolinewidth\": 2}}}, \"title\": {\"text\": \"Slice Plot\"}, \"xaxis\": {\"anchor\": \"y\", \"domain\": [0.0, 0.45], \"title\": {\"text\": \"dropout\"}}, \"xaxis2\": {\"anchor\": \"y2\", \"domain\": [0.55, 1.0], \"title\": {\"text\": \"units\"}}, \"yaxis\": {\"anchor\": \"x\", \"domain\": [0.0, 1.0], \"title\": {\"text\": \"Objective Value\"}}, \"yaxis2\": {\"anchor\": \"x2\", \"domain\": [0.0, 1.0], \"matches\": \"y\", \"showticklabels\": false}},\n",
              "                        {\"responsive\": true}\n",
              "                    ).then(function(){\n",
              "                            \n",
              "var gd = document.getElementById('f6c1d2d3-c3bc-4992-8f17-609e6477c063');\n",
              "var x = new MutationObserver(function (mutations, observer) {{\n",
              "        var display = window.getComputedStyle(gd).display;\n",
              "        if (!display || display === 'none') {{\n",
              "            console.log([gd, 'removed!']);\n",
              "            Plotly.purge(gd);\n",
              "            observer.disconnect();\n",
              "        }}\n",
              "}});\n",
              "\n",
              "// Listen for the removal of the full notebook cells\n",
              "var notebookContainer = gd.closest('#notebook-container');\n",
              "if (notebookContainer) {{\n",
              "    x.observe(notebookContainer, {childList: true});\n",
              "}}\n",
              "\n",
              "// Listen for the clearing of the current output cell\n",
              "var outputEl = gd.closest('.output');\n",
              "if (outputEl) {{\n",
              "    x.observe(outputEl, {childList: true});\n",
              "}}\n",
              "\n",
              "                        })\n",
              "                };\n",
              "                \n",
              "            </script>\n",
              "        </div>\n",
              "</body>\n",
              "</html>"
            ]
          },
          "metadata": {
            "tags": []
          }
        }
      ]
    },
    {
      "cell_type": "code",
      "metadata": {
        "colab": {
          "base_uri": "https://localhost:8080/",
          "height": 542
        },
        "id": "-JuzMwIP7p5v",
        "outputId": "40c337c8-38c5-40fa-9190-f5685c919104"
      },
      "source": [
        "from optuna.visualization import plot_param_importances\r\n",
        "\r\n",
        "plot_param_importances(study)"
      ],
      "execution_count": null,
      "outputs": [
        {
          "output_type": "display_data",
          "data": {
            "text/html": [
              "<html>\n",
              "<head><meta charset=\"utf-8\" /></head>\n",
              "<body>\n",
              "    <div>\n",
              "            <script src=\"https://cdnjs.cloudflare.com/ajax/libs/mathjax/2.7.5/MathJax.js?config=TeX-AMS-MML_SVG\"></script><script type=\"text/javascript\">if (window.MathJax) {MathJax.Hub.Config({SVG: {font: \"STIX-Web\"}});}</script>\n",
              "                <script type=\"text/javascript\">window.PlotlyConfig = {MathJaxConfig: 'local'};</script>\n",
              "        <script src=\"https://cdn.plot.ly/plotly-latest.min.js\"></script>    \n",
              "            <div id=\"a34b82fc-cea8-4b96-a2c8-408bf87e68f2\" class=\"plotly-graph-div\" style=\"height:525px; width:100%;\"></div>\n",
              "            <script type=\"text/javascript\">\n",
              "                \n",
              "                    window.PLOTLYENV=window.PLOTLYENV || {};\n",
              "                    \n",
              "                if (document.getElementById(\"a34b82fc-cea8-4b96-a2c8-408bf87e68f2\")) {\n",
              "                    Plotly.newPlot(\n",
              "                        'a34b82fc-cea8-4b96-a2c8-408bf87e68f2',\n",
              "                        [{\"cliponaxis\": false, \"hovertemplate\": [\"lr (LogUniformDistribution): 0.0165289080938303<extra></extra>\", \"units (DiscreteUniformDistribution): 0.09962276229932858<extra></extra>\", \"dropout (UniformDistribution): 0.1511929576652204<extra></extra>\", \"activation (CategoricalDistribution): 0.7326553719416208<extra></extra>\"], \"marker\": {\"color\": [\"rgb(8,48,107)\", \"rgb(8,48,107)\", \"rgb(8,48,107)\", \"rgb(66,146,198)\"]}, \"orientation\": \"h\", \"text\": [\"0.0165289080938303\", \"0.09962276229932858\", \"0.1511929576652204\", \"0.7326553719416208\"], \"textposition\": \"outside\", \"texttemplate\": \"%{text:.2f}\", \"type\": \"bar\", \"x\": [0.0165289080938303, 0.09962276229932858, 0.1511929576652204, 0.7326553719416208], \"y\": [\"lr\", \"units\", \"dropout\", \"activation\"]}],\n",
              "                        {\"showlegend\": false, \"template\": {\"data\": {\"bar\": [{\"error_x\": {\"color\": \"#2a3f5f\"}, \"error_y\": {\"color\": \"#2a3f5f\"}, \"marker\": {\"line\": {\"color\": \"#E5ECF6\", \"width\": 0.5}}, \"type\": \"bar\"}], \"barpolar\": [{\"marker\": {\"line\": {\"color\": \"#E5ECF6\", \"width\": 0.5}}, \"type\": \"barpolar\"}], \"carpet\": [{\"aaxis\": {\"endlinecolor\": \"#2a3f5f\", \"gridcolor\": \"white\", \"linecolor\": \"white\", \"minorgridcolor\": \"white\", \"startlinecolor\": \"#2a3f5f\"}, \"baxis\": {\"endlinecolor\": \"#2a3f5f\", \"gridcolor\": \"white\", \"linecolor\": \"white\", \"minorgridcolor\": \"white\", \"startlinecolor\": \"#2a3f5f\"}, \"type\": \"carpet\"}], \"choropleth\": [{\"colorbar\": {\"outlinewidth\": 0, \"ticks\": \"\"}, \"type\": \"choropleth\"}], \"contour\": [{\"colorbar\": {\"outlinewidth\": 0, \"ticks\": \"\"}, \"colorscale\": [[0.0, \"#0d0887\"], [0.1111111111111111, \"#46039f\"], [0.2222222222222222, \"#7201a8\"], [0.3333333333333333, \"#9c179e\"], [0.4444444444444444, \"#bd3786\"], [0.5555555555555556, \"#d8576b\"], [0.6666666666666666, \"#ed7953\"], [0.7777777777777778, \"#fb9f3a\"], [0.8888888888888888, \"#fdca26\"], [1.0, \"#f0f921\"]], \"type\": \"contour\"}], \"contourcarpet\": [{\"colorbar\": {\"outlinewidth\": 0, \"ticks\": \"\"}, \"type\": \"contourcarpet\"}], \"heatmap\": [{\"colorbar\": {\"outlinewidth\": 0, \"ticks\": \"\"}, \"colorscale\": [[0.0, \"#0d0887\"], [0.1111111111111111, \"#46039f\"], [0.2222222222222222, \"#7201a8\"], [0.3333333333333333, \"#9c179e\"], [0.4444444444444444, \"#bd3786\"], [0.5555555555555556, \"#d8576b\"], [0.6666666666666666, \"#ed7953\"], [0.7777777777777778, \"#fb9f3a\"], [0.8888888888888888, \"#fdca26\"], [1.0, \"#f0f921\"]], \"type\": \"heatmap\"}], \"heatmapgl\": [{\"colorbar\": {\"outlinewidth\": 0, \"ticks\": \"\"}, \"colorscale\": [[0.0, \"#0d0887\"], [0.1111111111111111, \"#46039f\"], [0.2222222222222222, \"#7201a8\"], [0.3333333333333333, \"#9c179e\"], [0.4444444444444444, \"#bd3786\"], [0.5555555555555556, \"#d8576b\"], [0.6666666666666666, \"#ed7953\"], [0.7777777777777778, \"#fb9f3a\"], [0.8888888888888888, \"#fdca26\"], [1.0, \"#f0f921\"]], \"type\": \"heatmapgl\"}], \"histogram\": [{\"marker\": {\"colorbar\": {\"outlinewidth\": 0, \"ticks\": \"\"}}, \"type\": \"histogram\"}], \"histogram2d\": [{\"colorbar\": {\"outlinewidth\": 0, \"ticks\": \"\"}, \"colorscale\": [[0.0, \"#0d0887\"], [0.1111111111111111, \"#46039f\"], [0.2222222222222222, \"#7201a8\"], [0.3333333333333333, \"#9c179e\"], [0.4444444444444444, \"#bd3786\"], [0.5555555555555556, \"#d8576b\"], [0.6666666666666666, \"#ed7953\"], [0.7777777777777778, \"#fb9f3a\"], [0.8888888888888888, \"#fdca26\"], [1.0, \"#f0f921\"]], \"type\": \"histogram2d\"}], \"histogram2dcontour\": [{\"colorbar\": {\"outlinewidth\": 0, \"ticks\": \"\"}, \"colorscale\": [[0.0, \"#0d0887\"], [0.1111111111111111, \"#46039f\"], [0.2222222222222222, \"#7201a8\"], [0.3333333333333333, \"#9c179e\"], [0.4444444444444444, \"#bd3786\"], [0.5555555555555556, \"#d8576b\"], [0.6666666666666666, \"#ed7953\"], [0.7777777777777778, \"#fb9f3a\"], [0.8888888888888888, \"#fdca26\"], [1.0, \"#f0f921\"]], \"type\": \"histogram2dcontour\"}], \"mesh3d\": [{\"colorbar\": {\"outlinewidth\": 0, \"ticks\": \"\"}, \"type\": \"mesh3d\"}], \"parcoords\": [{\"line\": {\"colorbar\": {\"outlinewidth\": 0, \"ticks\": \"\"}}, \"type\": \"parcoords\"}], \"pie\": [{\"automargin\": true, \"type\": \"pie\"}], \"scatter\": [{\"marker\": {\"colorbar\": {\"outlinewidth\": 0, \"ticks\": \"\"}}, \"type\": \"scatter\"}], \"scatter3d\": [{\"line\": {\"colorbar\": {\"outlinewidth\": 0, \"ticks\": \"\"}}, \"marker\": {\"colorbar\": {\"outlinewidth\": 0, \"ticks\": \"\"}}, \"type\": \"scatter3d\"}], \"scattercarpet\": [{\"marker\": {\"colorbar\": {\"outlinewidth\": 0, \"ticks\": \"\"}}, \"type\": \"scattercarpet\"}], \"scattergeo\": [{\"marker\": {\"colorbar\": {\"outlinewidth\": 0, \"ticks\": \"\"}}, \"type\": \"scattergeo\"}], \"scattergl\": [{\"marker\": {\"colorbar\": {\"outlinewidth\": 0, \"ticks\": \"\"}}, \"type\": \"scattergl\"}], \"scattermapbox\": [{\"marker\": {\"colorbar\": {\"outlinewidth\": 0, \"ticks\": \"\"}}, \"type\": \"scattermapbox\"}], \"scatterpolar\": [{\"marker\": {\"colorbar\": {\"outlinewidth\": 0, \"ticks\": \"\"}}, \"type\": \"scatterpolar\"}], \"scatterpolargl\": [{\"marker\": {\"colorbar\": {\"outlinewidth\": 0, \"ticks\": \"\"}}, \"type\": \"scatterpolargl\"}], \"scatterternary\": [{\"marker\": {\"colorbar\": {\"outlinewidth\": 0, \"ticks\": \"\"}}, \"type\": \"scatterternary\"}], \"surface\": [{\"colorbar\": {\"outlinewidth\": 0, \"ticks\": \"\"}, \"colorscale\": [[0.0, \"#0d0887\"], [0.1111111111111111, \"#46039f\"], [0.2222222222222222, \"#7201a8\"], [0.3333333333333333, \"#9c179e\"], [0.4444444444444444, \"#bd3786\"], [0.5555555555555556, \"#d8576b\"], [0.6666666666666666, \"#ed7953\"], [0.7777777777777778, \"#fb9f3a\"], [0.8888888888888888, \"#fdca26\"], [1.0, \"#f0f921\"]], \"type\": \"surface\"}], \"table\": [{\"cells\": {\"fill\": {\"color\": \"#EBF0F8\"}, \"line\": {\"color\": \"white\"}}, \"header\": {\"fill\": {\"color\": \"#C8D4E3\"}, \"line\": {\"color\": \"white\"}}, \"type\": \"table\"}]}, \"layout\": {\"annotationdefaults\": {\"arrowcolor\": \"#2a3f5f\", \"arrowhead\": 0, \"arrowwidth\": 1}, \"coloraxis\": {\"colorbar\": {\"outlinewidth\": 0, \"ticks\": \"\"}}, \"colorscale\": {\"diverging\": [[0, \"#8e0152\"], [0.1, \"#c51b7d\"], [0.2, \"#de77ae\"], [0.3, \"#f1b6da\"], [0.4, \"#fde0ef\"], [0.5, \"#f7f7f7\"], [0.6, \"#e6f5d0\"], [0.7, \"#b8e186\"], [0.8, \"#7fbc41\"], [0.9, \"#4d9221\"], [1, \"#276419\"]], \"sequential\": [[0.0, \"#0d0887\"], [0.1111111111111111, \"#46039f\"], [0.2222222222222222, \"#7201a8\"], [0.3333333333333333, \"#9c179e\"], [0.4444444444444444, \"#bd3786\"], [0.5555555555555556, \"#d8576b\"], [0.6666666666666666, \"#ed7953\"], [0.7777777777777778, \"#fb9f3a\"], [0.8888888888888888, \"#fdca26\"], [1.0, \"#f0f921\"]], \"sequentialminus\": [[0.0, \"#0d0887\"], [0.1111111111111111, \"#46039f\"], [0.2222222222222222, \"#7201a8\"], [0.3333333333333333, \"#9c179e\"], [0.4444444444444444, \"#bd3786\"], [0.5555555555555556, \"#d8576b\"], [0.6666666666666666, \"#ed7953\"], [0.7777777777777778, \"#fb9f3a\"], [0.8888888888888888, \"#fdca26\"], [1.0, \"#f0f921\"]]}, \"colorway\": [\"#636efa\", \"#EF553B\", \"#00cc96\", \"#ab63fa\", \"#FFA15A\", \"#19d3f3\", \"#FF6692\", \"#B6E880\", \"#FF97FF\", \"#FECB52\"], \"font\": {\"color\": \"#2a3f5f\"}, \"geo\": {\"bgcolor\": \"white\", \"lakecolor\": \"white\", \"landcolor\": \"#E5ECF6\", \"showlakes\": true, \"showland\": true, \"subunitcolor\": \"white\"}, \"hoverlabel\": {\"align\": \"left\"}, \"hovermode\": \"closest\", \"mapbox\": {\"style\": \"light\"}, \"paper_bgcolor\": \"white\", \"plot_bgcolor\": \"#E5ECF6\", \"polar\": {\"angularaxis\": {\"gridcolor\": \"white\", \"linecolor\": \"white\", \"ticks\": \"\"}, \"bgcolor\": \"#E5ECF6\", \"radialaxis\": {\"gridcolor\": \"white\", \"linecolor\": \"white\", \"ticks\": \"\"}}, \"scene\": {\"xaxis\": {\"backgroundcolor\": \"#E5ECF6\", \"gridcolor\": \"white\", \"gridwidth\": 2, \"linecolor\": \"white\", \"showbackground\": true, \"ticks\": \"\", \"zerolinecolor\": \"white\"}, \"yaxis\": {\"backgroundcolor\": \"#E5ECF6\", \"gridcolor\": \"white\", \"gridwidth\": 2, \"linecolor\": \"white\", \"showbackground\": true, \"ticks\": \"\", \"zerolinecolor\": \"white\"}, \"zaxis\": {\"backgroundcolor\": \"#E5ECF6\", \"gridcolor\": \"white\", \"gridwidth\": 2, \"linecolor\": \"white\", \"showbackground\": true, \"ticks\": \"\", \"zerolinecolor\": \"white\"}}, \"shapedefaults\": {\"line\": {\"color\": \"#2a3f5f\"}}, \"ternary\": {\"aaxis\": {\"gridcolor\": \"white\", \"linecolor\": \"white\", \"ticks\": \"\"}, \"baxis\": {\"gridcolor\": \"white\", \"linecolor\": \"white\", \"ticks\": \"\"}, \"bgcolor\": \"#E5ECF6\", \"caxis\": {\"gridcolor\": \"white\", \"linecolor\": \"white\", \"ticks\": \"\"}}, \"title\": {\"x\": 0.05}, \"xaxis\": {\"automargin\": true, \"gridcolor\": \"white\", \"linecolor\": \"white\", \"ticks\": \"\", \"title\": {\"standoff\": 15}, \"zerolinecolor\": \"white\", \"zerolinewidth\": 2}, \"yaxis\": {\"automargin\": true, \"gridcolor\": \"white\", \"linecolor\": \"white\", \"ticks\": \"\", \"title\": {\"standoff\": 15}, \"zerolinecolor\": \"white\", \"zerolinewidth\": 2}}}, \"title\": {\"text\": \"Hyperparameter Importances\"}, \"xaxis\": {\"title\": {\"text\": \"Importance\"}}, \"yaxis\": {\"title\": {\"text\": \"Hyperparameter\"}}},\n",
              "                        {\"responsive\": true}\n",
              "                    ).then(function(){\n",
              "                            \n",
              "var gd = document.getElementById('a34b82fc-cea8-4b96-a2c8-408bf87e68f2');\n",
              "var x = new MutationObserver(function (mutations, observer) {{\n",
              "        var display = window.getComputedStyle(gd).display;\n",
              "        if (!display || display === 'none') {{\n",
              "            console.log([gd, 'removed!']);\n",
              "            Plotly.purge(gd);\n",
              "            observer.disconnect();\n",
              "        }}\n",
              "}});\n",
              "\n",
              "// Listen for the removal of the full notebook cells\n",
              "var notebookContainer = gd.closest('#notebook-container');\n",
              "if (notebookContainer) {{\n",
              "    x.observe(notebookContainer, {childList: true});\n",
              "}}\n",
              "\n",
              "// Listen for the clearing of the current output cell\n",
              "var outputEl = gd.closest('.output');\n",
              "if (outputEl) {{\n",
              "    x.observe(outputEl, {childList: true});\n",
              "}}\n",
              "\n",
              "                        })\n",
              "                };\n",
              "                \n",
              "            </script>\n",
              "        </div>\n",
              "</body>\n",
              "</html>"
            ]
          },
          "metadata": {
            "tags": []
          }
        }
      ]
    },
    {
      "cell_type": "code",
      "metadata": {
        "id": "j7rRlqj47wRV"
      },
      "source": [
        ""
      ],
      "execution_count": null,
      "outputs": []
    }
  ]
}