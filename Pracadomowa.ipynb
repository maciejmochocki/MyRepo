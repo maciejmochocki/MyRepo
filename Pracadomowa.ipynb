{
  "nbformat": 4,
  "nbformat_minor": 0,
  "metadata": {
    "colab": {
      "name": "Pracadomowa.ipynb",
      "provenance": [],
      "collapsed_sections": [],
      "authorship_tag": "ABX9TyNCPB28ly0DzoyhAYnEkxSS",
      "include_colab_link": true
    },
    "kernelspec": {
      "name": "python3",
      "display_name": "Python 3"
    },
    "language_info": {
      "name": "python"
    }
  },
  "cells": [
    {
      "cell_type": "markdown",
      "metadata": {
        "id": "view-in-github",
        "colab_type": "text"
      },
      "source": [
        "<a href=\"https://colab.research.google.com/github/maciejmochocki/MyRepo/blob/main/Pracadomowa.ipynb\" target=\"_parent\"><img src=\"https://colab.research.google.com/assets/colab-badge.svg\" alt=\"Open In Colab\"/></a>"
      ]
    },
    {
      "cell_type": "code",
      "metadata": {
        "id": "lHjFX4QKzO_J"
      },
      "source": [
        "import gym \n",
        "import numpy as np\n",
        "import random"
      ],
      "execution_count": 1,
      "outputs": []
    },
    {
      "cell_type": "code",
      "metadata": {
        "colab": {
          "base_uri": "https://localhost:8080/"
        },
        "id": "3vG14v5AzTDs",
        "outputId": "9b2f605f-75a8-489c-e489-5546fad2089a"
      },
      "source": [
        "env = gym.make(\"Taxi-v3\")\n",
        "env.reset()"
      ],
      "execution_count": 2,
      "outputs": [
        {
          "output_type": "execute_result",
          "data": {
            "text/plain": [
              "411"
            ]
          },
          "metadata": {
            "tags": []
          },
          "execution_count": 2
        }
      ]
    },
    {
      "cell_type": "code",
      "metadata": {
        "colab": {
          "base_uri": "https://localhost:8080/"
        },
        "id": "8PxLxHHEzYy6",
        "outputId": "fd6a5467-44ff-4a5f-aae9-705ed65a3cf5"
      },
      "source": [
        "print(env.reset())\n",
        "observation0 = env.reset()\n",
        "print(observation0)"
      ],
      "execution_count": 3,
      "outputs": [
        {
          "output_type": "stream",
          "text": [
            "323\n",
            "472\n"
          ],
          "name": "stdout"
        }
      ]
    },
    {
      "cell_type": "code",
      "metadata": {
        "colab": {
          "base_uri": "https://localhost:8080/"
        },
        "id": "zyrIAbqBzcGw",
        "outputId": "1a1f71e7-7f4a-4a75-f9e9-a17d94898766"
      },
      "source": [
        "env.reset()"
      ],
      "execution_count": 4,
      "outputs": [
        {
          "output_type": "execute_result",
          "data": {
            "text/plain": [
              "174"
            ]
          },
          "metadata": {
            "tags": []
          },
          "execution_count": 4
        }
      ]
    },
    {
      "cell_type": "code",
      "metadata": {
        "colab": {
          "base_uri": "https://localhost:8080/"
        },
        "id": "bLp2c0-V14Ap",
        "outputId": "70e2be67-37ec-4086-803c-21b7d01e8231"
      },
      "source": [
        "for t in range(100):\n",
        "  action = env.action_space.sample()\n",
        "  observation, reward, done, info = env.step(action)\n",
        "  print(t, observation, reward, done)"
      ],
      "execution_count": 7,
      "outputs": [
        {
          "output_type": "stream",
          "text": [
            "0 74 -10 False\n",
            "1 74 -10 False\n",
            "2 54 -1 False\n",
            "3 54 -1 False\n",
            "4 154 -1 False\n",
            "5 154 -10 False\n",
            "6 174 -1 False\n",
            "7 194 -1 False\n",
            "8 194 -10 False\n",
            "9 194 -10 False\n",
            "10 194 -10 False\n",
            "11 174 -1 False\n",
            "12 74 -1 False\n",
            "13 94 -1 False\n",
            "14 194 -1 False\n",
            "15 294 -1 False\n",
            "16 194 -1 False\n",
            "17 194 -1 False\n",
            "18 194 -10 False\n",
            "19 94 -1 False\n",
            "20 74 -1 False\n",
            "21 174 -1 False\n",
            "22 274 -1 False\n",
            "23 294 -1 False\n",
            "24 294 -10 False\n",
            "25 294 -10 False\n",
            "26 294 -1 False\n",
            "27 194 -1 False\n",
            "28 294 -1 False\n",
            "29 294 -10 False\n",
            "30 394 -1 False\n",
            "31 494 -1 False\n",
            "32 494 -1 False\n",
            "33 394 -1 False\n",
            "34 394 -10 False\n",
            "35 374 -1 False\n",
            "36 274 -1 False\n",
            "37 174 -1 False\n",
            "38 174 -10 False\n",
            "39 274 -1 False\n",
            "40 274 -10 False\n",
            "41 254 -1 False\n",
            "42 254 -10 False\n",
            "43 274 -1 False\n",
            "44 274 -10 False\n",
            "45 254 -1 False\n",
            "46 234 -1 False\n",
            "47 334 -1 False\n",
            "48 354 -1 False\n",
            "49 354 -10 False\n",
            "50 334 -1 False\n",
            "51 354 -1 False\n",
            "52 354 -10 False\n",
            "53 334 -1 False\n",
            "54 354 -1 False\n",
            "55 454 -1 False\n",
            "56 434 -1 False\n",
            "57 334 -1 False\n",
            "58 354 -1 False\n",
            "59 334 -1 False\n",
            "60 334 -10 False\n",
            "61 334 -1 False\n",
            "62 234 -1 False\n",
            "63 254 -1 False\n",
            "64 234 -1 False\n",
            "65 134 -1 False\n",
            "66 134 -10 False\n",
            "67 34 -1 False\n",
            "68 134 -1 False\n",
            "69 114 -1 False\n",
            "70 214 -1 False\n",
            "71 214 -1 False\n",
            "72 214 -10 False\n",
            "73 214 -10 False\n",
            "74 214 -10 False\n",
            "75 214 -10 False\n",
            "76 214 -1 False\n",
            "77 214 -10 False\n",
            "78 214 -10 False\n",
            "79 114 -1 False\n",
            "80 134 -1 False\n",
            "81 134 -1 False\n",
            "82 134 -1 False\n",
            "83 114 -1 False\n",
            "84 114 -1 False\n",
            "85 114 -10 False\n",
            "86 114 -10 False\n",
            "87 134 -1 False\n",
            "88 34 -1 False\n",
            "89 34 -10 False\n",
            "90 34 -1 False\n",
            "91 34 -1 False\n",
            "92 34 -1 False\n",
            "93 34 -10 False\n",
            "94 34 -10 False\n",
            "95 34 -10 False\n",
            "96 34 -10 False\n",
            "97 34 -10 False\n",
            "98 34 -10 False\n",
            "99 34 -1 False\n"
          ],
          "name": "stdout"
        }
      ]
    },
    {
      "cell_type": "code",
      "metadata": {
        "colab": {
          "base_uri": "https://localhost:8080/"
        },
        "id": "91YqrC288ZpU",
        "outputId": "e16f297b-f6af-4809-e429-bc14369a60d6"
      },
      "source": [
        "import time\n",
        "from IPython.display import clear_output\n",
        "clear_output(wait=True)\n",
        "env.s = 411\n",
        "env.render()\n",
        "print(env.step(2))\n",
        "time.sleep(10)\n",
        "clear_output(wait=True)\n",
        "env.render()"
      ],
      "execution_count": 11,
      "outputs": [
        {
          "output_type": "stream",
          "text": [
            "+---------+\n",
            "|R:\u001b[43m \u001b[0m| : :G|\n",
            "| : | : : |\n",
            "| : : : : |\n",
            "| | : | : |\n",
            "|\u001b[35mY\u001b[0m| : |\u001b[34;1mB\u001b[0m: |\n",
            "+---------+\n",
            "  (East)\n"
          ],
          "name": "stdout"
        }
      ]
    },
    {
      "cell_type": "code",
      "metadata": {
        "id": "gLNrEtF2Jo8d"
      },
      "source": [
        ""
      ],
      "execution_count": null,
      "outputs": []
    }
  ]
}